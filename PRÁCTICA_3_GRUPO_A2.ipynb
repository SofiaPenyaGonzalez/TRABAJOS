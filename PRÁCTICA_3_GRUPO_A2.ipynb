{
  "nbformat": 4,
  "nbformat_minor": 0,
  "metadata": {
    "colab": {
      "provenance": [],
      "include_colab_link": true
    },
    "kernelspec": {
      "name": "python3",
      "display_name": "Python 3"
    },
    "language_info": {
      "name": "python"
    }
  },
  "cells": [
    {
      "cell_type": "markdown",
      "metadata": {
        "id": "view-in-github",
        "colab_type": "text"
      },
      "source": [
        "<a href=\"https://colab.research.google.com/github/SofiaPenyaGonzalez/TRABAJOS/blob/main/PR%C3%81CTICA_3_GRUPO_A2.ipynb\" target=\"_parent\"><img src=\"https://colab.research.google.com/assets/colab-badge.svg\" alt=\"Open In Colab\"/></a>"
      ]
    },
    {
      "cell_type": "markdown",
      "source": [
        "# Algoritmos Genéticos"
      ],
      "metadata": {
        "id": "bLO4OA6bzNho"
      }
    },
    {
      "cell_type": "markdown",
      "source": [
        "## Enunciado:"
      ],
      "metadata": {
        "id": "vNqe8MegX67N"
      }
    },
    {
      "cell_type": "markdown",
      "source": [
        "1.- Encontrar los máximos de la función \"picos\"  $$\\ z=f(x,y) = 3(1-x)^2e^{-(x^2)-(y+1)^2}-10(x/5-x^3-y^5)e^{-x^2-y^2}-1/3e^{-(x+1)^2-y^2}$$\n",
        "\n",
        "En el dominio\n",
        "\n",
        "$$\\{x,y\\} \\in [−100,100] $$"
      ],
      "metadata": {
        "id": "_oHB5dxSYGzx"
      }
    },
    {
      "cell_type": "markdown",
      "source": [
        "### Instalamos librerias:*texto en cursiva*"
      ],
      "metadata": {
        "id": "q2_3aDk_W8f2"
      }
    },
    {
      "cell_type": "markdown",
      "source": [
        "Antes de proceder a resolver el ejercicio, tenemos que instalar una serie de librerías o paquetes: \n",
        "\n",
        "\n",
        "*   **Deap**\n",
        "*   **Matplotlib**\n",
        "*   **Numpy**\n",
        "*   **Scipy**\n",
        "*   **Scoop**\n",
        "\n"
      ],
      "metadata": {
        "id": "rHoqdDKHXWjz"
      }
    },
    {
      "cell_type": "code",
      "source": [
        "!pip install deap\n",
        "!pip install matplotlib\n",
        "!pip install numpy\n",
        "!pip install scipy\n",
        "!pip install scoop"
      ],
      "metadata": {
        "colab": {
          "base_uri": "https://localhost:8080/"
        },
        "outputId": "630f4bde-2b59-4126-e3a6-52b033d45b28",
        "id": "9JQxQOn_s-y6"
      },
      "execution_count": 882,
      "outputs": [
        {
          "output_type": "stream",
          "name": "stdout",
          "text": [
            "Looking in indexes: https://pypi.org/simple, https://us-python.pkg.dev/colab-wheels/public/simple/\n",
            "Requirement already satisfied: deap in /usr/local/lib/python3.8/dist-packages (1.3.3)\n",
            "Requirement already satisfied: numpy in /usr/local/lib/python3.8/dist-packages (from deap) (1.21.6)\n",
            "Looking in indexes: https://pypi.org/simple, https://us-python.pkg.dev/colab-wheels/public/simple/\n",
            "Requirement already satisfied: matplotlib in /usr/local/lib/python3.8/dist-packages (3.2.2)\n",
            "Requirement already satisfied: kiwisolver>=1.0.1 in /usr/local/lib/python3.8/dist-packages (from matplotlib) (1.4.4)\n",
            "Requirement already satisfied: numpy>=1.11 in /usr/local/lib/python3.8/dist-packages (from matplotlib) (1.21.6)\n",
            "Requirement already satisfied: cycler>=0.10 in /usr/local/lib/python3.8/dist-packages (from matplotlib) (0.11.0)\n",
            "Requirement already satisfied: pyparsing!=2.0.4,!=2.1.2,!=2.1.6,>=2.0.1 in /usr/local/lib/python3.8/dist-packages (from matplotlib) (3.0.9)\n",
            "Requirement already satisfied: python-dateutil>=2.1 in /usr/local/lib/python3.8/dist-packages (from matplotlib) (2.8.2)\n",
            "Requirement already satisfied: six>=1.5 in /usr/local/lib/python3.8/dist-packages (from python-dateutil>=2.1->matplotlib) (1.15.0)\n",
            "Looking in indexes: https://pypi.org/simple, https://us-python.pkg.dev/colab-wheels/public/simple/\n",
            "Requirement already satisfied: numpy in /usr/local/lib/python3.8/dist-packages (1.21.6)\n",
            "Looking in indexes: https://pypi.org/simple, https://us-python.pkg.dev/colab-wheels/public/simple/\n",
            "Requirement already satisfied: scipy in /usr/local/lib/python3.8/dist-packages (1.7.3)\n",
            "Requirement already satisfied: numpy<1.23.0,>=1.16.5 in /usr/local/lib/python3.8/dist-packages (from scipy) (1.21.6)\n",
            "Looking in indexes: https://pypi.org/simple, https://us-python.pkg.dev/colab-wheels/public/simple/\n",
            "Requirement already satisfied: scoop in /usr/local/lib/python3.8/dist-packages (0.7.2.0)\n",
            "Requirement already satisfied: greenlet>=0.3.4 in /usr/local/lib/python3.8/dist-packages (from scoop) (2.0.1)\n",
            "Requirement already satisfied: pyzmq>=13.1.0 in /usr/local/lib/python3.8/dist-packages (from scoop) (23.2.1)\n"
          ]
        }
      ]
    },
    {
      "cell_type": "markdown",
      "source": [
        "### Importamos Librerías:"
      ],
      "metadata": {
        "id": "Rf3HTWavXv8P"
      }
    },
    {
      "cell_type": "code",
      "source": [
        "import math\n",
        "import numpy as np\n",
        "from deap import base\n",
        "from deap import creator\n",
        "from deap import tools\n",
        "from deap import algorithms\n",
        "\n",
        "# Importamos las librerías necesarias\n",
        "import matplotlib.pyplot as plt\n",
        "from mpl_toolkits.mplot3d import Axes3D\n",
        "from matplotlib import cm\n",
        "\n",
        "# Importamos la librería\n",
        "import random\n",
        "\n"
      ],
      "metadata": {
        "id": "yq1xFttFWu2-"
      },
      "execution_count": 883,
      "outputs": []
    },
    {
      "cell_type": "markdown",
      "source": [
        "A continuación, vamos a generar 10 números aleatorios en el rango (-100,100) y los vamos a asignar a dos variables:"
      ],
      "metadata": {
        "id": "j8unBSrnX2XA"
      }
    },
    {
      "cell_type": "code",
      "source": [
        "# Fijamos la semilla\n",
        "np.random.seed(0)\n",
        "# Generamos los números pseudo-aleatorios\n",
        "# Son los mismos mientras no cambiemos la semilla\n",
        "# Numpy genera directamente los vectores\n",
        "x = np.random.uniform(-100, 100, 10).reshape(1, 10) \n",
        "y = np.random.uniform(-100, 100, 10).reshape(1, 10) \n",
        "print('x= ', x)\n",
        "print('y= ', y)"
      ],
      "metadata": {
        "colab": {
          "base_uri": "https://localhost:8080/"
        },
        "id": "ef28mDIWW2Ls",
        "outputId": "72e673fd-766f-449c-d3b8-a4492a88a6fe"
      },
      "execution_count": 884,
      "outputs": [
        {
          "output_type": "stream",
          "name": "stdout",
          "text": [
            "x=  [[  9.76270079  43.03787327  20.55267521   8.9766366  -15.26904013\n",
            "   29.17882261 -12.48255775  78.35460016  92.7325521  -23.31169623]]\n",
            "y=  [[ 58.34500762   5.77898395  13.60891222  85.11932766 -85.79278836\n",
            "  -82.57414006 -95.95632051  66.52396911  55.63135019  74.00242965]]\n"
          ]
        }
      ]
    },
    {
      "cell_type": "markdown",
      "source": [
        "### Visualización de la Función Objetivo"
      ],
      "metadata": {
        "id": "lRe1cXP5c8RX"
      }
    },
    {
      "cell_type": "code",
      "source": [
        "# Definimos la función objetivo\n",
        "def funcion_prueba(x):\n",
        "    # x es x[0] e y es x[1]\n",
        "    res = 3*(1-x[0])**2*np.exp(-1*(x[0]**2)-(x[1]+1)**2)-10*(x[0]/5-x[0]**3-x[1]**5)*np.exp(-1*(x[0]**2)-x[1]**2)-1/3*np.exp(-1*(x[0]+1)**2-x[1]**2)\n",
        "    return res"
      ],
      "metadata": {
        "id": "QrvW6hQKdF1d"
      },
      "execution_count": 885,
      "outputs": []
    },
    {
      "cell_type": "code",
      "source": [
        "# Generamos vectores que barran todo el dominio\n",
        "x = np.linspace(-7, 7, 1000)\n",
        "y = np.linspace(-7, 7, 1000)\n",
        "# print('x= ', x)\n",
        "# print('y= ', y)"
      ],
      "metadata": {
        "id": "LEqXx3y4d8rx"
      },
      "execution_count": 886,
      "outputs": []
    },
    {
      "cell_type": "code",
      "source": [
        "# Evaluamos todos los valores de las variables\n",
        "x_ax, y_ax = np.meshgrid(x, y)\n",
        "vals = np.c_[x_ax.ravel(), y_ax.ravel()]\n",
        "fx = np.reshape([funcion_prueba(val) for val in vals],(1000, 1000))"
      ],
      "metadata": {
        "id": "zMHK9Guwd9LU"
      },
      "execution_count": 887,
      "outputs": []
    },
    {
      "cell_type": "code",
      "source": [
        "# Representamos los resultados obtenidos\n",
        "figure_3d = plt.figure(figsize=(8,6))\n",
        "ax = figure_3d.gca(projection=\"3d\")\n",
        "ax.plot_surface(x_ax, y_ax, fx, cmap=cm.coolwarm)\n",
        "ax.set_xlabel(\"x\")\n",
        "ax.set_ylabel(\"y\")\n",
        "ax.set_zlabel(\"f(x,y)\")"
      ],
      "metadata": {
        "colab": {
          "base_uri": "https://localhost:8080/",
          "height": 374
        },
        "id": "OezDE-wWd_5k",
        "outputId": "614d6c89-0f70-4251-c66e-eac160dd4b3c"
      },
      "execution_count": 888,
      "outputs": [
        {
          "output_type": "execute_result",
          "data": {
            "text/plain": [
              "Text(0.5, 0, 'f(x,y)')"
            ]
          },
          "metadata": {},
          "execution_count": 888
        },
        {
          "output_type": "display_data",
          "data": {
            "text/plain": [
              "<Figure size 576x432 with 1 Axes>"
            ],
            "image/png": "[encoded data removed]"
          },
          "metadata": {
            "needs_background": "light"
          }
        }
      ]
    },
    {
      "cell_type": "markdown",
      "source": [
        "1. Definición del problema y generación de la población inicial\n",
        "- 1.1 Creación del problema\n",
        "- 1.2 Creación de la plantilla del individuo\n",
        "- 1.3 Crear individuos aleatorios y población inicial\n",
        "2. Función objetivo y operadores genéticos\n",
        "- 2.1 Función objetivo\n",
        "3. Incorporación de los operadores genéticos\n",
        "4. Últimos pasos: Algortimo Genético como caja negra\n",
        "- 4.1 Configuración algoritmo genético\n",
        "- 4.2 Resultados del algoritmo genético\n",
        "5. Convergencia del algoritmo\n",
        "6. Conclusión\n"
      ],
      "metadata": {
        "id": "V1FfbOdP3ei8"
      }
    },
    {
      "cell_type": "markdown",
      "source": [
        "# 1. Definición del problema y generación de la población inicial"
      ],
      "metadata": {
        "id": "UT4sju2jtXdl"
      }
    },
    {
      "cell_type": "markdown",
      "source": [
        "## 1.1 Creación del problema "
      ],
      "metadata": {
        "id": "spMMJiC4tYqI"
      }
    },
    {
      "cell_type": "markdown",
      "source": [
        "A continuación, vamos a definir el problema de optimización. En nuestro caso, se está buscando encontrar los máximos. Para ello, utilizaremos  `creator`  de la librería `deap` para crear una nueva clase llamada `FitnessMax`.\n",
        "\n"
      ],
      "metadata": {
        "id": "3iAjsBadesGR"
      }
    },
    {
      "cell_type": "code",
      "execution_count": 889,
      "metadata": {
        "id": "dCL2qDN9tuEy",
        "colab": {
          "base_uri": "https://localhost:8080/"
        },
        "outputId": "17f7ff91-4fa1-4a2b-cf62-8cdbb5672d48"
      },
      "outputs": [
        {
          "output_type": "stream",
          "name": "stderr",
          "text": [
            "/usr/local/lib/python3.8/dist-packages/deap/creator.py:138: RuntimeWarning: A class named 'FitnessMax' has already been created and it will be overwritten. Consider deleting previous creation of that class or rename it.\n",
            "  warnings.warn(\"A class named '{0}' has already been created and it \"\n"
          ]
        }
      ],
      "source": [
        "creator.create(\"FitnessMax\", base.Fitness, weights=(1.0,))"
      ]
    },
    {
      "cell_type": "markdown",
      "source": [
        "## 1.2 Creación de la plantilla del individuo"
      ],
      "metadata": {
        "id": "1aif03oz4A3I"
      }
    },
    {
      "cell_type": "markdown",
      "source": [
        "Lo siguiente que se va a hacer es crear el tipo de individuo, es decir, si va a ser una lista, tupla... y los atributos que va a tener. Para ello, creamos la clase Individual que utiliza la clase `list` y que contiene el atributo `fitness` inicializado anteriormente con `FitnessMax`."
      ],
      "metadata": {
        "id": "RSjy0sbff2gl"
      }
    },
    {
      "cell_type": "code",
      "source": [
        "creator.create(\"Individual\", list, fitness=creator.FitnessMax)"
      ],
      "metadata": {
        "id": "TrbQLsy1k2_y",
        "colab": {
          "base_uri": "https://localhost:8080/"
        },
        "outputId": "88585285-956d-4210-8981-c31bce6e87b4"
      },
      "execution_count": 890,
      "outputs": [
        {
          "output_type": "stream",
          "name": "stderr",
          "text": [
            "/usr/local/lib/python3.8/dist-packages/deap/creator.py:138: RuntimeWarning: A class named 'Individual' has already been created and it will be overwritten. Consider deleting previous creation of that class or rename it.\n",
            "  warnings.warn(\"A class named '{0}' has already been created and it \"\n"
          ]
        }
      ]
    },
    {
      "cell_type": "markdown",
      "source": [
        "## 1.3 Crear individuos aleatorios y población inicial"
      ],
      "metadata": {
        "id": "QjArT4tZ4Erm"
      }
    },
    {
      "cell_type": "markdown",
      "source": [
        "A continuación, definimos el Toolbox, el cual contendrá un conjunto de funciones que utilizará el Algortimo Genético durante la ejecución mediante registro. Algunos de las funciones suelen ser: \n",
        "*  Función para crear los individuos de forma aleatoria\n",
        "*  Función para crear la población\n",
        "*  Operadores genéticos (selección, cruce y mutación)\n",
        "*  Función objetivo"
      ],
      "metadata": {
        "id": "YmP3-5PHhYwE"
      }
    },
    {
      "cell_type": "markdown",
      "source": [
        "Debido a que se debe de realizar una comparación con tres tipo de cruces:  \n",
        "*  Cruce con un punto de cruce.\n",
        "*  Cruce con dos puntos de\n",
        "cruce \n",
        "*  Cruce uniforme\n",
        "\n",
        "vamos a establecer tres Pruebas."
      ],
      "metadata": {
        "id": "JYus1DzNiHnW"
      }
    },
    {
      "cell_type": "code",
      "source": [
        "\n",
        "toolbox1 = base.Toolbox()\n",
        "toolbox2 = base.Toolbox()\n",
        "toolbox3 = base.Toolbox()"
      ],
      "metadata": {
        "id": "zysJWKPXk-Tv"
      },
      "execution_count": 891,
      "outputs": []
    },
    {
      "cell_type": "code",
      "execution_count": 892,
      "metadata": {
        "id": "abd798bf-ebba-4e4e-91d7-dde072730f05"
      },
      "outputs": [],
      "source": [
        "# Generación de genes Prueba \n",
        "toolbox1.register(\"attr_uniform\", random.uniform, -100, 100)\n",
        "# Generación de genes Prueba \n",
        "toolbox2.register(\"attr_uniform\", random.uniform, -100, 100)\n",
        "toolbox3.register(\"attr_uniform\", random.uniform, -100, 100)"
      ]
    },
    {
      "cell_type": "markdown",
      "source": [
        "`attr_uniform` es una función que permite crear individuos de manera aleatoria mediante `random.uniform`. Nos permite, para cada variable independiente, generar un valor aleatorio dentro del rango establecido en el enunciado (-100,100). "
      ],
      "metadata": {
        "id": "cm37_D1Dk6gd"
      }
    },
    {
      "cell_type": "code",
      "execution_count": 893,
      "metadata": {
        "id": "67bf9c28-bf5f-4e4f-b5e7-9758a3b1b359",
        "outputId": "bf91f266-89fd-48a1-9abf-ead4c2f3f040",
        "colab": {
          "base_uri": "https://localhost:8080/"
        }
      },
      "outputs": [
        {
          "output_type": "execute_result",
          "data": {
            "text/plain": [
              "-33.30697098639419"
            ]
          },
          "metadata": {},
          "execution_count": 893
        }
      ],
      "source": [
        "# Probamos y vemos que generamos un número leatorio entre -100 y 100 distinto cada vez\n",
        "toolbox1.attr_uniform()\n",
        "toolbox2.attr_uniform()\n",
        "toolbox3.attr_uniform()"
      ]
    },
    {
      "cell_type": "code",
      "execution_count": 894,
      "metadata": {
        "id": "9962beb1-0764-4915-850d-835d7bf81de0"
      },
      "outputs": [],
      "source": [
        "# Generación de inviduos Prueba \n",
        "toolbox1.register(\"individual\", tools.initRepeat, creator.Individual,\n",
        "                 toolbox1.attr_uniform, 2)\n",
        "toolbox2.register(\"individual\", tools.initRepeat, creator.Individual,\n",
        "                 toolbox1.attr_uniform, 2)\n",
        "toolbox3.register(\"individual\", tools.initRepeat, creator.Individual,\n",
        "                 toolbox1.attr_uniform, 2)\n"
      ]
    },
    {
      "cell_type": "code",
      "source": [
        "# Ejemplo de la generación de un individuo aleatorio\n",
        "individuo1 = toolbox1.individual()\n",
        "individuo2 = toolbox2.individual()\n",
        "individuo3 = toolbox2.individual()"
      ],
      "metadata": {
        "id": "wkYG_NAtlstQ"
      },
      "execution_count": 895,
      "outputs": []
    },
    {
      "cell_type": "code",
      "execution_count": 896,
      "metadata": {
        "id": "d7767615-a113-49ba-9875-f2033a2ba0e5",
        "outputId": "7820cace-6bee-411c-b8fc-c7b5b747858c",
        "colab": {
          "base_uri": "https://localhost:8080/"
        }
      },
      "outputs": [
        {
          "output_type": "execute_result",
          "data": {
            "text/plain": [
              "()"
            ]
          },
          "metadata": {},
          "execution_count": 896
        }
      ],
      "source": [
        "# Recordar que individuo es una lista que tiene un atributo fitness\n",
        "# donde se almacena la calidad del mismo, que al principio será\n",
        "# vacío, porque aun no ha sido evaluado\n",
        "individuo1.fitness.values\n",
        "individuo2.fitness.values\n",
        "individuo3.fitness.values\n"
      ]
    },
    {
      "cell_type": "markdown",
      "source": [
        "A continuación, generamos, mediante la función `population`, la población en cada uno de nuestras Pruebas. Dentro de la función utilizaremos `initRepeat` donde se establece el número de llamadas a la función que se quiere realizar que corresponde, también, con la población inicial. También, se especifica que se debe de guardar como una lista. \n",
        "\n",
        "En nuestro caso, vamos a elegir el número 100, ya que es divisible entre 4 para que no de ningún error al no cumplir algún requisito. Además, hemos escogido este valor puesto que valores inferiores nos han presentado problemas y resultados menores.\n"
      ],
      "metadata": {
        "id": "9Elo-rDvmmHo"
      }
    },
    {
      "cell_type": "code",
      "execution_count": 897,
      "metadata": {
        "id": "c4b95bf0-6821-4f2d-9bbe-e1f969d6adab"
      },
      "outputs": [],
      "source": [
        "# Generación de población\n",
        "toolbox1.register(\"population\", tools.initRepeat, list,\n",
        "                 toolbox1.individual, 100)\n",
        "toolbox2.register(\"population\", tools.initRepeat, list,\n",
        "                 toolbox2.individual, 100)\n",
        "toolbox3.register(\"population\", tools.initRepeat, list,\n",
        "                 toolbox2.individual, 100)"
      ]
    },
    {
      "cell_type": "code",
      "source": [
        "# Ejemplo de creación de una población. Se ve que es\n",
        "# una lista de 24 listas (una por cada individuo)\n",
        "poblacion1 = toolbox1.population()\n",
        "poblacion2 = toolbox2.population()\n",
        "poblacion3 = toolbox2.population()"
      ],
      "metadata": {
        "id": "jqZG9lORl13K"
      },
      "execution_count": 898,
      "outputs": []
    },
    {
      "cell_type": "code",
      "execution_count": 899,
      "metadata": {
        "id": "fac45b51-d1ef-4c60-b4e7-926812999925",
        "outputId": "16f8e9bf-83f7-4797-af2f-5694cada7c1c",
        "colab": {
          "base_uri": "https://localhost:8080/"
        }
      },
      "outputs": [
        {
          "output_type": "execute_result",
          "data": {
            "text/plain": [
              "[95.47112692611321, -65.25654583704619]"
            ]
          },
          "metadata": {},
          "execution_count": 899
        }
      ],
      "source": [
        "# Cada individuo tiene 2 componentes\n",
        "poblacion1[0]\n",
        "poblacion2[0]\n",
        "poblacion3[0]"
      ]
    },
    {
      "cell_type": "code",
      "execution_count": 900,
      "metadata": {
        "id": "8c89e0f0-ae16-4372-aa5e-4b69861a2362",
        "outputId": "81d34184-6a7b-46dd-9153-88d8883e255e",
        "colab": {
          "base_uri": "https://localhost:8080/"
        }
      },
      "outputs": [
        {
          "output_type": "execute_result",
          "data": {
            "text/plain": [
              "()"
            ]
          },
          "metadata": {},
          "execution_count": 900
        }
      ],
      "source": [
        "poblacion1[0].fitness.values\n",
        "poblacion2[0].fitness.values\n",
        "poblacion3[0].fitness.values"
      ]
    },
    {
      "cell_type": "markdown",
      "source": [
        "# 2. Función objetivo y Operadores Genéticos"
      ],
      "metadata": {
        "id": "oUAMA2yM40KN"
      }
    },
    {
      "cell_type": "markdown",
      "source": [
        "## 2.1 Función objetivo"
      ],
      "metadata": {
        "id": "0LTIkKAE45cL"
      }
    },
    {
      "cell_type": "markdown",
      "source": [
        "1.- Encontrar los máximos de la función \"picos\"  $$\\ z=f(x,y) = 3(1-x)^2e^{-(x^2)-(y+1)^2}-10(x/5-x^3-y^5)e^{-x^2-y^2}-1/3e^{-(x+1)^2-y^2}$$\n",
        "\n",
        "En el dominio\n",
        "\n",
        "$$\\{x,y\\} \\in [−100,100] $$\n",
        "\n",
        "\n",
        "\n",
        "\n",
        "\n",
        "\n"
      ],
      "metadata": {
        "id": "M-zJWaKfxDqn"
      }
    },
    {
      "cell_type": "code",
      "source": [
        "def funcion_objetivo(x):\n",
        "    \"\"\"\n",
        "    Función objetivo de nuestro problema\n",
        "    \"\"\"\n",
        "    for i in range(len(x)):\n",
        "        if x[i] > 100 or x[i] < -100:\n",
        "            return -1,\n",
        "    res = 3*(1-x[0])**2*np.exp(-(x[0]**2)-(x[1]+1)**2)-10*(x[0]/5-x[0]**3-x[1]**5)*np.exp(-x[0]**2-x[1]**2)-1/3*np.exp(-(x[0]+1)**2-x[1]**2)\n",
        "    return res,"
      ],
      "metadata": {
        "id": "CvCZ8W4T4_FK"
      },
      "execution_count": 901,
      "outputs": []
    },
    {
      "cell_type": "markdown",
      "source": [
        "Al tratarse de una función en la cual se debe de maximizar, no pueden haber valores fuera del rango [-100,100]. Si se diera el caso, retornaría la función un -1, es decir, se aplicaría la *Pena de Muerte* ya que al devolver dicho valor (número negativo) condenaría totalmente el resultado obtenido provocando que el individuo o individuos no puedan intervenir en la mutación o en el cruce.  "
      ],
      "metadata": {
        "id": "Px1Nkqh5o9m1"
      }
    },
    {
      "cell_type": "markdown",
      "source": [
        "Registramos la Función Objetivo "
      ],
      "metadata": {
        "id": "r757beXpqXRQ"
      }
    },
    {
      "cell_type": "code",
      "execution_count": 902,
      "metadata": {
        "id": "552daa96-2941-4961-93a0-ddce4402643d"
      },
      "outputs": [],
      "source": [
        "toolbox1.register(\"evaluate\", funcion_objetivo)\n",
        "toolbox2.register(\"evaluate\", funcion_objetivo)\n",
        "toolbox3.register(\"evaluate\", funcion_objetivo)"
      ]
    },
    {
      "cell_type": "markdown",
      "source": [
        "# 3. Incorporar los operadores genéticos"
      ],
      "metadata": {
        "id": "TsGQlR_u7vFU"
      }
    },
    {
      "cell_type": "markdown",
      "source": [
        "## Cruce"
      ],
      "metadata": {
        "id": "0u4zqHQX75uC"
      }
    },
    {
      "cell_type": "code",
      "execution_count": 903,
      "metadata": {
        "id": "7f156d3f-8248-4842-ab9a-0aea82a9585e"
      },
      "outputs": [],
      "source": [
        "# Registro de operacion genética de Cruce en un Punto\n",
        "toolbox1.register(\"mate\", tools.cxOnePoint)\n",
        "# Registro de operacion genética de Cruce en dos Puntos\n",
        "toolbox2.register(\"mate\", tools.cxTwoPoint)\n",
        "# Registro de operacion genética de Cruce Uniforme\n",
        "toolbox3.register(\"mate\", tools.cxUniform, indpb = 0.5)"
      ]
    },
    {
      "cell_type": "markdown",
      "source": [
        "Con respecto al Cruce Uniforme la probabilidad es del 50% ya que es un valor lo suficientemente elevado para considerarse neutro y que haya la misma probabilidad de que se produzca un cruce o no. "
      ],
      "metadata": {
        "id": "wnqJv8YCvkZ0"
      }
    },
    {
      "cell_type": "markdown",
      "source": [
        "## Mutación"
      ],
      "metadata": {
        "id": "OF5pIaED7--x"
      }
    },
    {
      "cell_type": "code",
      "execution_count": 904,
      "metadata": {
        "id": "52f3f096-a0f6-4d21-bcfb-debbfea4e65e"
      },
      "outputs": [],
      "source": [
        "toolbox1.register(\"mutate\", tools.mutGaussian, mu=0,\n",
        "                 sigma= 5, indpb=0.1)\n",
        "toolbox2.register(\"mutate\", tools.mutGaussian, mu=0,\n",
        "                 sigma= 5, indpb=0.1)\n",
        "toolbox3.register(\"mutate\", tools.mutGaussian, mu=0,\n",
        "                 sigma= 5, indpb=0.1)"
      ]
    },
    {
      "cell_type": "markdown",
      "source": [
        "Para la mutación de las tres pruebas hemos decidido dejar los parámetros de desviación típica y media como 5 y 0 respectivamente aunque estos pueden variar según el criterio del programador, es decir, no son valores fijos. \n"
      ],
      "metadata": {
        "id": "7eN8zJLcsXtj"
      }
    },
    {
      "cell_type": "markdown",
      "source": [
        "## Selección"
      ],
      "metadata": {
        "id": "f0gEnDRP8CrL"
      }
    },
    {
      "cell_type": "code",
      "execution_count": 905,
      "metadata": {
        "id": "6e71fdc0-26ae-4a0d-90df-c94620196272"
      },
      "outputs": [],
      "source": [
        "toolbox1.register(\"select\", tools.selTournament, tournsize=3)\n",
        "toolbox2.register(\"select\", tools.selTournament, tournsize=3)\n",
        "toolbox3.register(\"select\", tools.selTournament, tournsize=3)"
      ]
    },
    {
      "cell_type": "markdown",
      "source": [
        "En la fase de Selección, se escoge manualmente un número aleatorio, que en nuestro caso ha sido el número 3 ya que en la selección mediante torneo es un tamaño que relativamente es lo más óptimo para la mayoría de los casos."
      ],
      "metadata": {
        "id": "F9URzPjpsnJj"
      }
    },
    {
      "cell_type": "markdown",
      "source": [
        "# 4. Últimos Pasos: Algortimo genético como una caja negra "
      ],
      "metadata": {
        "id": "OFOfdrms7vNO"
      }
    },
    {
      "cell_type": "markdown",
      "source": [
        "## 4.1 Configuración del Algortimo Genético"
      ],
      "metadata": {
        "id": "3O5Wv2BM8PVy"
      }
    },
    {
      "cell_type": "code",
      "execution_count": 906,
      "metadata": {
        "id": "8dadb2a6-6214-437d-ae51-3a01b7ae77df"
      },
      "outputs": [],
      "source": [
        "def main1():\n",
        "    random.seed(42)\n",
        "    CXPB, MUTPB, NGEN = 0.5, 0.2, 20\n",
        "    pop = toolbox1.population()\n",
        "    hof = tools.HallOfFame(1)\n",
        "    stats = tools.Statistics(lambda ind: ind.fitness.values)\n",
        "    stats.register(\"avg\", np.mean)\n",
        "    stats.register(\"std\", np.std)\n",
        "    stats.register(\"min\", np.min)\n",
        "    stats.register(\"max\", np.max)\n",
        "    logbook = tools.Logbook()\n",
        "    pop, logbook = algorithms.eaSimple(pop, toolbox1, cxpb=CXPB,\n",
        "                                       mutpb=MUTPB, ngen=NGEN, stats=stats,\n",
        "                                       halloffame=hof, verbose=True)\n",
        "    return hof, logbook"
      ]
    },
    {
      "cell_type": "code",
      "source": [
        "best1, log1 = main1()\n",
        "print(\"Mejor fitness: %f\" %best1[0].fitness.values)\n",
        "print(\"Mejor individuo %s\" %best1[0])"
      ],
      "metadata": {
        "colab": {
          "base_uri": "https://localhost:8080/"
        },
        "id": "JSNzAKxx74q9",
        "outputId": "2fbf11d3-e6cc-4710-90a4-995282670d19"
      },
      "execution_count": 907,
      "outputs": [
        {
          "output_type": "stream",
          "name": "stdout",
          "text": [
            "gen\tnevals\tavg        \tstd        \tmin         \tmax        \n",
            "0  \t100   \t1.93843e-50\t1.92871e-49\t-8.19747e-63\t1.93843e-48\n",
            "1  \t49    \t-0.01      \t0.0994987  \t-1          \t1.93843e-48\n",
            "2  \t52    \t9.54873e-32\t9.50086e-31\t0           \t9.54873e-30\n",
            "3  \t64    \t2.86462e-31\t1.62889e-30\t-3.56017e-85\t9.54873e-30\n",
            "4  \t58    \t-0.000366985\t0.00365146 \t-0.0366985  \t6.5714e-21 \n",
            "5  \t54    \t1.99884e-21 \t1.53568e-20\t0           \t1.53884e-19\n",
            "6  \t50    \t1.83181e-20 \t7.80529e-20\t-1.32976e-61\t3.93195e-19\n",
            "7  \t74    \t1.70604e-11 \t1.69749e-10\t-2.91446e-52\t1.70604e-09\n",
            "8  \t51    \t1.36313e-09 \t1.33926e-08\t5.33806e-108\t1.34607e-07\n",
            "9  \t50    \t5.38428e-09 \t2.63774e-08\t5.92491e-35 \t1.34607e-07\n",
            "10 \t50    \t1.8845e-08  \t4.67068e-08\t6.5714e-21  \t1.34607e-07\n",
            "11 \t65    \t4.98379e-08 \t6.49853e-08\t1.53884e-19 \t1.3565e-07 \n",
            "12 \t52    \t1.01114e-07 \t5.80737e-08\t9.20815e-18 \t1.35972e-07\n",
            "13 \t50    \t0.0662859   \t0.653976   \t2.63794e-18 \t6.57303    \n",
            "14 \t70    \t0.176375    \t1.01234    \t8.50633e-20 \t6.57303    \n",
            "15 \t60    \t0.268031    \t1.29318    \t7.77223e-67 \t6.69177    \n",
            "16 \t61    \t1.08017     \t2.41933    \t6.51648e-33 \t6.69177    \n",
            "17 \t56    \t2.82554     \t3.27183    \t-1.47281    \t7.33506    \n",
            "18 \t60    \t5.74914     \t2.3037     \t-1.3246e-05 \t7.41306    \n",
            "19 \t63    \t6.45191     \t1.32893    \t1.82147e-22 \t7.40523    \n",
            "20 \t63    \t6.62916     \t1.19754    \t-0.219969   \t7.40523    \n",
            "Mejor fitness: 7.413065\n",
            "Mejor individuo [0.06046700210138432, 1.7919972024804398]\n"
          ]
        }
      ]
    },
    {
      "cell_type": "code",
      "source": [
        "def main2():\n",
        "    random.seed(42)\n",
        "    CXPB, MUTPB, NGEN = 0.5, 0.2, 20\n",
        "    pop = toolbox2.population()\n",
        "    hof = tools.HallOfFame(1)\n",
        "    stats = tools.Statistics(lambda ind: ind.fitness.values)\n",
        "    stats.register(\"avg\", np.mean)\n",
        "    stats.register(\"std\", np.std)\n",
        "    stats.register(\"min\", np.min)\n",
        "    stats.register(\"max\", np.max)\n",
        "    logbook = tools.Logbook()\n",
        "    pop, logbook = algorithms.eaSimple(pop, toolbox2, cxpb=CXPB,\n",
        "                                       mutpb=MUTPB, ngen=NGEN, stats=stats,\n",
        "                                       halloffame=hof, verbose=True)\n",
        "    return hof, logbook"
      ],
      "metadata": {
        "id": "qe0rdJDFgjfo"
      },
      "execution_count": 908,
      "outputs": []
    },
    {
      "cell_type": "code",
      "source": [
        "best2, log2 = main2()\n",
        "print(\"Mejor fitness: %f\" %best2[0].fitness.values)\n",
        "print(\"Mejor individuo %s\" %best2[0])"
      ],
      "metadata": {
        "colab": {
          "base_uri": "https://localhost:8080/"
        },
        "id": "tGB7oyJyjEWs",
        "outputId": "38d2fb68-02cd-4989-cc3b-d2ec04f9490c"
      },
      "execution_count": 909,
      "outputs": [
        {
          "output_type": "stream",
          "name": "stdout",
          "text": [
            "gen\tnevals\tavg        \tstd        \tmin         \tmax        \n",
            "0  \t100   \t1.93843e-50\t1.92871e-49\t-8.19747e-63\t1.93843e-48\n",
            "1  \t55    \t9.69215e-50\t4.2247e-49 \t-5.6445e-140\t1.93843e-48\n",
            "2  \t54    \t-2.77757e-10\t2.76365e-09\t-2.77757e-08\t9.62191e-38\n",
            "3  \t54    \t1.39112e-25 \t1.38414e-24\t0           \t1.39112e-23\n",
            "4  \t43    \t-2.77757e-10\t2.76365e-09\t-2.77757e-08\t1.39112e-23\n",
            "5  \t61    \t9.2011e-15  \t6.63727e-14\t0           \t5.84792e-13\n",
            "6  \t64    \t-8.5687e-05 \t0.000852575\t-0.0085687  \t5.84792e-13\n",
            "7  \t61    \t0.00101441  \t0.0100932  \t4.41527e-65 \t0.101441   \n",
            "8  \t51    \t0.0653251   \t0.617144   \t-6.94448e-08\t6.20338    \n",
            "9  \t55    \t0.197282    \t1.05693    \t-6.23852e-14\t6.20338    \n",
            "10 \t58    \t0.617602    \t1.87859    \t-2.43588    \t6.20338    \n",
            "11 \t59    \t1.79351     \t2.75949    \t-9.91273e-17\t6.20338    \n",
            "12 \t52    \t4.34659     \t2.78739    \t-0.491237   \t6.20338    \n",
            "13 \t66    \t5.90065     \t1.27026    \t9.62e-33    \t6.20338    \n",
            "14 \t60    \t5.84401     \t1.62766    \t-4.9379     \t6.20338    \n",
            "15 \t65    \t5.86283     \t1.56723    \t-4.88031    \t6.20338    \n",
            "16 \t61    \t5.77535     \t1.79677    \t-6.35773    \t6.20338    \n",
            "17 \t70    \t6.20338     \t1.77636e-15\t6.20338     \t6.20338    \n",
            "18 \t59    \t5.96391     \t1.17557    \t-0.000153669\t6.20338    \n",
            "19 \t56    \t5.98988     \t1.0765     \t6.85437e-25 \t6.20338    \n",
            "20 \t61    \t5.8461      \t1.38283    \t4.75508e-82 \t6.20338    \n",
            "Mejor fitness: 6.203384\n",
            "Mejor individuo [0.11722261005967027, 1.9495037203322996]\n"
          ]
        }
      ]
    },
    {
      "cell_type": "code",
      "source": [
        "def main3():\n",
        "    random.seed(42)\n",
        "    CXPB, MUTPB, NGEN = 0.5, 0.2, 20\n",
        "    pop = toolbox3.population()\n",
        "    hof = tools.HallOfFame(1)\n",
        "    stats = tools.Statistics(lambda ind: ind.fitness.values)\n",
        "    stats.register(\"avg\", np.mean)\n",
        "    stats.register(\"std\", np.std)\n",
        "    stats.register(\"min\", np.min)\n",
        "    stats.register(\"max\", np.max)\n",
        "    logbook = tools.Logbook()\n",
        "    pop, logbook = algorithms.eaSimple(pop, toolbox3, cxpb=CXPB,\n",
        "                                       mutpb=MUTPB, ngen=NGEN, stats=stats,\n",
        "                                       halloffame=hof, verbose=True)\n",
        "    return hof, logbook"
      ],
      "metadata": {
        "id": "UfBmrbJ2nm54"
      },
      "execution_count": 910,
      "outputs": []
    },
    {
      "cell_type": "code",
      "source": [
        "best3, log3 = main3()\n",
        "print(\"Mejor fitness: %f\" %best3[0].fitness.values)\n",
        "print(\"Mejor individuo %s\" %best3[0])"
      ],
      "metadata": {
        "colab": {
          "base_uri": "https://localhost:8080/"
        },
        "id": "Ose3fpVYnrDT",
        "outputId": "74d7eb97-1e51-43fc-ae21-29721d64957b"
      },
      "execution_count": 911,
      "outputs": [
        {
          "output_type": "stream",
          "name": "stdout",
          "text": [
            "gen\tnevals\tavg        \tstd        \tmin         \tmax        \n",
            "0  \t100   \t1.93843e-50\t1.92871e-49\t-8.19747e-63\t1.93843e-48\n",
            "1  \t48    \t1.16306e-49\t4.60351e-49\t0           \t1.93843e-48\n",
            "2  \t58    \t9.62191e-40\t9.57368e-39\t-8.02396e-118\t9.62191e-38\n",
            "3  \t57    \t-5.55514e-10\t3.8886e-09 \t-2.77757e-08 \t1.39112e-23\n",
            "4  \t57    \t2.79554e-25 \t1.94742e-24\t-6.09907e-315\t1.39112e-23\n",
            "5  \t53    \t1.30985e-21 \t1.30258e-20\t5.60587e-55  \t1.30915e-19\n",
            "6  \t66    \t1.65077e-14 \t9.39622e-14\t1.93843e-48  \t5.84792e-13\n",
            "7  \t58    \t6.27776e-14 \t1.78717e-13\t-1.87111e-79 \t5.84792e-13\n",
            "8  \t61    \t6.07799e-13 \t4.15143e-12\t-2.42373e-67 \t4.18267e-11\n",
            "9  \t60    \t0.000149047 \t0.00144547 \t8.78667e-32  \t0.0145264  \n",
            "10 \t59    \t0.000150147 \t0.00144539 \t8.38211e-41  \t0.0145264  \n",
            "11 \t63    \t0.000737919 \t0.00595984 \t1.45276e-13  \t0.0582675  \n",
            "12 \t60    \t0.012153    \t0.0824739  \t2.52388e-16  \t0.82095    \n",
            "13 \t59    \t0.0357153   \t0.140336   \t5.84792e-13  \t0.82095    \n",
            "14 \t55    \t0.106324    \t0.597803   \t-2.61488     \t5.01005    \n",
            "15 \t67    \t0.293582    \t0.742881   \t8.04193e-21  \t5.01005    \n",
            "16 \t49    \t0.609526    \t0.992816   \t0.0145264    \t5.01005    \n",
            "17 \t67    \t1.30568     \t1.50837    \t5.45095e-28  \t5.85772    \n",
            "18 \t66    \t2.41125     \t1.95453    \t1.08764e-11  \t5.85772    \n",
            "19 \t68    \t3.98781     \t1.84861    \t-1.02316e-05 \t5.85772    \n",
            "20 \t71    \t4.97277     \t1.28371    \t7.93385e-84  \t5.85772    \n",
            "Mejor fitness: 5.857719\n",
            "Mejor individuo [0.008188691464088543, 2.0000851043759855]\n"
          ]
        }
      ]
    },
    {
      "cell_type": "markdown",
      "source": [
        "## 4.2 Resultados del algoritmo genético"
      ],
      "metadata": {
        "id": "7RYVitxFC4q0"
      }
    },
    {
      "cell_type": "markdown",
      "source": [
        "Una vez establecidos los parámetros, realizado los cálculos y obtenido los siguiente resultados:\n",
        "\n",
        "\n",
        "*   Prueba con Cruce en un punto: obtuvo su máximo en una población de 100 individuos en el 7.413065.\n",
        "*   Prueba con Cruce en dos puntos: obtuvo su máximo en una población de 100 individuos en el 6.203384.\n",
        "*   Prueba con Cruce Uniforme:obtuvo su máximo en una población de 100 individuos en el 5.857719.\n",
        "\n",
        "Sin embargo, debido a que se tratan de valores aleatorizados en función de una semilla los resultados pueden variar con cada iteración."
      ],
      "metadata": {
        "id": "qiPzDRGDqoi9"
      }
    },
    {
      "cell_type": "markdown",
      "source": [
        "# 5. Convergencia del algoritmo"
      ],
      "metadata": {
        "id": "YI76-PEPDJ7e"
      }
    },
    {
      "cell_type": "code",
      "source": [
        "def plot_evolucion(log):\n",
        "    \"\"\"\n",
        "    Representa la evolución del mejor individuo en cada generación\n",
        "    \"\"\"\n",
        "    gen = log.select(\"gen\")\n",
        "    fit_mins = log.select(\"min\")\n",
        "    fit_maxs = log.select(\"max\")\n",
        "    fit_ave = log.select(\"avg\")\n",
        "\n",
        "    fig, ax1 = plt.subplots()\n",
        "    ax1.plot(gen, fit_mins, \"b\")\n",
        "    ax1.plot(gen, fit_maxs, \"r\")\n",
        "    ax1.plot(gen, fit_ave, \"--k\")\n",
        "    # ax1.fill_between(gen, fit_mins, fit_maxs, where=fit_maxs >= fit_mins, facecolor='g', alpha = 0.2)\n",
        "    ax1.set_xlabel(\"Generation\")\n",
        "    ax1.set_ylabel(\"Fitness\")\n",
        "    ax1.set_ylim([-7, 10])\n",
        "    ax1.legend([\"Min\", \"Max\", \"Avg\"], loc='upper left')\n",
        "    plt.grid(True)\n",
        "    plt.savefig(\"Convergencia.eps\", dpi = 300)"
      ],
      "metadata": {
        "id": "gakqek7OoDCh"
      },
      "execution_count": 912,
      "outputs": []
    },
    {
      "cell_type": "code",
      "source": [
        "i=log1,log2,log3\n",
        "for j in i:\n",
        "  plot_evolucion(j)\n",
        "  "
      ],
      "metadata": {
        "colab": {
          "base_uri": "https://localhost:8080/",
          "height": 937
        },
        "id": "95FQStWKoJhC",
        "outputId": "b5b109a2-df29-49ac-e65e-15982d001cb3"
      },
      "execution_count": 913,
      "outputs": [
        {
          "output_type": "stream",
          "name": "stderr",
          "text": [
            "WARNING:matplotlib.backends.backend_ps:The PostScript backend does not support transparency; partially transparent artists will be rendered opaque.\n",
            "WARNING:matplotlib.backends.backend_ps:The PostScript backend does not support transparency; partially transparent artists will be rendered opaque.\n",
            "WARNING:matplotlib.backends.backend_ps:The PostScript backend does not support transparency; partially transparent artists will be rendered opaque.\n",
            "WARNING:matplotlib.backends.backend_ps:The PostScript backend does not support transparency; partially transparent artists will be rendered opaque.\n",
            "WARNING:matplotlib.backends.backend_ps:The PostScript backend does not support transparency; partially transparent artists will be rendered opaque.\n",
            "WARNING:matplotlib.backends.backend_ps:The PostScript backend does not support transparency; partially transparent artists will be rendered opaque.\n"
          ]
        },
        {
          "output_type": "display_data",
          "data": {
            "text/plain": [
              "<Figure size 432x288 with 1 Axes>"
            ],
            "image/png": "[encoded data removed]"
          },
          "metadata": {
            "needs_background": "light"
          }
        },
        {
          "output_type": "display_data",
          "data": {
            "text/plain": [
              "<Figure size 432x288 with 1 Axes>"
            ],
            "image/png": "[encoded data removed]"
          },
          "metadata": {
            "needs_background": "light"
          }
        },
        {
          "output_type": "display_data",
          "data": {
            "text/plain": [
              "<Figure size 432x288 with 1 Axes>"
            ],
            "image/png": "[encoded data removed]"
          },
          "metadata": {
            "needs_background": "light"
          }
        }
      ]
    },
    {
      "cell_type": "markdown",
      "source": [
        "Observando las tres gráficas obtenidas, se muestran los máximos, mínimos y la media de los individuos adaptados. Concluimos que los individuos máximos se alcanzan antes en la segunda prueba. Sin embargo, en esta misma prueba se obtienen unos individuos mínimos más notorios que en las otras pruebas. \n",
        "\n",
        "Podríamos elegir el más eficiente en función del objetivo, que en este caso, es el de maximizar. Por ello, la primera gráfica, donde se utiliza el Cruce en un punto, es donde se encuentra el mayor de los máximos de las tres pruebas. "
      ],
      "metadata": {
        "id": "pEr8PndtuJyg"
      }
    },
    {
      "cell_type": "markdown",
      "source": [
        "# 5. Conclusiones"
      ],
      "metadata": {
        "id": "aic-6aPKzabC"
      }
    },
    {
      "cell_type": "markdown",
      "source": [
        "Cabe destacar que nuestra solución óptima se verá influenciada por nuestros objetivos de trabajo, ya que escogeremos métodos diferentes dependiendo de si buscamos la rapidez o la exactitud, por ejemplo. Esto se debe a que, como se ha estudiado en clase, en diversas ocasiones las empresas y organismos 'sacrifican' la exactitud de la solución determinada que buscan, por la eficacia con la que son capaces de adquirirla (aunque esta última tenga un rango de error más elevado).\n",
        "\n"
      ],
      "metadata": {
        "id": "UtCo4bawzdCb"
      }
    }
  ]
}