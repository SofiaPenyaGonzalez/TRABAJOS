{
  "nbformat": 4,
  "nbformat_minor": 0,
  "metadata": {
    "colab": {
      "provenance": [],
      "collapsed_sections": [
        "tysDaThOq-mD"
      ],
      "authorship_tag": "ABX9TyO+5URohNPTNW+cHo2JBUQ0",
      "include_colab_link": true
    },
    "kernelspec": {
      "name": "python3",
      "display_name": "Python 3"
    },
    "language_info": {
      "name": "python"
    }
  },
  "cells": [
    {
      "cell_type": "markdown",
      "metadata": {
        "id": "view-in-github",
        "colab_type": "text"
      },
      "source": [
        "<a href=\"https://colab.research.google.com/github/SofiaPenyaGonzalez/TRABAJOS/blob/main/PR%C3%81CTICA_2_GRUPO_2.ipynb\" target=\"_parent\"><img src=\"https://colab.research.google.com/assets/colab-badge.svg\" alt=\"Open In Colab\"/></a>"
      ]
    },
    {
      "cell_type": "markdown",
      "source": [
        "# PRÁCTICA 2: Redes Neuronas Convolucionales \n",
        "\n",
        "**Integrantes:**\n",
        "*  María García Rodríguez\n",
        "*  Paloma Moya Tudela\n",
        "*  Sofía Peña González\n",
        "*  Elena Peral Pastor\n",
        "\n",
        "\n",
        "## RESUMEN\n",
        "En la anterior práctica trabajamos las Redes de Neuronas Artificiales (RNA)con un ejemplo. Utilizando la misma baso de datos, se estudiarán un tipo específico de estructuras de red que la asignatura de “Aprendizaje Automático” nos da a conocer: las Redes de Neuronas Convolucionales (CNN).\n",
        "\n",
        "Por tanto, este segundo trabajo irá dirigido a profundizar en el funcionamiento de estas redes. Será interesante comparar los resultados obtenidos en ambas prácticas, con el fin de averiguar - de manera práctica - las diferencias entre ambos. De esta forma, al final del estudio seremos capaces de identificar los casos de uso óptimo para cada una de las redes.\n",
        "\n",
        "## ÍNDICE\n",
        "* Introducción\n",
        "* Resolución\n",
        "* Conclusiones\n",
        "* Reflexiones\n",
        "* Referencias Bibliográficas\n",
        "\n",
        "## INTRODUCCIÓN\n",
        "En la 'Práctica 1' se mencionaron tanto los aspectos más relevantes de las Redes de Neuronas Artificiales, como su semejanza con la neurología biológica; y se dio a entender el gran impacto que la Inteligencia Artificial (IA) está cobrando en nuestras vidas. Por consiguiente, y con el fin de no ser repetitivos, únicamente presentaremos en otro estilo de red neuronal: la Red de Neuronas Convolucionales.\n",
        "\n",
        "Este proyecto volverá a examinar los productos de la tienda de moda online alemana especializada en ventas de ropa y zapatos 'Zalando' (www.zalando.com).\n",
        "\n",
        "Este estudio se centrará en entender el comportamiento de una Red de Neuronas Convolucionales. Asimismo, servirá de gran ayuda en la comprensión de sus similitudes y diferencias con una Red de Neuronas Artificiales como aquella de la práctica previa.\n",
        "\n",
        "## RESOLUCIÓN\n",
        "El primer paso será comprender el enunciado y extraer los datos que se nos aportan.\n",
        "\n",
        "### PROBLEMA:\n",
        "\n",
        "Reconocer y clasificar imágenes de ropa - en escala de grises - en sus diferentes tipologías (10). Este modelo será definido, configurado, entrenado, evaluado y mejorado para posteriormente usarlo para hacer predicciones.\n",
        "Crear un modelo de Red de Neuronas COnvolucionales en Keras aplicando de una tirada todos los pasos al conjunto de datos Fashion-MNIST - precargado en Keras - y que ya se ha utilizado para la 'Prática 1'.\n",
        "Se dispone de 70k imágenes del conjunto de datos de Fashion-MNIST en baja resolución (28 x 28 píxeles): artículos de Zalando, una tienda de moda online alemana especializada en ventas de ropa y zapatos. Se usarán 60K imágenes para el entrenamiento de la red, y 10K imágenes para evaluar la precisión con la que la red aprende a clasificarlas.\n",
        "Una vez se tienen claro los materiales con los que se trabajará, se podrá empezar a incorporar código. Sin embargo, antes de comenzar importemnos qyuras y el resto de librerías necesarias para la red neuronal, asegurando que es la versión 2.0.0 (o superior) de TensorFlow.\n",
        "\n"
      ],
      "metadata": {
        "id": "NnaXF6hwqFI4"
      }
    },
    {
      "cell_type": "markdown",
      "source": [
        "### **Cuestiones a tener en cuenta:**\n",
        "\n",
        "\n",
        "1.   Importar todas las librerías\n",
        "2.   Aregurarnos de que estamos utilizando la versión 2.0.0 o superior de TensorFlow\n",
        "3. Cargar  los  datos  de  entrenamiento  y  de  Test  a  partir  de `keras.datasets.fashion_mnist `\n",
        "4. La clasificación corresponde, según el código numérico de clase, a: \n",
        "\n",
        ">>>>>>| *CLASE* | *PRENDA* |\n",
        "|-----------|------------|\n",
        "| 0         | T-shirt    |\n",
        "| 1         | Trouser    |\n",
        "| 2         | Pullover   |\n",
        "| 3         | Dress      |\n",
        "| 4         | Coat       |\n",
        "| 5         | Sandal     |\n",
        "| 6         | Shirt      |\n",
        "| 7         | Sneaker    |\n",
        "| 8         | Bag        |\n",
        "| 9         | Ankle boot |\n",
        "\n",
        "5. Es una buena práctica analizar si los datos tienen la forma esperada \n",
        "6. Durante una posible fase de pre procesado de datos, analizar el uso de la función de keras `keras.layers.Flatten() `\n",
        "\n",
        "\n",
        "\n",
        "\n",
        "\n",
        "\n",
        "\n",
        "\n"
      ],
      "metadata": {
        "id": "tysDaThOq-mD"
      }
    },
    {
      "cell_type": "code",
      "source": [
        "# 1._ IMPORTAMOS KERAS\n",
        "%tensorflow_version 2.x\n",
        "import tensorflow as tf\n",
        "from tensorflow import keras\n",
        "\n",
        "import numpy as np\n",
        "import pandas as pd\n",
        "import matplotlib.image as mpim\n",
        "import matplotlib.pyplot as plt\n",
        "%matplotlib inline\n",
        "\n",
        "from keras import backend as K\n",
        "from keras.utils import np_utils\n",
        "from sklearn.model_selection import train_test_split\n",
        "from keras.models import Sequential\n",
        "from keras.layers import Dense, Dropout, Flatten, Reshape, InputLayer"
      ],
      "metadata": {
        "colab": {
          "base_uri": "https://localhost:8080/"
        },
        "id": "y0wzVQ1nsETC",
        "outputId": "261989cd-8acc-4aad-cc3a-4d91bef373c4"
      },
      "execution_count": 1,
      "outputs": [
        {
          "output_type": "stream",
          "name": "stdout",
          "text": [
            "Colab only includes TensorFlow 2.x; %tensorflow_version has no effect.\n"
          ]
        }
      ]
    },
    {
      "cell_type": "code",
      "source": [
        "# 2. Imprimir versión de TensorFlow\n",
        "print(tf.keras.__version__)\n",
        "print(\"GPU Available:\", tf.config.list_physical_devices('GPU'))\n",
        "print(tf.__version__)"
      ],
      "metadata": {
        "colab": {
          "base_uri": "https://localhost:8080/"
        },
        "id": "ztpNpJ5-wBLG",
        "outputId": "5fbf03bb-6d9b-4d9e-d3c4-90f4db904dd8"
      },
      "execution_count": 2,
      "outputs": [
        {
          "output_type": "stream",
          "name": "stdout",
          "text": [
            "2.9.0\n",
            "GPU Available: []\n",
            "2.9.2\n"
          ]
        }
      ]
    },
    {
      "cell_type": "markdown",
      "source": [
        "A continuación, cargamos el conjunto de datos MNIST en Keras con el que vamos a trabajar en esta prática."
      ],
      "metadata": {
        "id": "brZh27wlsLKz"
      }
    },
    {
      "cell_type": "code",
      "source": [
        "# 3.- CARGAMOS EL CONJUNTO DE DATOS MINIST EN KERAS\n",
        "# mnist = tf.keras.datasets.mnist\n",
        "from keras.datasets import mnist\n",
        "\n",
        "fashion_mnist = keras.datasets.fashion_mnist\n",
        "(train_images, train_labels), (test_images, test_labels) = fashion_mnist.load_data()"
      ],
      "metadata": {
        "colab": {
          "base_uri": "https://localhost:8080/"
        },
        "id": "LaIXMY5csNYD",
        "outputId": "9ba130e9-d91e-4e03-fa82-b2f1738f1b0c"
      },
      "execution_count": 3,
      "outputs": [
        {
          "output_type": "stream",
          "name": "stdout",
          "text": [
            "Downloading data from https://storage.googleapis.com/tensorflow/tf-keras-datasets/train-labels-idx1-ubyte.gz\n",
            "29515/29515 [==============================] - 0s 0us/step\n",
            "Downloading data from https://storage.googleapis.com/tensorflow/tf-keras-datasets/train-images-idx3-ubyte.gz\n",
            "26421880/26421880 [==============================] - 0s 0us/step\n",
            "Downloading data from https://storage.googleapis.com/tensorflow/tf-keras-datasets/t10k-labels-idx1-ubyte.gz\n",
            "5148/5148 [==============================] - 0s 0us/step\n",
            "Downloading data from https://storage.googleapis.com/tensorflow/tf-keras-datasets/t10k-images-idx3-ubyte.gz\n",
            "4422102/4422102 [==============================] - 0s 0us/step\n"
          ]
        }
      ]
    },
    {
      "cell_type": "markdown",
      "source": [
        "Al cargar el set de datos retorna cuatro arreglos en NumPy:\n",
        "\n",
        "* `train_images` y `train_labels` son el conjunto de entrenamiento (los datos de los que aprenderá el modelo).\n",
        "* `test_images` y `test_labels` son el conjunto de pruebas (los datos con los que testearemos el modelo ya entrenado).\n",
        "* Las imágenes están codificadas como matrices `Numpy`, y las etiquetas son un vector de números con valores entre el 0 y el 9 (imágenes y etiquetas tienen una correspondencia 1 a 1)\n",
        "\n",
        ">>>>>>| *CLASE* | *PRENDA* |\n",
        "|-----------|------------|\n",
        "| 0         | T-shirt    |\n",
        "| 1         | Trouser    |\n",
        "| 2         | Pullover   |\n",
        "| 3         | Dress      |\n",
        "| 4         | Coat       |\n",
        "| 5         | Sandal     |\n",
        "| 6         | Shirt      |\n",
        "| 7         | Sneaker    |\n",
        "| 8         | Bag        |\n",
        "| 9         | Ankle boot |\n",
        "\n",
        "Como los Class names no están incluidos los podremos a mano en el siguiente código:"
      ],
      "metadata": {
        "id": "LYyeHK9hsXQa"
      }
    },
    {
      "cell_type": "code",
      "source": [
        "# 4. Clasificación\n",
        "nombres = ['T-shirt/top', 'Trouser', 'Pullover', 'Dress', 'Coat',\n",
        "               'Sandal', 'Shirt', 'Sneaker', 'Bag', 'Ankle boot']"
      ],
      "metadata": {
        "id": "ogdAVJlatoun"
      },
      "execution_count": 4,
      "outputs": []
    },
    {
      "cell_type": "markdown",
      "source": [
        "Una vez tenemos los datos preparados, se puede proceder a revisar los datos de entrenamiento."
      ],
      "metadata": {
        "id": "_a9pNO_rttwv"
      }
    },
    {
      "cell_type": "code",
      "source": [
        "# 5. Pre-procesamiento de datos\n",
        "print(train_images.shape)"
      ],
      "metadata": {
        "colab": {
          "base_uri": "https://localhost:8080/"
        },
        "id": "PQi69ilDt8Y3",
        "outputId": "00fbc624-76e8-45d4-8f4a-2f345cf5a00e"
      },
      "execution_count": 5,
      "outputs": [
        {
          "output_type": "stream",
          "name": "stdout",
          "text": [
            "(60000, 28, 28)\n"
          ]
        }
      ]
    },
    {
      "cell_type": "markdown",
      "source": [
        "Esto nos indica que el 'Dataset' de los datos de entrenamiento contiene 60K imágenes de 28x28, tal y como indica el enunciado. Hagamos lo mismo con los datos correspondientes a las imágenes de 'test':"
      ],
      "metadata": {
        "id": "zLnxlzMAt_c_"
      }
    },
    {
      "cell_type": "code",
      "source": [
        "print(test_images.shape)"
      ],
      "metadata": {
        "colab": {
          "base_uri": "https://localhost:8080/"
        },
        "id": "SwVerlLguBrL",
        "outputId": "ebf689c4-3a4a-48ac-fef4-3d631b91d3b0"
      },
      "execution_count": 6,
      "outputs": [
        {
          "output_type": "stream",
          "name": "stdout",
          "text": [
            "(10000, 28, 28)\n"
          ]
        }
      ]
    },
    {
      "cell_type": "markdown",
      "source": [
        "De esta manera, apreciamos que se trata de un array de 10K imágenes de 28x28.\n",
        "\n",
        "A continución, veamos las imágenes de otra forma. Por ejemplo, representemos la matriz de la imagen correspondiente a la posición 0 del array de las imágenes de entrenamiento:"
      ],
      "metadata": {
        "id": "QTKrHr6euEw1"
      }
    },
    {
      "cell_type": "code",
      "source": [
        "plt.figure()\n",
        "plt.imshow(train_images[0])\n",
        "plt.colorbar()\n",
        "plt.grid(False)\n",
        "plt.show()"
      ],
      "metadata": {
        "colab": {
          "base_uri": "https://localhost:8080/",
          "height": 54
        },
        "id": "FibhQWBGuG-3",
        "outputId": "2cf979ee-3522-4830-9bee-d6085b8eeb9c"
      },
      "execution_count": 7,
      "outputs": [
        {
          "output_type": "display_data",
          "data": {
            "text/plain": [
              "<Figure size 432x288 with 2 Axes>"
            ],
            "image/png": "[encoded data removed]"
          },
          "metadata": {
            "needs_background": "light"
          }
        }
      ]
    },
    {
      "cell_type": "markdown",
      "source": [
        "Una vez se han comprobado las dimensiones de los arrays que se necesitarán, y se tiene clara la estructura de los datos de entrada, nos encontramos con un problema: se observa que los valores oscilan en un rango entre 0 y 250. Sin embargo, si se desea aplicarlos a la red neuronal convolucional, deben ser transformados a valores entre 0 y 1. De esta forma, nos aseguramos de que los datos de entrenamiento y de test se hayan normalizado, y puedan ser porcesados de la misma manera. Arreglémoslo de la siguiente forma:"
      ],
      "metadata": {
        "id": "rMl7APeQuLRn"
      }
    },
    {
      "cell_type": "code",
      "source": [
        "train_images = train_images.astype('float32') / 255\n",
        "test_images = test_images.astype('float32') / 255\n",
        "\n",
        "print (train_images.shape)\n",
        "print (train_labels.shape)"
      ],
      "metadata": {
        "colab": {
          "base_uri": "https://localhost:8080/"
        },
        "id": "iyMcGNxwuM5B",
        "outputId": "0f772f68-7ae4-41dc-bab6-9ef9c0fb90da"
      },
      "execution_count": 8,
      "outputs": [
        {
          "output_type": "stream",
          "name": "stdout",
          "text": [
            "(60000, 28, 28)\n",
            "(60000,)\n"
          ]
        }
      ]
    },
    {
      "cell_type": "markdown",
      "source": [
        "Volvamos a mostrar la imagen anterior. Esta vez, los valores se presentarán en el rango [0,1], debido a la normalización de los datos previamente realizada:"
      ],
      "metadata": {
        "id": "WL5Bbr6FuUJ_"
      }
    },
    {
      "cell_type": "code",
      "source": [
        "plt.figure()\n",
        "plt.imshow(train_images[0])\n",
        "plt.colorbar()\n",
        "plt.grid(False)\n",
        "plt.show()"
      ],
      "metadata": {
        "colab": {
          "base_uri": "https://localhost:8080/",
          "height": 54
        },
        "id": "X1wTJa8GuVaw",
        "outputId": "51b775c2-f062-49e3-ff77-c466f10e02f1"
      },
      "execution_count": 9,
      "outputs": [
        {
          "output_type": "display_data",
          "data": {
            "text/plain": [
              "<Figure size 432x288 with 2 Axes>"
            ],
            "image/png": "[encoded data removed]"
          },
          "metadata": {
            "needs_background": "light"
          }
        }
      ]
    },
    {
      "cell_type": "markdown",
      "source": [
        "A su vez, existe la posibilidad de visalizar las imágenes en su forma matricial. Utilicemos como ejemplo la imagen correspondiente a la posición 2000 del array de los datos de entrenamiento."
      ],
      "metadata": {
        "id": "3-fnWbzCubJx"
      }
    },
    {
      "cell_type": "code",
      "source": [
        "np.set_printoptions(precision=2, suppress=True, linewidth=145)\n",
        "print(np.matrix(train_images[20000]))"
      ],
      "metadata": {
        "colab": {
          "base_uri": "https://localhost:8080/"
        },
        "id": "BYRSsxDXucVo",
        "outputId": "df92e132-bf71-4f1c-f8c7-73c2b8013dcd"
      },
      "execution_count": 10,
      "outputs": [
        {
          "output_type": "stream",
          "name": "stdout",
          "text": [
            "[[0.   0.   0.   0.   0.   0.   0.   0.   0.   0.   0.   0.   0.   0.   0.   0.   0.   0.   0.   0.   0.   0.   0.   0.   0.   0.   0.   0.  ]\n",
            " [0.   0.   0.   0.   0.   0.   0.   0.   0.   0.   0.   0.   0.   0.   0.   0.   0.   0.   0.   0.   0.   0.   0.   0.   0.   0.   0.   0.  ]\n",
            " [0.   0.   0.   0.   0.   0.   0.   0.   0.   0.   0.   0.   0.   0.   0.   0.   0.   0.   0.   0.   0.   0.   0.   0.   0.   0.   0.   0.  ]\n",
            " [0.   0.   0.   0.   0.   0.   0.   0.   0.   0.   0.   0.   0.   0.   0.   0.   0.   0.   0.   0.   0.   0.   0.   0.   0.   0.   0.   0.  ]\n",
            " [0.   0.   0.   0.   0.   0.   0.   0.   0.   0.   0.   0.   0.   0.   0.   0.   0.   0.   0.   0.   0.   0.   0.   0.   0.   0.   0.   0.  ]\n",
            " [0.   0.   0.   0.   0.   0.   0.   0.   0.   0.   0.   0.   0.   0.   0.   0.   0.   0.   0.   0.   0.   0.   0.   0.   0.   0.   0.   0.  ]\n",
            " [0.   0.   0.   0.   0.   0.   0.   0.   0.   0.   0.   0.   0.   0.   0.   0.   0.   0.   0.   0.   0.   0.   0.   0.   0.   0.   0.   0.  ]\n",
            " [0.   0.   0.   0.   0.   0.   0.   0.   0.   0.   0.   0.   0.   0.   0.   0.   0.   0.   0.   0.   0.   0.   0.   0.   0.   0.   0.   0.  ]\n",
            " [0.   0.   0.   0.   0.   0.   0.   0.   0.   0.   0.   0.   0.   0.   0.   0.   0.   0.   0.   0.   0.   0.   0.   0.   0.   0.   0.   0.  ]\n",
            " [0.   0.   0.   0.   0.   0.   0.   0.   0.   0.   0.   0.01 0.   0.   0.14 0.26 0.22 0.   0.   0.01 0.   0.   0.   0.   0.   0.   0.16 0.11]\n",
            " [0.   0.   0.   0.   0.   0.   0.   0.   0.01 0.   0.   0.   0.   0.63 1.   0.85 1.   0.37 0.   0.   0.   0.   0.02 0.   0.   0.   0.25 0.15]\n",
            " [0.   0.   0.   0.   0.   0.   0.   0.   0.   0.   0.   0.59 0.93 0.84 0.78 0.76 0.77 0.98 0.78 0.16 0.   0.   0.   0.   0.   0.25 0.93 0.1 ]\n",
            " [0.   0.01 0.   0.   0.   0.   0.   0.   0.26 0.65 0.95 0.85 0.8  0.75 0.75 0.79 0.78 0.77 0.84 1.   0.77 0.48 0.38 0.48 0.73 0.81 0.89 0.25]\n",
            " [0.   0.   0.   0.   0.   0.   0.16 0.7  0.88 0.84 0.78 0.75 0.76 0.75 0.75 0.78 0.81 0.8  0.8  0.81 0.84 0.88 0.89 0.88 0.86 0.8  0.85 0.49]\n",
            " [0.   0.29 0.53 0.57 0.65 0.75 0.8  0.78 0.76 0.75 0.76 0.77 0.76 0.79 0.8  0.81 0.8  0.78 0.8  0.8  0.79 0.79 0.78 0.78 0.78 0.77 0.87 0.52]\n",
            " [0.05 0.64 0.84 0.85 0.86 0.85 0.84 0.82 0.83 0.82 0.81 0.8  0.81 0.82 0.81 0.81 0.81 0.81 0.82 0.81 0.82 0.81 0.81 0.81 0.81 0.8  0.89 0.59]\n",
            " [0.11 0.01 0.   0.06 0.17 0.32 0.47 0.53 0.66 0.73 0.81 0.86 0.87 0.89 0.91 0.93 0.95 0.95 0.93 0.92 0.93 0.93 0.93 0.91 0.89 0.85 0.96 0.41]\n",
            " [0.13 0.22 0.17 0.07 0.   0.   0.   0.   0.   0.   0.   0.   0.   0.   0.03 0.06 0.05 0.07 0.08 0.05 0.04 0.06 0.08 0.08 0.09 0.08 0.24 0.15]\n",
            " [0.   0.   0.05 0.16 0.29 0.32 0.27 0.26 0.22 0.18 0.15 0.15 0.13 0.14 0.15 0.14 0.15 0.16 0.15 0.14 0.15 0.16 0.18 0.21 0.24 0.31 0.45 0.25]\n",
            " [0.   0.   0.   0.   0.   0.06 0.12 0.22 0.26 0.27 0.32 0.35 0.32 0.28 0.24 0.18 0.13 0.13 0.15 0.18 0.18 0.17 0.12 0.07 0.05 0.07 0.09 0.  ]\n",
            " [0.   0.   0.   0.   0.   0.   0.   0.   0.   0.   0.   0.   0.   0.   0.   0.   0.   0.   0.   0.   0.   0.   0.   0.   0.   0.   0.   0.  ]\n",
            " [0.   0.   0.   0.   0.   0.   0.   0.   0.   0.   0.   0.   0.   0.   0.   0.   0.   0.   0.   0.   0.   0.   0.   0.   0.   0.   0.   0.  ]\n",
            " [0.   0.   0.   0.   0.   0.   0.   0.   0.   0.   0.   0.   0.   0.   0.   0.   0.   0.   0.   0.   0.   0.   0.   0.   0.   0.   0.   0.  ]\n",
            " [0.   0.   0.   0.   0.   0.   0.   0.   0.   0.   0.   0.   0.   0.   0.   0.   0.   0.   0.   0.   0.   0.   0.   0.   0.   0.   0.   0.  ]\n",
            " [0.   0.   0.   0.   0.   0.   0.   0.   0.   0.   0.   0.   0.   0.   0.   0.   0.   0.   0.   0.   0.   0.   0.   0.   0.   0.   0.   0.  ]\n",
            " [0.   0.   0.   0.   0.   0.   0.   0.   0.   0.   0.   0.   0.   0.   0.   0.   0.   0.   0.   0.   0.   0.   0.   0.   0.   0.   0.   0.  ]\n",
            " [0.   0.   0.   0.   0.   0.   0.   0.   0.   0.   0.   0.   0.   0.   0.   0.   0.   0.   0.   0.   0.   0.   0.   0.   0.   0.   0.   0.  ]\n",
            " [0.   0.   0.   0.   0.   0.   0.   0.   0.   0.   0.   0.   0.   0.   0.   0.   0.   0.   0.   0.   0.   0.   0.   0.   0.   0.   0.   0.  ]]\n"
          ]
        }
      ]
    },
    {
      "cell_type": "markdown",
      "source": [
        "Simula la silueta de un 'sneaker'; así que, comprobémoslo con su correspondiente imagen asociada. Cabe destacar que observamos que los valores seguirán estando entre 0 y 1:"
      ],
      "metadata": {
        "id": "F43yZuEhup5Z"
      }
    },
    {
      "cell_type": "code",
      "source": [
        "plt.figure()\n",
        "plt.imshow(train_images[2000])\n",
        "plt.colorbar()\n",
        "plt.grid(False)\n",
        "plt.show()"
      ],
      "metadata": {
        "colab": {
          "base_uri": "https://localhost:8080/",
          "height": 54
        },
        "id": "Rt7EHDTiurDJ",
        "outputId": "85d959ce-02e0-4819-b5ab-84d6d02b5feb"
      },
      "execution_count": 11,
      "outputs": [
        {
          "output_type": "display_data",
          "data": {
            "text/plain": [
              "<Figure size 432x288 with 2 Axes>"
            ],
            "image/png": "[encoded data removed]"
          },
          "metadata": {
            "needs_background": "light"
          }
        }
      ]
    },
    {
      "cell_type": "markdown",
      "source": [
        "Por último, antes de comenzar con la red neuronal convolucional, incluimos una representación de los 10 primeros elementos con sus correspondientes etiquetas. De esta forma, nos aseguramos de que el 'Dataset' sea correcto."
      ],
      "metadata": {
        "id": "ERPXJI6quu1N"
      }
    },
    {
      "cell_type": "code",
      "source": [
        "\n",
        "plt.figure(figsize=(10,10))\n",
        "for i in range(10):\n",
        "    plt.subplot(5,5,i+1)\n",
        "    plt.xticks([])\n",
        "    plt.yticks([])\n",
        "    plt.grid(False)\n",
        "    plt.imshow(train_images[i], cmap=plt.cm.binary)\n",
        "    plt.xlabel(nombres[train_labels[i]])\n",
        "plt.show()"
      ],
      "metadata": {
        "colab": {
          "base_uri": "https://localhost:8080/",
          "height": 54
        },
        "id": "aI6FGZLjuwKb",
        "outputId": "92217a10-cf6c-4bf2-abd8-128c37838b87"
      },
      "execution_count": 12,
      "outputs": [
        {
          "output_type": "display_data",
          "data": {
            "text/plain": [
              "<Figure size 720x720 with 10 Axes>"
            ],
            "image/png": "[encoded data removed]"
          },
          "metadata": {}
        }
      ]
    },
    {
      "cell_type": "markdown",
      "source": [
        "### **Cuestiones para implementar y responder**"
      ],
      "metadata": {
        "id": "lggHA_nfxkHF"
      }
    },
    {
      "cell_type": "markdown",
      "source": [
        "**1. Configurar y entrenar los siguientes modelos de red de neuronas convolucionales, analizando y reflexionando sobre los resultados:** \n",
        "\n",
        "| *Casos* | *Número de filtros 1ª capa convolucional* | *Tamaño ventana 1ª capa convolucional* | *Función activación 1ª capa convolucional* | *Padding*| *Ventana 1ª capa pooling* | *Número de filtros 2ª capa convolucional* |*Tamaño ventana 2ª capa convolucional* | *Función activación 2ª capa convolucional* | *Padding*| *Ventana 2ª capa pooling* | *Capa Flatten* | *Función Activación ultima capa densa* |*Función Activación penúltima capa densa* | *Optimizador*| *Funcion de Pérdida*| *Métrica*| *Nº de iteraciones*|\n",
        "|-----------|------------|------------|------------|------------|------------|------------|------------|------------|------------|------------|------------|------------|------------|------------|------------|------------|------------|\n",
        "| Caso 1         | 32   | 5x5 | relu | -| 2x2 | 64 | 5x5 | relu | - | 2x2 | -| softmax| -| sgd|sparse_categorical_crossentropy|accuracy|5|\n",
        "| Caso 2         | 64|7x7|relu|same|2x2|128|3x3|relu|same|2x2|-|softmax|65|sgd| sparse_categorical_crossentropy|accuracy|5|\n",
        "| Caso 3         | 64|7x7|relu|same|2x2|128|3x3|relu|same|2x2|-|softmax|65|adam| sparse_categorical_crossentropy|accuracy|5|\n",
        "\n"
      ],
      "metadata": {
        "id": "ToUYL7UvxuLy"
      }
    },
    {
      "cell_type": "markdown",
      "source": [
        "**Caso 1**"
      ],
      "metadata": {
        "id": "BTZ98pDq66KY"
      }
    },
    {
      "cell_type": "code",
      "source": [
        "# CREAR EL MODELO DE RED NEURONAL CNN:\n",
        "from tensorflow.keras import Sequential\n",
        "from tensorflow.keras.layers import Conv2D\n",
        "from tensorflow.keras.layers import MaxPooling2D\n",
        "\n",
        "model1 = Sequential()\n",
        "model1.add(Conv2D(32, (5, 5), activation='relu', input_shape=(28, 28, 1))) # 1ª capa convolucional\n",
        "model1.add(MaxPooling2D((2, 2))) # 1ª capa pooling\n",
        "\n",
        "model1.add(Conv2D(64, (5, 5), activation='relu')) # 2ª capa convolucional\n",
        "model1.add(MaxPooling2D((2, 2))) # 2ª capa pooling\n",
        "\n",
        "model1.add(Flatten()) # Flatten, no es una capa, solo aplana\n",
        "\n",
        "model1.add(Dense(10, activation='softmax')) # Última capa densa\n",
        "\n",
        "# COMPILAR EL MODELO CON MÉTRICA PRECISIÓN:\n",
        "model1.compile(loss='sparse_categorical_crossentropy',\n",
        "               optimizer='sgd',\n",
        "               metrics=['accuracy'])\n",
        "\n",
        "history = model1.fit\n",
        "\n",
        "model1.fit(train_images, train_labels,\n",
        "           epochs=5)\n",
        "\n",
        "test_loss1, test_acc1 = model1.evaluate(test_images, test_labels)"
      ],
      "metadata": {
        "colab": {
          "base_uri": "https://localhost:8080/"
        },
        "id": "q1svHDnh6pNu",
        "outputId": "1a6de1ac-c1ba-46cb-f300-bfa8d677fcdd"
      },
      "execution_count": 13,
      "outputs": [
        {
          "output_type": "stream",
          "name": "stdout",
          "text": [
            "Epoch 1/5\n",
            "1875/1875 [==============================] - 90s 47ms/step - loss: 0.8419 - accuracy: 0.6987\n",
            "Epoch 2/5\n",
            "1875/1875 [==============================] - 102s 54ms/step - loss: 0.5145 - accuracy: 0.8150\n",
            "Epoch 3/5\n",
            "1875/1875 [==============================] - 94s 50ms/step - loss: 0.4473 - accuracy: 0.8424\n",
            "Epoch 4/5\n",
            "1875/1875 [==============================] - 92s 49ms/step - loss: 0.4127 - accuracy: 0.8544\n",
            "Epoch 5/5\n",
            "1875/1875 [==============================] - 85s 45ms/step - loss: 0.3885 - accuracy: 0.8626\n",
            "313/313 [==============================] - 5s 15ms/step - loss: 0.4144 - accuracy: 0.8541\n"
          ]
        }
      ]
    },
    {
      "cell_type": "markdown",
      "source": [
        "**Caso 2**"
      ],
      "metadata": {
        "id": "Pv-dvnMS7JPh"
      }
    },
    {
      "cell_type": "code",
      "source": [
        "# CREAR EL MODELO DE RED NEURONAL CNN:\n",
        "model2 = Sequential()\n",
        "model2.add(Conv2D(64, (7, 7), activation='relu', input_shape=(28, 28, 1), padding='same')) # 1ª capa convolucional\n",
        "model2.add(MaxPooling2D((2, 2))) # 1ª capa pooling\n",
        "\n",
        "model2.add(Conv2D(128, (3, 3), activation='relu', padding='same')) # 2ª capa convolucional\n",
        "model2.add(MaxPooling2D((2, 2))) # 2ª capa pooling\n",
        "\n",
        "model2.add(Flatten()) # Flatten, no es una capa, solo aplana\n",
        "\n",
        "model2.add(Dense(65,activation='relu')) # Penúltima capa densa\n",
        "model2.add(Dense(10, activation='softmax')) # Última capa densa\n",
        "\n",
        "# COMPILAR EL MODELO CON MÉTRICA PRECISIÓN:\n",
        "model2.compile(loss='sparse_categorical_crossentropy',\n",
        "               optimizer='sgd',\n",
        "               metrics=['accuracy'])\n",
        "\n",
        "history = model2.fit\n",
        "\n",
        "model2.fit(train_images, train_labels,\n",
        "           epochs=5)\n",
        "\n",
        "test_loss2, test_acc2 = model2.evaluate(test_images, test_labels)"
      ],
      "metadata": {
        "colab": {
          "base_uri": "https://localhost:8080/"
        },
        "id": "PcsFRIpo7Ccj",
        "outputId": "9f5cc7d3-251f-4acc-d50f-f46989a99a5e"
      },
      "execution_count": 14,
      "outputs": [
        {
          "output_type": "stream",
          "name": "stdout",
          "text": [
            "Epoch 1/5\n",
            "1875/1875 [==============================] - 273s 145ms/step - loss: 0.7678 - accuracy: 0.7200\n",
            "Epoch 2/5\n",
            "1875/1875 [==============================] - 246s 131ms/step - loss: 0.4829 - accuracy: 0.8238\n",
            "Epoch 3/5\n",
            "1875/1875 [==============================] - 243s 129ms/step - loss: 0.4138 - accuracy: 0.8509\n",
            "Epoch 4/5\n",
            "1875/1875 [==============================] - 245s 131ms/step - loss: 0.3785 - accuracy: 0.8650\n",
            "Epoch 5/5\n",
            "1875/1875 [==============================] - 243s 129ms/step - loss: 0.3530 - accuracy: 0.8731\n",
            "313/313 [==============================] - 11s 35ms/step - loss: 0.3649 - accuracy: 0.8713\n"
          ]
        }
      ]
    },
    {
      "cell_type": "markdown",
      "source": [
        "**Caso 3**"
      ],
      "metadata": {
        "id": "lNcjUSvf7LWk"
      }
    },
    {
      "cell_type": "code",
      "source": [
        "# CREAR EL MODELO DE RED NEURONAL CNN:\n",
        "model3 = Sequential()\n",
        "model3.add(Conv2D(64, (7, 7), activation='relu', input_shape=(28, 28, 1), padding='same')) # 1ª capa convolucional\n",
        "model3.add(MaxPooling2D((2, 2))) # 1ª capa pooling\n",
        "\n",
        "model3.add(Conv2D(128, (3, 3), activation='relu', padding='same')) # 2ª capa convolucional\n",
        "model3.add(MaxPooling2D((2, 2))) # 2ª capa pooling\n",
        "\n",
        "model3.add(Flatten()) # Flatten, no es una capa, solo aplana\n",
        "\n",
        "model3.add(Dense(65,activation='relu')) # Penúltima capa densa\n",
        "model3.add(Dense(10, activation='softmax')) # Última capa densa\n",
        "\n",
        "\n",
        "# COMPILAR EL MODELO CON MÉTRICA PRECISIÓN:\n",
        "model3.compile(loss='sparse_categorical_crossentropy',\n",
        "               optimizer='adam',\n",
        "               metrics=['accuracy'])\n",
        "\n",
        "history = model3.fit\n",
        "\n",
        "model3.fit(train_images, train_labels,\n",
        "           epochs=5)\n",
        "\n",
        "test_loss3, test_acc3 = model3.evaluate(test_images, test_labels)"
      ],
      "metadata": {
        "colab": {
          "base_uri": "https://localhost:8080/"
        },
        "id": "oNVZxBK57NSv",
        "outputId": "33e9d653-0e88-447a-e649-93c91b917ed9"
      },
      "execution_count": 15,
      "outputs": [
        {
          "output_type": "stream",
          "name": "stdout",
          "text": [
            "Epoch 1/5\n",
            "1875/1875 [==============================] - 251s 134ms/step - loss: 0.4104 - accuracy: 0.8504\n",
            "Epoch 2/5\n",
            "1875/1875 [==============================] - 242s 129ms/step - loss: 0.2706 - accuracy: 0.8990\n",
            "Epoch 3/5\n",
            "1875/1875 [==============================] - 247s 132ms/step - loss: 0.2273 - accuracy: 0.9143\n",
            "Epoch 4/5\n",
            "1875/1875 [==============================] - 241s 128ms/step - loss: 0.1977 - accuracy: 0.9266\n",
            "Epoch 5/5\n",
            "1875/1875 [==============================] - 239s 127ms/step - loss: 0.1746 - accuracy: 0.9345\n",
            "313/313 [==============================] - 11s 34ms/step - loss: 0.2602 - accuracy: 0.9130\n"
          ]
        }
      ]
    },
    {
      "cell_type": "markdown",
      "source": [
        "Una vez compilados los tres modelos podemos observar que la precisión máxima de cada modelo con respecto a los datos de entrenamiento es:\n",
        "\n",
        "* Caso 1: 0.8680\n",
        "* Caso 2: 0.8859\n",
        "* Caso 3: 0.9358\n",
        "\n",
        "Coincide que todos los valores se hayan en la última época, lo que nos indica que no hay sobre entrenamiento. Concluimos que el mejor modelo es el 3, con un 93,58% de precisión."
      ],
      "metadata": {
        "id": "y31YPDcc8hrF"
      }
    },
    {
      "cell_type": "markdown",
      "source": [
        "**2. Explicar la salida de la llamada model.summary() de cada uno de los 3 casos**\n",
        "\n",
        "Los resúmenes de cada modelo nos muestran los distintos tensores - especificados - con los que se va a trabajar, a la vez que el total de parámetros entrenables."
      ],
      "metadata": {
        "id": "7mO8_YvX8uBN"
      }
    },
    {
      "cell_type": "code",
      "source": [
        "casos=3\n",
        "models=[model1,model2,model3]\n",
        "for caso in range(casos):\n",
        "  print(\"CASO \",caso + 1)\n",
        "  print(\"---------------------------------\")\n",
        "  models[caso].summary()\n",
        "  print(\"\\n\\n\")"
      ],
      "metadata": {
        "colab": {
          "base_uri": "https://localhost:8080/"
        },
        "id": "q_9mDfTFANPq",
        "outputId": "d786a53a-b3ac-4fac-b207-5b9823cfb703"
      },
      "execution_count": 16,
      "outputs": [
        {
          "output_type": "stream",
          "name": "stdout",
          "text": [
            "CASO  1\n",
            "---------------------------------\n",
            "Model: \"sequential\"\n",
            "_________________________________________________________________\n",
            " Layer (type)                Output Shape              Param #   \n",
            "=================================================================\n",
            " conv2d (Conv2D)             (None, 24, 24, 32)        832       \n",
            "                                                                 \n",
            " max_pooling2d (MaxPooling2D  (None, 12, 12, 32)       0         \n",
            " )                                                               \n",
            "                                                                 \n",
            " conv2d_1 (Conv2D)           (None, 8, 8, 64)          51264     \n",
            "                                                                 \n",
            " max_pooling2d_1 (MaxPooling  (None, 4, 4, 64)         0         \n",
            " 2D)                                                             \n",
            "                                                                 \n",
            " flatten (Flatten)           (None, 1024)              0         \n",
            "                                                                 \n",
            " dense (Dense)               (None, 10)                10250     \n",
            "                                                                 \n",
            "=================================================================\n",
            "Total params: 62,346\n",
            "Trainable params: 62,346\n",
            "Non-trainable params: 0\n",
            "_________________________________________________________________\n",
            "\n",
            "\n",
            "\n",
            "CASO  2\n",
            "---------------------------------\n",
            "Model: \"sequential_1\"\n",
            "_________________________________________________________________\n",
            " Layer (type)                Output Shape              Param #   \n",
            "=================================================================\n",
            " conv2d_2 (Conv2D)           (None, 28, 28, 64)        3200      \n",
            "                                                                 \n",
            " max_pooling2d_2 (MaxPooling  (None, 14, 14, 64)       0         \n",
            " 2D)                                                             \n",
            "                                                                 \n",
            " conv2d_3 (Conv2D)           (None, 14, 14, 128)       73856     \n",
            "                                                                 \n",
            " max_pooling2d_3 (MaxPooling  (None, 7, 7, 128)        0         \n",
            " 2D)                                                             \n",
            "                                                                 \n",
            " flatten_1 (Flatten)         (None, 6272)              0         \n",
            "                                                                 \n",
            " dense_1 (Dense)             (None, 65)                407745    \n",
            "                                                                 \n",
            " dense_2 (Dense)             (None, 10)                660       \n",
            "                                                                 \n",
            "=================================================================\n",
            "Total params: 485,461\n",
            "Trainable params: 485,461\n",
            "Non-trainable params: 0\n",
            "_________________________________________________________________\n",
            "\n",
            "\n",
            "\n",
            "CASO  3\n",
            "---------------------------------\n",
            "Model: \"sequential_2\"\n",
            "_________________________________________________________________\n",
            " Layer (type)                Output Shape              Param #   \n",
            "=================================================================\n",
            " conv2d_4 (Conv2D)           (None, 28, 28, 64)        3200      \n",
            "                                                                 \n",
            " max_pooling2d_4 (MaxPooling  (None, 14, 14, 64)       0         \n",
            " 2D)                                                             \n",
            "                                                                 \n",
            " conv2d_5 (Conv2D)           (None, 14, 14, 128)       73856     \n",
            "                                                                 \n",
            " max_pooling2d_5 (MaxPooling  (None, 7, 7, 128)        0         \n",
            " 2D)                                                             \n",
            "                                                                 \n",
            " flatten_2 (Flatten)         (None, 6272)              0         \n",
            "                                                                 \n",
            " dense_3 (Dense)             (None, 65)                407745    \n",
            "                                                                 \n",
            " dense_4 (Dense)             (None, 10)                660       \n",
            "                                                                 \n",
            "=================================================================\n",
            "Total params: 485,461\n",
            "Trainable params: 485,461\n",
            "Non-trainable params: 0\n",
            "_________________________________________________________________\n",
            "\n",
            "\n",
            "\n"
          ]
        }
      ]
    },
    {
      "cell_type": "markdown",
      "source": [
        "A continuación, explicaremos la razón de los tensores de salida y los parámetros de cada una de las capas:\n",
        "\n",
        "**Caso 1:**\n",
        "\n",
        "\n",
        "\n",
        "* 1ª Capa Convolucional:\n",
        "(5x5 + 1 (sesgo)) x 32 (nº filtros) = 832 parámetros.\n",
        "\n",
        "* 1ª Capa Pooling:0 puesto que no se especifican parámetros.\n",
        "* 2ª Capa Convolucional:\n",
        "(5x5 x 32 nº filtros anteriores + 1 (sesgo)) x 64 nº filtros de este = 51 264 parámetros.\n",
        "\n",
        "* 2ª Capa Pooling:0 puesto que no se especifican parámetros.\n",
        "* Capa Flatten: 0 puesto que no se especifican parámetros.\n",
        "* Capa Dense: 10 x 1024 + 10 = 10250.\n",
        "\n",
        "En total, existen 62.346 parámetros entrenables.\n",
        "\n",
        "\n",
        "Seguiremos la misma estructura explicativa que se aplicó en el primer modelo:\n",
        "\n",
        "**Caso 2:**\n",
        "\n",
        "1ª Capa Convolucional:\n",
        "(7x7 + 1 (sesgo)) x 64 nº filtros = 3200 parámetros.\n",
        "\n",
        "1ª Capa Pooling:0 puesto que no se especifican parámetros.\n",
        "2ª Capa Convolucional:\n",
        "(3x3 x 64 nº filtros anteriores + 1 (sesgo)) x 128 nº filtros = 73 856 parámetros.\n",
        "\n",
        "2ª Capa Pooling:0 puesto que no se especifican parámetros.\n",
        "Capa Flatten:0 puesto que no se especifican parámetros.\n",
        "Capa Dense 1:\n",
        "64 x 32 x 65 (nº filtros) + 65 (sesgo) = 133.185 parámetros.\n",
        "\n",
        "Capa Dense 2:\n",
        "10 x 65 + 10 = 660 parámetros.\n",
        "\n",
        "En total, existen 485,461 parámetros entrenables.\n",
        "\n",
        "**Caso 3:**\n",
        "\n",
        "Al igual que los modelos anteriores, se dará a conocer de dónde salen los valores expuestos en este resumen:\n",
        "\n",
        "* 1ª Capa Convolucional: (7x7 + 1 (sesgo)) x 64 nº filtros = 3200 parámetros\n",
        "* 1ª Capa Pooling: 0 puesto que no se especifican parámetros.\n",
        "* 2ª Capa Convolucional: (3x3 x 64 nº filtros anteriores + 1 (sesgo)) x 128 nº filtros = 73.856 parámetros.\n",
        "* 2ª Capa Pooling:0 puesto que no se especifican parámetros.\n",
        "* Capa Flatten: 0 puesto que no se especifican parámetros.\n",
        "* Capa Dense 1:64 x 32 x 65 nº filtro + 65 (sesgo) = 133.185 parámetros.\n",
        "* Capa Dense 2: 10 x 65 + 10 = 660 parámetros.\n",
        "\n",
        "En total, existen 485,461 parámetros entrenables, al igual que el 'Modelo 2'.\n"
      ],
      "metadata": {
        "id": "z87muuhyBvW8"
      }
    },
    {
      "cell_type": "markdown",
      "source": [
        "**3. Analizar e interpretar los resultados del caso 1 frente a su original si se multiplica por 5 las épocas de entrenamiento (25)** "
      ],
      "metadata": {
        "id": "35E8F31rJeHJ"
      }
    },
    {
      "cell_type": "code",
      "source": [
        "# CREAR EL MODELO DE RED NEURONAL CNN:\n",
        "model1b = Sequential()\n",
        "model1b.add(Conv2D(32, (5, 5), activation='relu', input_shape=(28, 28, 1))) # 1ª capa convolucional\n",
        "model1b.add(MaxPooling2D((2, 2))) # 1ª capa pooling\n",
        "\n",
        "model1b.add(Conv2D(64, (5, 5), activation='relu')) # 2ª capa convolucional\n",
        "model1b.add(MaxPooling2D((2, 2))) # 2ª capa pooling\n",
        "\n",
        "model1b.add(Flatten()) # Flatten, no es una capa, solo aplana\n",
        "\n",
        "model1b.add(Dense(10, activation='softmax')) # Última capa densa\n",
        "\n",
        "# COMPILAR EL MODELO CON MÉTRICA PRECISIÓN:\n",
        "model1b.compile(loss='sparse_categorical_crossentropy',\n",
        "                optimizer='sgd',\n",
        "                metrics=['accuracy'])\n",
        "\n",
        "history = model1b.fit\n",
        "\n",
        "model1b.fit(train_images, train_labels,\n",
        "            epochs=25)\n",
        "\n",
        "test_loss1b, test_acc1b = model1b.evaluate(test_images, test_labels)"
      ],
      "metadata": {
        "colab": {
          "base_uri": "https://localhost:8080/"
        },
        "id": "yAF_AqNUJo3D",
        "outputId": "21b3d246-5e97-46cb-c045-874bd0c3b4df"
      },
      "execution_count": 17,
      "outputs": [
        {
          "output_type": "stream",
          "name": "stdout",
          "text": [
            "Epoch 1/25\n",
            "1875/1875 [==============================] - 74s 39ms/step - loss: 0.8526 - accuracy: 0.6986\n",
            "Epoch 2/25\n",
            "1875/1875 [==============================] - 78s 41ms/step - loss: 0.5174 - accuracy: 0.8142\n",
            "Epoch 3/25\n",
            "1875/1875 [==============================] - 77s 41ms/step - loss: 0.4518 - accuracy: 0.8397\n",
            "Epoch 4/25\n",
            "1875/1875 [==============================] - 76s 41ms/step - loss: 0.4167 - accuracy: 0.8532\n",
            "Epoch 5/25\n",
            "1875/1875 [==============================] - 75s 40ms/step - loss: 0.3927 - accuracy: 0.8613\n",
            "Epoch 6/25\n",
            "1875/1875 [==============================] - 76s 41ms/step - loss: 0.3749 - accuracy: 0.8667\n",
            "Epoch 7/25\n",
            "1875/1875 [==============================] - 75s 40ms/step - loss: 0.3609 - accuracy: 0.8721\n",
            "Epoch 8/25\n",
            "1875/1875 [==============================] - 77s 41ms/step - loss: 0.3480 - accuracy: 0.8762\n",
            "Epoch 9/25\n",
            "1875/1875 [==============================] - 75s 40ms/step - loss: 0.3375 - accuracy: 0.8796\n",
            "Epoch 10/25\n",
            "1875/1875 [==============================] - 75s 40ms/step - loss: 0.3285 - accuracy: 0.8831\n",
            "Epoch 11/25\n",
            "1875/1875 [==============================] - 77s 41ms/step - loss: 0.3190 - accuracy: 0.8860\n",
            "Epoch 12/25\n",
            "1875/1875 [==============================] - 75s 40ms/step - loss: 0.3110 - accuracy: 0.8892\n",
            "Epoch 13/25\n",
            "1875/1875 [==============================] - 77s 41ms/step - loss: 0.3036 - accuracy: 0.8923\n",
            "Epoch 14/25\n",
            "1875/1875 [==============================] - 75s 40ms/step - loss: 0.2957 - accuracy: 0.8939\n",
            "Epoch 15/25\n",
            "1875/1875 [==============================] - 77s 41ms/step - loss: 0.2899 - accuracy: 0.8960\n",
            "Epoch 16/25\n",
            "1875/1875 [==============================] - 75s 40ms/step - loss: 0.2837 - accuracy: 0.8986\n",
            "Epoch 17/25\n",
            "1875/1875 [==============================] - 77s 41ms/step - loss: 0.2779 - accuracy: 0.9014\n",
            "Epoch 18/25\n",
            "1875/1875 [==============================] - 74s 40ms/step - loss: 0.2719 - accuracy: 0.9035\n",
            "Epoch 19/25\n",
            "1875/1875 [==============================] - 76s 41ms/step - loss: 0.2669 - accuracy: 0.9047\n",
            "Epoch 20/25\n",
            "1875/1875 [==============================] - 75s 40ms/step - loss: 0.2627 - accuracy: 0.9063\n",
            "Epoch 21/25\n",
            "1875/1875 [==============================] - 77s 41ms/step - loss: 0.2579 - accuracy: 0.9083\n",
            "Epoch 22/25\n",
            "1875/1875 [==============================] - 75s 40ms/step - loss: 0.2531 - accuracy: 0.9093\n",
            "Epoch 23/25\n",
            "1875/1875 [==============================] - 76s 41ms/step - loss: 0.2488 - accuracy: 0.9108\n",
            "Epoch 24/25\n",
            "1875/1875 [==============================] - 75s 40ms/step - loss: 0.2440 - accuracy: 0.9126\n",
            "Epoch 25/25\n",
            "1875/1875 [==============================] - 76s 41ms/step - loss: 0.2402 - accuracy: 0.9131\n",
            "313/313 [==============================] - 4s 13ms/step - loss: 0.3047 - accuracy: 0.8922\n"
          ]
        }
      ]
    },
    {
      "cell_type": "markdown",
      "source": [
        "**4. Analiza el resultado del caso 1 si en lugar de ReLU usas tanh en la función de activación de las dos capas convolucionales.**"
      ],
      "metadata": {
        "id": "SYOucsbdJxtV"
      }
    },
    {
      "cell_type": "code",
      "source": [
        "# CREAR EL MODELO DE RED NEURONAL CNN:\n",
        "model1c = Sequential()\n",
        "model1c.add(Conv2D(32, (5, 5), activation='tanh', input_shape=(28, 28, 1))) # 1ª capa convolucional\n",
        "model1c.add(MaxPooling2D((2, 2))) # 1ª capa pooling\n",
        "\n",
        "model1c.add(Conv2D(64, (5, 5), activation='tanh')) # 2ª capa convolucional\n",
        "model1c.add(MaxPooling2D((2, 2))) # 2ª capa pooling\n",
        "\n",
        "model1c.add(Flatten()) # Flatten, no es una capa, solo aplana\n",
        "\n",
        "model1c.add(Dense(10, activation='softmax')) # Última capa densa\n",
        "\n",
        "# COMPILAR EL MODELO CON MÉTRICA PRECISIÓN:\n",
        "model1c.compile(loss='sparse_categorical_crossentropy',\n",
        "                optimizer='sgd',\n",
        "                metrics=['accuracy'])\n",
        "\n",
        "history = model1b.fit\n",
        "\n",
        "model1c.fit(train_images, train_labels,\n",
        "            epochs=5)\n",
        "\n",
        "test_loss1c, test_acc1c = model1c.evaluate(test_images, test_labels)"
      ],
      "metadata": {
        "colab": {
          "base_uri": "https://localhost:8080/"
        },
        "id": "pRmxrz4iKdET",
        "outputId": "e56eeb04-34da-410d-c793-d2ccb18abb7e"
      },
      "execution_count": 18,
      "outputs": [
        {
          "output_type": "stream",
          "name": "stdout",
          "text": [
            "Epoch 1/5\n",
            "1875/1875 [==============================] - 76s 41ms/step - loss: 0.7797 - accuracy: 0.7292\n",
            "Epoch 2/5\n",
            "1875/1875 [==============================] - 78s 41ms/step - loss: 0.5080 - accuracy: 0.8166\n",
            "Epoch 3/5\n",
            "1875/1875 [==============================] - 76s 41ms/step - loss: 0.4439 - accuracy: 0.8410\n",
            "Epoch 4/5\n",
            "1875/1875 [==============================] - 77s 41ms/step - loss: 0.4077 - accuracy: 0.8553\n",
            "Epoch 5/5\n",
            "1875/1875 [==============================] - 76s 41ms/step - loss: 0.3834 - accuracy: 0.8633\n",
            "313/313 [==============================] - 4s 13ms/step - loss: 0.3973 - accuracy: 0.8579\n"
          ]
        }
      ]
    },
    {
      "cell_type": "markdown",
      "source": [
        "A diferencia que el ejercicio anterior, esta modificación del modelo no provoca casi mejoras en los resultados de la precisión del modelo. Por ende, no aplicaremos esta modificación de función de activación, debido a que la diferencia es tan insignificante que la aleatorización de los pesos iniciales podría provocar una alteración en el pocentaje de precisión."
      ],
      "metadata": {
        "id": "BkR-nGaLKijR"
      }
    },
    {
      "cell_type": "markdown",
      "source": [
        "**5. Evaluar cada uno de los 3 modelos comparando el rendimiento del modelo en el conjunto de datos de prueba** "
      ],
      "metadata": {
        "id": "4QoMZEfbLNRV"
      }
    },
    {
      "cell_type": "code",
      "source": [
        "\n",
        "# VERIFICAMOS NUESTRO MODELO YA ENTRENADO, CONTRA EL CONJUNTO DE PRUEBAS\n",
        "#test_labels = to_categorical(test_labels)\n",
        "test_loss1, test_acc1 = model1.evaluate(test_images, test_labels)\n",
        "test_loss2, test_acc2 = model2.evaluate(test_images, test_labels)\n",
        "test_loss3, test_acc3 = model3.evaluate(test_images, test_labels)\n",
        "#(train_images, train_labels), (test_images, test_labels) = fashion_mnist.load_data()\n",
        "#print('test_loss8:', test_loss ,'test_acc8:', test_acc)  Con esto se muestran más decimales"
      ],
      "metadata": {
        "colab": {
          "base_uri": "https://localhost:8080/"
        },
        "id": "NoMetjUQLY-l",
        "outputId": "b0ad187d-69e9-4b64-c1dc-303fe7f9f0a4"
      },
      "execution_count": 19,
      "outputs": [
        {
          "output_type": "stream",
          "name": "stdout",
          "text": [
            "313/313 [==============================] - 4s 13ms/step - loss: 0.4144 - accuracy: 0.8541\n",
            "313/313 [==============================] - 11s 36ms/step - loss: 0.3649 - accuracy: 0.8713\n",
            "313/313 [==============================] - 11s 34ms/step - loss: 0.2602 - accuracy: 0.9130\n"
          ]
        }
      ]
    },
    {
      "cell_type": "markdown",
      "source": [
        "Tal y como se muestran en el esquema superior, observamos que se presentan según la función de pérdida decreciente y precisión creciente. Esto es una buena señal global, debido a que tiene sentido que las pérdidas del modelo se vean disminuidas a medida que se consigue aumentar su precisión.\n",
        "\n",
        "Por otro lado, destacamos que parece que el funcionamiento de los modelos se ve representado por el siguiente orden, considerándolo del mejor rendimiento al de peor calidad: 3º Modelo > 2º Modelo > 1º Modelo."
      ],
      "metadata": {
        "id": "lrwSaU5xLl3J"
      }
    },
    {
      "cell_type": "markdown",
      "source": [
        " **6. Usar cada uno de los 3 modelos para hacer predicciones sobre la 6ª imagen de test (`test_images[5]`)**\n",
        " "
      ],
      "metadata": {
        "id": "6yaf1NDMMHVZ"
      }
    },
    {
      "cell_type": "markdown",
      "source": [
        "Para comenzar, visualicemos de qué trata la 'Imagen 6':"
      ],
      "metadata": {
        "id": "3xVht7UUMU5l"
      }
    },
    {
      "cell_type": "code",
      "source": [
        "plt.figure()\n",
        "plt.imshow(test_images[5])\n",
        "plt.colorbar()\n",
        "plt.grid(False)\n",
        "plt.show()"
      ],
      "metadata": {
        "colab": {
          "base_uri": "https://localhost:8080/",
          "height": 269
        },
        "id": "D0Nxsi0TMWlg",
        "outputId": "575f2db6-d3c7-49cd-cf7d-0e1ee1e47f95"
      },
      "execution_count": 20,
      "outputs": [
        {
          "output_type": "display_data",
          "data": {
            "text/plain": [
              "<Figure size 432x288 with 2 Axes>"
            ],
            "image/png": "[encoded data removed]"
          },
          "metadata": {
            "needs_background": "light"
          }
        }
      ]
    },
    {
      "cell_type": "markdown",
      "source": [
        "Observamos que parece ser un pantalón, que corresponde a la 'Categoría 1' de nuestra clasificación: 'Trouser'."
      ],
      "metadata": {
        "id": "V9EWm2APEKF-"
      }
    },
    {
      "cell_type": "code",
      "source": [
        "print(\"----------------------------------------------------------\")\n",
        "print(\"PREDICCIONES CASO 1: \")\n",
        "prediction1 = model1.predict(test_images)\n",
        "prediction1[5]\n",
        "np.argmax(prediction1[5])"
      ],
      "metadata": {
        "colab": {
          "base_uri": "https://localhost:8080/"
        },
        "id": "km6IcL-tEnTK",
        "outputId": "fed6c3d2-0355-441f-9671-c6175725339e"
      },
      "execution_count": 32,
      "outputs": [
        {
          "output_type": "stream",
          "name": "stdout",
          "text": [
            "----------------------------------------------------------\n",
            "PREDICCIONES CASO 1: \n",
            "313/313 [==============================] - 4s 13ms/step\n"
          ]
        },
        {
          "output_type": "execute_result",
          "data": {
            "text/plain": [
              "1"
            ]
          },
          "metadata": {},
          "execution_count": 32
        }
      ]
    },
    {
      "cell_type": "code",
      "source": [
        "print(\"----------------------------------------------------------\")\n",
        "print(\"PREDICCIONES CASO 2: \")\n",
        "prediction2 = model2.predict(test_images)\n",
        "prediction2[5]\n",
        "np.argmax(prediction2[5])"
      ],
      "metadata": {
        "colab": {
          "base_uri": "https://localhost:8080/"
        },
        "id": "I3yQwYe9cAAP",
        "outputId": "8b4e8aac-43e3-44a0-c6d3-5781689d5ed0"
      },
      "execution_count": 33,
      "outputs": [
        {
          "output_type": "stream",
          "name": "stdout",
          "text": [
            "----------------------------------------------------------\n",
            "PREDICCIONES CASO 2: \n",
            "313/313 [==============================] - 11s 34ms/step\n"
          ]
        },
        {
          "output_type": "execute_result",
          "data": {
            "text/plain": [
              "1"
            ]
          },
          "metadata": {},
          "execution_count": 33
        }
      ]
    },
    {
      "cell_type": "code",
      "source": [
        "print(\"----------------------------------------------------------\")\n",
        "print(\"PREDICCIONES CASO 3: \")\n",
        "prediction3 = model3.predict(test_images)\n",
        "prediction3[5]\n",
        "np.argmax(prediction3[5])"
      ],
      "metadata": {
        "colab": {
          "base_uri": "https://localhost:8080/"
        },
        "id": "rjF9RpNNcJ8f",
        "outputId": "3addc6c5-9534-49f9-8d71-0d5d6f9de432"
      },
      "execution_count": 34,
      "outputs": [
        {
          "output_type": "stream",
          "name": "stdout",
          "text": [
            "----------------------------------------------------------\n",
            "PREDICCIONES CASO 3: \n",
            "313/313 [==============================] - 11s 34ms/step\n"
          ]
        },
        {
          "output_type": "execute_result",
          "data": {
            "text/plain": [
              "1"
            ]
          },
          "metadata": {},
          "execution_count": 34
        }
      ]
    },
    {
      "cell_type": "markdown",
      "source": [
        "7. Utilice el siguiente código para graficar cómo de bien o de mal se comporta el \n",
        "modelo para cada uno de los 3 casos con las 14 primeras imágenes del \n",
        "conjunto de test. Reflexione y comente las diferencias que observa. **texto en negrita** "
      ],
      "metadata": {
        "id": "HYBCILgYFbZ8"
      }
    },
    {
      "cell_type": "markdown",
      "source": [
        "Incluimos las funciones necesarias en las siguientes líneas de código:"
      ],
      "metadata": {
        "id": "xbJuVbP8Fpl_"
      }
    },
    {
      "cell_type": "code",
      "source": [
        "# PRIMERA FUNCIÓN:\n",
        "def plot_image(i, predictions_array, true_label, img):\n",
        "  predictions_array, true_label, img = predictions_array, true_label[i], img[i]\n",
        "  plt.grid(False)\n",
        "  plt.xticks([])\n",
        "  plt.yticks([])\n",
        "\n",
        "  plt.imshow(img, cmap=plt.cm.binary)    \n",
        "\n",
        "  predicted_label = np.argmax(predictions_array)\n",
        "  if predicted_label == true_label:\n",
        "    color = 'blue'\n",
        "  else:\n",
        "    color = 'red'\n",
        "\n",
        "  plt.xlabel(\"{} {:2.0f}% ({})\".format(nombres[predicted_label],\n",
        "                                100*np.max(predictions_array),\n",
        "                                nombres[true_label]),\n",
        "                                color=color)\n",
        "\n",
        "# SEGUNDA FUNCIÓN:\n",
        "def plot_value_array(i, predictions_array, true_label):\n",
        "  predictions_array, true_label = predictions_array, true_label[i]\n",
        "  plt.grid(False)\n",
        "  plt.xticks(range(10))\n",
        "  plt.yticks([])\n",
        "  thisplot = plt.bar(range(10), predictions_array, color=\"#00FF00\")\n",
        "  plt.ylim([0, 1])\n",
        "  predicted_label = np.argmax(predictions_array)\n",
        "\n",
        "  thisplot[predicted_label].set_color('red')\n",
        "  thisplot[true_label].set_color('black')"
      ],
      "metadata": {
        "id": "u8iHHwBfFsz_"
      },
      "execution_count": 35,
      "outputs": []
    },
    {
      "cell_type": "markdown",
      "source": [
        "De esta manera, a continuación se expondrán los pares de imágenes-gráficas de las primeras 14 imágenes del conjunto de test.\n",
        "\n",
        "Los modelos calculan la probabilidad con la que una imagen se corresponde a una determinada clasificación, como ya hemos visto en las predicciones de la quinta imagen. Por consiguiente, puede que prediga perfectamente bien (100% probabilidad) una etiqueta; o, por el contrario, pueden aparecer otras probabilidades de posibles etiquetas (80%; 20%; 10%; 10%; por ejemplo).\n",
        "\n",
        "Esta idea se representará con ayuda de distintos colores que se verán en las gráficas:\n",
        "\n",
        "* verde = valores menores del las otras prediciones.\n",
        "* rojo = el valor interpretado por el modelo.\n",
        "* negro = el valor de la categoría real."
      ],
      "metadata": {
        "id": "IbQpYmwpFwNh"
      }
    },
    {
      "cell_type": "markdown",
      "source": [
        "**Caso 1**"
      ],
      "metadata": {
        "id": "ide-Tp9wF628"
      }
    },
    {
      "cell_type": "code",
      "source": [
        "predictions=[prediction1,prediction2,prediction3]\n",
        "for caso in range(casos):\n",
        "  for i in range(13):\n",
        "    print(\"CASO \",caso + 1)\n",
        "    print(\"---------------------------------\")\n",
        "    plt.figure(figsize=(6,3))\n",
        "    plt.subplot(1,2,1)\n",
        "    plot_image(i, predictions[caso][i], test_labels, test_images)\n",
        "    plt.subplot(1,2,2)\n",
        "    plot_value_array(i, predictions[caso][i],  test_labels)\n",
        "    plt.show()\n",
        "    plt.clf()\n",
        "    print(\"\\n\\n\")"
      ],
      "metadata": {
        "colab": {
          "base_uri": "https://localhost:8080/",
          "height": 1000
        },
        "id": "1_F_B6QUF_So",
        "outputId": "0a78a10f-1a90-4048-a770-d4fd0596a3f4"
      },
      "execution_count": 39,
      "outputs": [
        {
          "output_type": "stream",
          "name": "stdout",
          "text": [
            "CASO  1\n",
            "---------------------------------\n"
          ]
        },
        {
          "output_type": "display_data",
          "data": {
            "text/plain": [
              "<Figure size 432x216 with 2 Axes>"
            ],
            "image/png": "[encoded data removed]"
          },
          "metadata": {
            "needs_background": "light"
          }
        },
        {
          "output_type": "stream",
          "name": "stdout",
          "text": [
            "\n",
            "\n",
            "\n",
            "CASO  1\n",
            "---------------------------------\n"
          ]
        },
        {
          "output_type": "display_data",
          "data": {
            "text/plain": [
              "<Figure size 432x288 with 0 Axes>"
            ]
          },
          "metadata": {}
        },
        {
          "output_type": "display_data",
          "data": {
            "text/plain": [
              "<Figure size 432x216 with 2 Axes>"
            ],
            "image/png": "[encoded data removed]"
          },
          "metadata": {
            "needs_background": "light"
          }
        },
        {
          "output_type": "stream",
          "name": "stdout",
          "text": [
            "\n",
            "\n",
            "\n",
            "CASO  1\n",
            "---------------------------------\n"
          ]
        },
        {
          "output_type": "display_data",
          "data": {
            "text/plain": [
              "<Figure size 432x288 with 0 Axes>"
            ]
          },
          "metadata": {}
        },
        {
          "output_type": "display_data",
          "data": {
            "text/plain": [
              "<Figure size 432x216 with 2 Axes>"
            ],
            "image/png": "[encoded data removed]"
          },
          "metadata": {
            "needs_background": "light"
          }
        },
        {
          "output_type": "stream",
          "name": "stdout",
          "text": [
            "\n",
            "\n",
            "\n",
            "CASO  1\n",
            "---------------------------------\n"
          ]
        },
        {
          "output_type": "display_data",
          "data": {
            "text/plain": [
              "<Figure size 432x288 with 0 Axes>"
            ]
          },
          "metadata": {}
        },
        {
          "output_type": "display_data",
          "data": {
            "text/plain": [
              "<Figure size 432x216 with 2 Axes>"
            ],
            "image/png": "[encoded data removed]"
          },
          "metadata": {
            "needs_background": "light"
          }
        },
        {
          "output_type": "stream",
          "name": "stdout",
          "text": [
            "\n",
            "\n",
            "\n",
            "CASO  1\n",
            "---------------------------------\n"
          ]
        },
        {
          "output_type": "display_data",
          "data": {
            "text/plain": [
              "<Figure size 432x288 with 0 Axes>"
            ]
          },
          "metadata": {}
        },
        {
          "output_type": "display_data",
          "data": {
            "text/plain": [
              "<Figure size 432x216 with 2 Axes>"
            ],
            "image/png": "[encoded data removed]"
          },
          "metadata": {
            "needs_background": "light"
          }
        },
        {
          "output_type": "stream",
          "name": "stdout",
          "text": [
            "\n",
            "\n",
            "\n",
            "CASO  1\n",
            "---------------------------------\n"
          ]
        },
        {
          "output_type": "display_data",
          "data": {
            "text/plain": [
              "<Figure size 432x288 with 0 Axes>"
            ]
          },
          "metadata": {}
        },
        {
          "output_type": "display_data",
          "data": {
            "text/plain": [
              "<Figure size 432x216 with 2 Axes>"
            ],
            "image/png": "[encoded data removed]"
          },
          "metadata": {
            "needs_background": "light"
          }
        },
        {
          "output_type": "stream",
          "name": "stdout",
          "text": [
            "\n",
            "\n",
            "\n",
            "CASO  1\n",
            "---------------------------------\n"
          ]
        },
        {
          "output_type": "display_data",
          "data": {
            "text/plain": [
              "<Figure size 432x288 with 0 Axes>"
            ]
          },
          "metadata": {}
        },
        {
          "output_type": "display_data",
          "data": {
            "text/plain": [
              "<Figure size 432x216 with 2 Axes>"
            ],
            "image/png": "[encoded data removed]"
          },
          "metadata": {
            "needs_background": "light"
          }
        },
        {
          "output_type": "stream",
          "name": "stdout",
          "text": [
            "\n",
            "\n",
            "\n",
            "CASO  1\n",
            "---------------------------------\n"
          ]
        },
        {
          "output_type": "display_data",
          "data": {
            "text/plain": [
              "<Figure size 432x288 with 0 Axes>"
            ]
          },
          "metadata": {}
        },
        {
          "output_type": "display_data",
          "data": {
            "text/plain": [
              "<Figure size 432x216 with 2 Axes>"
            ],
            "image/png": "[encoded data removed]"
          },
          "metadata": {
            "needs_background": "light"
          }
        },
        {
          "output_type": "stream",
          "name": "stdout",
          "text": [
            "\n",
            "\n",
            "\n",
            "CASO  1\n",
            "---------------------------------\n"
          ]
        },
        {
          "output_type": "display_data",
          "data": {
            "text/plain": [
              "<Figure size 432x288 with 0 Axes>"
            ]
          },
          "metadata": {}
        },
        {
          "output_type": "display_data",
          "data": {
            "text/plain": [
              "<Figure size 432x216 with 2 Axes>"
            ],
            "image/png": "[encoded data removed]"
          },
          "metadata": {
            "needs_background": "light"
          }
        },
        {
          "output_type": "stream",
          "name": "stdout",
          "text": [
            "\n",
            "\n",
            "\n",
            "CASO  1\n",
            "---------------------------------\n"
          ]
        },
        {
          "output_type": "display_data",
          "data": {
            "text/plain": [
              "<Figure size 432x288 with 0 Axes>"
            ]
          },
          "metadata": {}
        },
        {
          "output_type": "display_data",
          "data": {
            "text/plain": [
              "<Figure size 432x216 with 2 Axes>"
            ],
            "image/png": "[encoded data removed]"
          },
          "metadata": {
            "needs_background": "light"
          }
        },
        {
          "output_type": "stream",
          "name": "stdout",
          "text": [
            "\n",
            "\n",
            "\n",
            "CASO  1\n",
            "---------------------------------\n"
          ]
        },
        {
          "output_type": "display_data",
          "data": {
            "text/plain": [
              "<Figure size 432x288 with 0 Axes>"
            ]
          },
          "metadata": {}
        },
        {
          "output_type": "display_data",
          "data": {
            "text/plain": [
              "<Figure size 432x216 with 2 Axes>"
            ],
            "image/png": "[encoded data removed]"
          },
          "metadata": {
            "needs_background": "light"
          }
        },
        {
          "output_type": "stream",
          "name": "stdout",
          "text": [
            "\n",
            "\n",
            "\n",
            "CASO  1\n",
            "---------------------------------\n"
          ]
        },
        {
          "output_type": "display_data",
          "data": {
            "text/plain": [
              "<Figure size 432x288 with 0 Axes>"
            ]
          },
          "metadata": {}
        },
        {
          "output_type": "display_data",
          "data": {
            "text/plain": [
              "<Figure size 432x216 with 2 Axes>"
            ],
            "image/png": "[encoded data removed]"
          },
          "metadata": {
            "needs_background": "light"
          }
        },
        {
          "output_type": "stream",
          "name": "stdout",
          "text": [
            "\n",
            "\n",
            "\n",
            "CASO  1\n",
            "---------------------------------\n"
          ]
        },
        {
          "output_type": "display_data",
          "data": {
            "text/plain": [
              "<Figure size 432x288 with 0 Axes>"
            ]
          },
          "metadata": {}
        },
        {
          "output_type": "display_data",
          "data": {
            "text/plain": [
              "<Figure size 432x216 with 2 Axes>"
            ],
            "image/png": "[encoded data removed]"
          },
          "metadata": {
            "needs_background": "light"
          }
        },
        {
          "output_type": "stream",
          "name": "stdout",
          "text": [
            "\n",
            "\n",
            "\n",
            "CASO  2\n",
            "---------------------------------\n"
          ]
        },
        {
          "output_type": "display_data",
          "data": {
            "text/plain": [
              "<Figure size 432x288 with 0 Axes>"
            ]
          },
          "metadata": {}
        },
        {
          "output_type": "display_data",
          "data": {
            "text/plain": [
              "<Figure size 432x216 with 2 Axes>"
            ],
            "image/png": "[encoded data removed]"
          },
          "metadata": {
            "needs_background": "light"
          }
        },
        {
          "output_type": "stream",
          "name": "stdout",
          "text": [
            "\n",
            "\n",
            "\n",
            "CASO  2\n",
            "---------------------------------\n"
          ]
        },
        {
          "output_type": "display_data",
          "data": {
            "text/plain": [
              "<Figure size 432x288 with 0 Axes>"
            ]
          },
          "metadata": {}
        },
        {
          "output_type": "display_data",
          "data": {
            "text/plain": [
              "<Figure size 432x216 with 2 Axes>"
            ],
            "image/png": "[encoded data removed]"
          },
          "metadata": {
            "needs_background": "light"
          }
        },
        {
          "output_type": "stream",
          "name": "stdout",
          "text": [
            "\n",
            "\n",
            "\n",
            "CASO  2\n",
            "---------------------------------\n"
          ]
        },
        {
          "output_type": "display_data",
          "data": {
            "text/plain": [
              "<Figure size 432x288 with 0 Axes>"
            ]
          },
          "metadata": {}
        },
        {
          "output_type": "display_data",
          "data": {
            "text/plain": [
              "<Figure size 432x216 with 2 Axes>"
            ],
            "image/png": "[encoded data removed]"
          },
          "metadata": {
            "needs_background": "light"
          }
        },
        {
          "output_type": "stream",
          "name": "stdout",
          "text": [
            "\n",
            "\n",
            "\n",
            "CASO  2\n",
            "---------------------------------\n"
          ]
        },
        {
          "output_type": "display_data",
          "data": {
            "text/plain": [
              "<Figure size 432x288 with 0 Axes>"
            ]
          },
          "metadata": {}
        },
        {
          "output_type": "display_data",
          "data": {
            "text/plain": [
              "<Figure size 432x216 with 2 Axes>"
            ],
            "image/png": "[encoded data removed]"
          },
          "metadata": {
            "needs_background": "light"
          }
        },
        {
          "output_type": "stream",
          "name": "stdout",
          "text": [
            "\n",
            "\n",
            "\n",
            "CASO  2\n",
            "---------------------------------\n"
          ]
        },
        {
          "output_type": "display_data",
          "data": {
            "text/plain": [
              "<Figure size 432x288 with 0 Axes>"
            ]
          },
          "metadata": {}
        },
        {
          "output_type": "display_data",
          "data": {
            "text/plain": [
              "<Figure size 432x216 with 2 Axes>"
            ],
            "image/png": "[encoded data removed]"
          },
          "metadata": {
            "needs_background": "light"
          }
        },
        {
          "output_type": "stream",
          "name": "stdout",
          "text": [
            "\n",
            "\n",
            "\n",
            "CASO  2\n",
            "---------------------------------\n"
          ]
        },
        {
          "output_type": "display_data",
          "data": {
            "text/plain": [
              "<Figure size 432x288 with 0 Axes>"
            ]
          },
          "metadata": {}
        },
        {
          "output_type": "display_data",
          "data": {
            "text/plain": [
              "<Figure size 432x216 with 2 Axes>"
            ],
            "image/png": "[encoded data removed]"
          },
          "metadata": {
            "needs_background": "light"
          }
        },
        {
          "output_type": "stream",
          "name": "stdout",
          "text": [
            "\n",
            "\n",
            "\n",
            "CASO  2\n",
            "---------------------------------\n"
          ]
        },
        {
          "output_type": "display_data",
          "data": {
            "text/plain": [
              "<Figure size 432x288 with 0 Axes>"
            ]
          },
          "metadata": {}
        },
        {
          "output_type": "display_data",
          "data": {
            "text/plain": [
              "<Figure size 432x216 with 2 Axes>"
            ],
            "image/png": "[encoded data removed]"
          },
          "metadata": {
            "needs_background": "light"
          }
        },
        {
          "output_type": "stream",
          "name": "stdout",
          "text": [
            "\n",
            "\n",
            "\n",
            "CASO  2\n",
            "---------------------------------\n"
          ]
        },
        {
          "output_type": "display_data",
          "data": {
            "text/plain": [
              "<Figure size 432x288 with 0 Axes>"
            ]
          },
          "metadata": {}
        },
        {
          "output_type": "display_data",
          "data": {
            "text/plain": [
              "<Figure size 432x216 with 2 Axes>"
            ],
            "image/png": "[encoded data removed]"
          },
          "metadata": {
            "needs_background": "light"
          }
        },
        {
          "output_type": "stream",
          "name": "stdout",
          "text": [
            "\n",
            "\n",
            "\n",
            "CASO  2\n",
            "---------------------------------\n"
          ]
        },
        {
          "output_type": "display_data",
          "data": {
            "text/plain": [
              "<Figure size 432x288 with 0 Axes>"
            ]
          },
          "metadata": {}
        },
        {
          "output_type": "display_data",
          "data": {
            "text/plain": [
              "<Figure size 432x216 with 2 Axes>"
            ],
            "image/png": "[encoded data removed]"
          },
          "metadata": {
            "needs_background": "light"
          }
        },
        {
          "output_type": "stream",
          "name": "stdout",
          "text": [
            "\n",
            "\n",
            "\n",
            "CASO  2\n",
            "---------------------------------\n"
          ]
        },
        {
          "output_type": "display_data",
          "data": {
            "text/plain": [
              "<Figure size 432x288 with 0 Axes>"
            ]
          },
          "metadata": {}
        },
        {
          "output_type": "display_data",
          "data": {
            "text/plain": [
              "<Figure size 432x216 with 2 Axes>"
            ],
            "image/png": "[encoded data removed]"
          },
          "metadata": {
            "needs_background": "light"
          }
        },
        {
          "output_type": "stream",
          "name": "stdout",
          "text": [
            "\n",
            "\n",
            "\n",
            "CASO  2\n",
            "---------------------------------\n"
          ]
        },
        {
          "output_type": "display_data",
          "data": {
            "text/plain": [
              "<Figure size 432x288 with 0 Axes>"
            ]
          },
          "metadata": {}
        },
        {
          "output_type": "display_data",
          "data": {
            "text/plain": [
              "<Figure size 432x216 with 2 Axes>"
            ],
            "image/png": "[encoded data removed]"
          },
          "metadata": {
            "needs_background": "light"
          }
        },
        {
          "output_type": "stream",
          "name": "stdout",
          "text": [
            "\n",
            "\n",
            "\n",
            "CASO  2\n",
            "---------------------------------\n"
          ]
        },
        {
          "output_type": "display_data",
          "data": {
            "text/plain": [
              "<Figure size 432x288 with 0 Axes>"
            ]
          },
          "metadata": {}
        },
        {
          "output_type": "display_data",
          "data": {
            "text/plain": [
              "<Figure size 432x216 with 2 Axes>"
            ],
            "image/png": "[encoded data removed]"
          },
          "metadata": {
            "needs_background": "light"
          }
        },
        {
          "output_type": "stream",
          "name": "stdout",
          "text": [
            "\n",
            "\n",
            "\n",
            "CASO  2\n",
            "---------------------------------\n"
          ]
        },
        {
          "output_type": "display_data",
          "data": {
            "text/plain": [
              "<Figure size 432x288 with 0 Axes>"
            ]
          },
          "metadata": {}
        },
        {
          "output_type": "display_data",
          "data": {
            "text/plain": [
              "<Figure size 432x216 with 2 Axes>"
            ],
            "image/png": "[encoded data removed]"
          },
          "metadata": {
            "needs_background": "light"
          }
        },
        {
          "output_type": "stream",
          "name": "stdout",
          "text": [
            "\n",
            "\n",
            "\n",
            "CASO  3\n",
            "---------------------------------\n"
          ]
        },
        {
          "output_type": "display_data",
          "data": {
            "text/plain": [
              "<Figure size 432x288 with 0 Axes>"
            ]
          },
          "metadata": {}
        },
        {
          "output_type": "display_data",
          "data": {
            "text/plain": [
              "<Figure size 432x216 with 2 Axes>"
            ],
            "image/png": "[encoded data removed]"
          },
          "metadata": {
            "needs_background": "light"
          }
        },
        {
          "output_type": "stream",
          "name": "stdout",
          "text": [
            "\n",
            "\n",
            "\n",
            "CASO  3\n",
            "---------------------------------\n"
          ]
        },
        {
          "output_type": "display_data",
          "data": {
            "text/plain": [
              "<Figure size 432x288 with 0 Axes>"
            ]
          },
          "metadata": {}
        },
        {
          "output_type": "display_data",
          "data": {
            "text/plain": [
              "<Figure size 432x216 with 2 Axes>"
            ],
            "image/png": "[encoded data removed]"
          },
          "metadata": {
            "needs_background": "light"
          }
        },
        {
          "output_type": "stream",
          "name": "stdout",
          "text": [
            "\n",
            "\n",
            "\n",
            "CASO  3\n",
            "---------------------------------\n"
          ]
        },
        {
          "output_type": "display_data",
          "data": {
            "text/plain": [
              "<Figure size 432x288 with 0 Axes>"
            ]
          },
          "metadata": {}
        },
        {
          "output_type": "display_data",
          "data": {
            "text/plain": [
              "<Figure size 432x216 with 2 Axes>"
            ],
            "image/png": "[encoded data removed]"
          },
          "metadata": {
            "needs_background": "light"
          }
        },
        {
          "output_type": "stream",
          "name": "stdout",
          "text": [
            "\n",
            "\n",
            "\n",
            "CASO  3\n",
            "---------------------------------\n"
          ]
        },
        {
          "output_type": "display_data",
          "data": {
            "text/plain": [
              "<Figure size 432x288 with 0 Axes>"
            ]
          },
          "metadata": {}
        },
        {
          "output_type": "display_data",
          "data": {
            "text/plain": [
              "<Figure size 432x216 with 2 Axes>"
            ],
            "image/png": "[encoded data removed]"
          },
          "metadata": {
            "needs_background": "light"
          }
        },
        {
          "output_type": "stream",
          "name": "stdout",
          "text": [
            "\n",
            "\n",
            "\n",
            "CASO  3\n",
            "---------------------------------\n"
          ]
        },
        {
          "output_type": "display_data",
          "data": {
            "text/plain": [
              "<Figure size 432x288 with 0 Axes>"
            ]
          },
          "metadata": {}
        },
        {
          "output_type": "display_data",
          "data": {
            "text/plain": [
              "<Figure size 432x216 with 2 Axes>"
            ],
            "image/png": "[encoded data removed]"
          },
          "metadata": {
            "needs_background": "light"
          }
        },
        {
          "output_type": "stream",
          "name": "stdout",
          "text": [
            "\n",
            "\n",
            "\n",
            "CASO  3\n",
            "---------------------------------\n"
          ]
        },
        {
          "output_type": "display_data",
          "data": {
            "text/plain": [
              "<Figure size 432x288 with 0 Axes>"
            ]
          },
          "metadata": {}
        },
        {
          "output_type": "display_data",
          "data": {
            "text/plain": [
              "<Figure size 432x216 with 2 Axes>"
            ],
            "image/png": "[encoded data removed]"
          },
          "metadata": {
            "needs_background": "light"
          }
        },
        {
          "output_type": "stream",
          "name": "stdout",
          "text": [
            "\n",
            "\n",
            "\n",
            "CASO  3\n",
            "---------------------------------\n"
          ]
        },
        {
          "output_type": "display_data",
          "data": {
            "text/plain": [
              "<Figure size 432x288 with 0 Axes>"
            ]
          },
          "metadata": {}
        },
        {
          "output_type": "display_data",
          "data": {
            "text/plain": [
              "<Figure size 432x216 with 2 Axes>"
            ],
            "image/png": "[encoded data removed]"
          },
          "metadata": {
            "needs_background": "light"
          }
        },
        {
          "output_type": "stream",
          "name": "stdout",
          "text": [
            "\n",
            "\n",
            "\n",
            "CASO  3\n",
            "---------------------------------\n"
          ]
        },
        {
          "output_type": "display_data",
          "data": {
            "text/plain": [
              "<Figure size 432x288 with 0 Axes>"
            ]
          },
          "metadata": {}
        },
        {
          "output_type": "display_data",
          "data": {
            "text/plain": [
              "<Figure size 432x216 with 2 Axes>"
            ],
            "image/png": "[encoded data removed]"
          },
          "metadata": {
            "needs_background": "light"
          }
        },
        {
          "output_type": "stream",
          "name": "stdout",
          "text": [
            "\n",
            "\n",
            "\n",
            "CASO  3\n",
            "---------------------------------\n"
          ]
        },
        {
          "output_type": "display_data",
          "data": {
            "text/plain": [
              "<Figure size 432x288 with 0 Axes>"
            ]
          },
          "metadata": {}
        },
        {
          "output_type": "display_data",
          "data": {
            "text/plain": [
              "<Figure size 432x216 with 2 Axes>"
            ],
            "image/png": "[encoded data removed]"
          },
          "metadata": {
            "needs_background": "light"
          }
        },
        {
          "output_type": "stream",
          "name": "stdout",
          "text": [
            "\n",
            "\n",
            "\n",
            "CASO  3\n",
            "---------------------------------\n"
          ]
        },
        {
          "output_type": "display_data",
          "data": {
            "text/plain": [
              "<Figure size 432x288 with 0 Axes>"
            ]
          },
          "metadata": {}
        },
        {
          "output_type": "display_data",
          "data": {
            "text/plain": [
              "<Figure size 432x216 with 2 Axes>"
            ],
            "image/png": "[encoded data removed]"
          },
          "metadata": {
            "needs_background": "light"
          }
        },
        {
          "output_type": "stream",
          "name": "stdout",
          "text": [
            "\n",
            "\n",
            "\n",
            "CASO  3\n",
            "---------------------------------\n"
          ]
        },
        {
          "output_type": "display_data",
          "data": {
            "text/plain": [
              "<Figure size 432x288 with 0 Axes>"
            ]
          },
          "metadata": {}
        },
        {
          "output_type": "display_data",
          "data": {
            "text/plain": [
              "<Figure size 432x216 with 2 Axes>"
            ],
            "image/png": "[encoded data removed]"
          },
          "metadata": {
            "needs_background": "light"
          }
        },
        {
          "output_type": "stream",
          "name": "stdout",
          "text": [
            "\n",
            "\n",
            "\n",
            "CASO  3\n",
            "---------------------------------\n"
          ]
        },
        {
          "output_type": "display_data",
          "data": {
            "text/plain": [
              "<Figure size 432x288 with 0 Axes>"
            ]
          },
          "metadata": {}
        },
        {
          "output_type": "display_data",
          "data": {
            "text/plain": [
              "<Figure size 432x216 with 2 Axes>"
            ],
            "image/png": "[encoded data removed]"
          },
          "metadata": {
            "needs_background": "light"
          }
        },
        {
          "output_type": "stream",
          "name": "stdout",
          "text": [
            "\n",
            "\n",
            "\n",
            "CASO  3\n",
            "---------------------------------\n"
          ]
        },
        {
          "output_type": "display_data",
          "data": {
            "text/plain": [
              "<Figure size 432x288 with 0 Axes>"
            ]
          },
          "metadata": {}
        },
        {
          "output_type": "display_data",
          "data": {
            "text/plain": [
              "<Figure size 432x216 with 2 Axes>"
            ],
            "image/png": "[encoded data removed]"
          },
          "metadata": {
            "needs_background": "light"
          }
        },
        {
          "output_type": "stream",
          "name": "stdout",
          "text": [
            "\n",
            "\n",
            "\n"
          ]
        },
        {
          "output_type": "display_data",
          "data": {
            "text/plain": [
              "<Figure size 432x288 with 0 Axes>"
            ]
          },
          "metadata": {}
        }
      ]
    },
    {
      "cell_type": "markdown",
      "source": [
        "* En el caso 1 hay un caso erróneo, el Sneaker y encontramos una mayor cantidad de franjas verdes por lo que el modelo duda de su respuesta y da la opción de que la respuesta sea otra.\n",
        "\n",
        "* En el caso 2 hay un caso erróneo, al igual que el caso 1 es el Sneaker y encontramos una gran cantidad de franjas verdes pero menor que en el caso 1, por lo cual es ligeramente mejor.\n",
        "\n",
        "* Por último en el caso 3, también falla el sneaker, sin embargo es más preciso que los anteriores, dado que hay menos probabilidades dudosas (franjas verdes).\n",
        "\n"
      ],
      "metadata": {
        "id": "HVSFE8c5Gpt3"
      }
    },
    {
      "cell_type": "markdown",
      "source": [
        "**8. Hacer comparativa con los resultados que obtuvisteis en la práctica 1, con las \n",
        "capas Dense.**"
      ],
      "metadata": {
        "id": "pj9vs_4ncxPH"
      }
    },
    {
      "cell_type": "markdown",
      "source": [
        "Una vez realizado el análisis de los tres casos y obtenido una serie de resultados a partir de los datos proporcionados, podemos realizar una comparativa de los mismos con los obtenidos en la Práctica 1 realizada sobre esta misma base de imágenes.\n",
        "\n",
        "En el caso de la Práctica 2, hemos realizado un análisis de tres Casos, mientras en que en el de la Práctica 1 realizamos un análisis de ocho.\n",
        "\n",
        "Primero, vamos a comparar los resultados obtenidos en el Entrenamiento de los modelos. \n",
        "\n",
        "En el caso de la Práctica 1, se obtuvo que el Caso 8 los mejores resultados con los siguientes parámetros:\n",
        "+   NÚMERO NEURONAS PRIMERA CAPA:  512\n",
        "+   FUNCIÓN ACTIVACIÓN PRIMERA CAPA:  sigmoid\n",
        "+   FUNCIÓN ACTIVACIÓN ULTIMA CAPA: softmax\n",
        "+   OPTIMIZADOR:  rmsprop\n",
        "+   FUNCIÓN PÉRDIDA:  \n",
        "+   sparse_categorical_crossentropy\n",
        "+   MÉTRICA:  accuracy\n",
        "\n",
        "\n",
        "\n",
        "Sin embargo, en el caso de la Práctica 2, se obtuvo que el Caso 3 dió los mejores resultados con los siguientes parámetros:\n",
        "+   NÚMERO NEURONAS PRIMERA CAPA CONVOLUCIONAL:  64\n",
        "+   FUNCIÓN ACTIVACIÓN PRIMERA CAPA CONVOLUCIONAL:  relu\n",
        "+   PADDING PRIMERA CAPA CONVOLUCIONAL = same (es decir, para el paso 1, la salida será la misma que la entrada)\n",
        "+   POOLING PRIMERA CAPA CONVOLUCIONAL: 2X2\n",
        "+   NÚMERO NEURONAS SEGUNDA CAPA CONVOLUCIONAL: 128\n",
        "+   FUNCIÓN ACTIVACIÓN SEGUNDA CAPA CONVOLUCIONAL: relu\n",
        "+   PADDING SEGUNDA CAPA CONVOLUCIONAL = same (es decir, para el paso 1, la salida será la misma que la entrada)\n",
        "+   POOLING SEGUNDA CAPA CONVOLUCIONAL: 2X2\n",
        "+   NÚMERO DE NEURONAS EN LA PENÚLTIMA CAPA DENSA: 65\n",
        "+   FUNCIÓN DE ACTIVACIÓN EN PENÚLTIMA CAPA DENSA: relu\n",
        "+   FUNCIÓN ACTIVACIÓN ULTIMA CAPA CONVOLUCIONAL: softmax\n",
        "+   OPTIMIZADOR:  adam\n",
        "+   FUNCIÓN PÉRDIDA: sparse_categorical_crossentropy\n",
        "+   MÉTRICA:  accuracy\n",
        "\n",
        "Al comparar los dos mejores modelos de ambas prácticas vemos que la precisión en la Práctica 1 es menor que en la Práctica 2 teniendo el mismo número de épocas, mientras que la pérdida es superior en la Práctica 1 que en la Práctica 2. \n",
        "\n",
        "\n",
        "A continuación, vamos a realizar una comparación de las Predicciones de de cada uno de los Casos en ambas prácticas en la Figura 5.\n",
        "\n",
        "En la Práctica 1, podemos observar que al casi 100% la Figura 5 en seis de los ocho casos la identifica cómo un pantalón, mientras que en Caso 3 obtiene un 88%.\n",
        "\n",
        "En el caso de la Práctica 2, podemos observar que la imagen 5 de las catorce pedidas se trata de una camiseta y en cada uno de los casos se obtiene un porcentaje de precisión diferente: \n",
        "\n",
        "\n",
        "+  Caso 1 (Imagen_5)=78%\n",
        "\n",
        "+  Caso 2 (Imagen_5)= 83%\n",
        "\n",
        "+  Caso 3 (Imagen_5) = 94%\n",
        "\n",
        "Al contrario que en la Práctica 2, en cada uno de los ocho casos de la Práctica 1 no hay casos erróneos (franjas rojas), solo pequeñas probabilidades dudosas (franjas verdes) ya que debe de haber otra prenda de ropa similar.  \n",
        "\n",
        "Algo en común que tienen las resoluciones de ambas prácticas es que identifican dentro de la categoría 7 (Sneakers) con un gran grado de error ya que en su predicción la identifica también dentro de la categoría 5 (Sandal)."
      ],
      "metadata": {
        "id": "w54BIAlMdO6o"
      }
    },
    {
      "cell_type": "markdown",
      "source": [
        "**9. Ver los conceptos de batch_normalization y dropout y ver si se podría mejorar \n",
        "el modelo con ello.**"
      ],
      "metadata": {
        "id": "KNUkBLoPddpL"
      }
    },
    {
      "cell_type": "markdown",
      "source": [
        "Antes de comenzar con su implementación en código, se comenzará introduciendo los términos y casos de uso de cada uno de los conceptos:\n",
        "\n",
        "* *batch_normalization*: la idea principal es que se trata de aquella capa en la que se normalizan las entradas. De esta manera, dicha función aplica una transformación que mantiene la media de las salidas cerca de 0,y su desviación típica cerca de 1. Asimismo, cabe destacar que trabaja de diferente forma dependiendo de si se utiliza durante el entrenamiento o durante la evaluación:\n",
        "\n",
        "  1. Durante el entrenamiento: la capa normaliza sus salidas usando la media y la desviación típica del conocido como 'batch' actual de entradas.\n",
        "  2. Durante la evaluación: la capa normaliza sus salidas usando una media cambiante de la media y la desviación típica de aquellas 'batches' que haya visto en el periodo de entrenamiento.\n",
        "\n",
        "Por ende, la capa normalizará únicamente sus salidas durante la evaluación, después de haber estado entrenándose con datos que contengan estadícticas similares a la de los datos de evalución.\n",
        "\n",
        "Pasaremos los siguientes parámetros para el uso de la función:\n",
        "\n",
        "* initialiter: sirve para determinar como se inicializan los sesgos antes de inicializar el modelo. El predeterminado es 0.\n",
        "\n",
        "* une_bias: determina la aplicación del initialiter."
      ],
      "metadata": {
        "id": "5DGCS6oEdmnW"
      }
    },
    {
      "cell_type": "code",
      "source": [
        "from keras import layers"
      ],
      "metadata": {
        "id": "MTxCCYz5dpP1"
      },
      "execution_count": 40,
      "outputs": []
    },
    {
      "cell_type": "code",
      "source": [
        "print(\"CASO 1\")\n",
        "print(\"---------------------------------\")\n",
        "# CREAR EL MODELO DE RED NEURONAL CNN:\n",
        "model1B = Sequential()\n",
        "model1B.add(Conv2D(32, (5, 5), activation='relu', input_shape=(28, 28, 1), use_bias=False)) # 1ª capa convolucional\n",
        "model1B.add(MaxPooling2D((2, 2))) # 1ª capa pooling\n",
        "\n",
        "model1B.add(Conv2D(64, (5, 5), activation='relu')) # 2ª capa convolucional\n",
        "model1B.add(MaxPooling2D((2, 2))) # 2ª capa pooling\n",
        "\n",
        "model1B.add(Flatten()) # Flatten no es una capa, sirve para aplanar\n",
        "\n",
        "model1B.add(Dense(10, activation='softmax')) # Última capa densa\n",
        "\n",
        "model1B.add(layers.BatchNormalization()) # Capa Batch Normalization\n",
        "\n",
        "# COMPILAR EL MODELO CON MÉTRICA PRECISIÓN:\n",
        "model1B.compile(loss='sparse_categorical_crossentropy',\n",
        "                optimizer='sgd',\n",
        "                metrics=['accuracy'])\n",
        "\n",
        "history = model1B.fit\n",
        "\n",
        "model1B.fit(train_images, train_labels,\n",
        "            epochs=5)\n",
        "\n",
        "test_loss1B, test_acc1B = model1B.evaluate(test_images, test_labels)"
      ],
      "metadata": {
        "colab": {
          "base_uri": "https://localhost:8080/"
        },
        "id": "a8ch4HaTdxny",
        "outputId": "f0deb5b0-f96d-46a0-9b99-0d3f0363e4df"
      },
      "execution_count": 41,
      "outputs": [
        {
          "output_type": "stream",
          "name": "stdout",
          "text": [
            "CASO 1\n",
            "---------------------------------\n",
            "Epoch 1/5\n",
            "1875/1875 [==============================] - 90s 47ms/step - loss: 2.5810 - accuracy: 0.1019\n",
            "Epoch 2/5\n",
            "1875/1875 [==============================] - 73s 39ms/step - loss: 2.3027 - accuracy: 0.1000\n",
            "Epoch 3/5\n",
            "1875/1875 [==============================] - 78s 42ms/step - loss: 2.3026 - accuracy: 0.1000\n",
            "Epoch 4/5\n",
            "1875/1875 [==============================] - 88s 47ms/step - loss: 2.3026 - accuracy: 0.1000\n",
            "Epoch 5/5\n",
            "1875/1875 [==============================] - 82s 44ms/step - loss: 2.3026 - accuracy: 0.1000\n",
            "313/313 [==============================] - 4s 12ms/step - loss: 2.3026 - accuracy: 0.1000\n"
          ]
        }
      ]
    },
    {
      "cell_type": "code",
      "source": [
        "print(\"CASO 2\")\n",
        "print(\"---------------------------------\")\n",
        "\n",
        "# CREAR EL MODELO DE RED NEURONAL CNN:\n",
        "model2B = Sequential()\n",
        "model2B.add(Conv2D(64, (7, 7), activation='relu', input_shape=(28, 28, 1), padding='same',use_bias=False)) # 1ª capa convolucional\n",
        "model2B.add(MaxPooling2D((2, 2))) # 1ª capa pooling\n",
        "\n",
        "model2B.add(Conv2D(128, (3, 3), activation='relu', padding='same')) # 2ª capa convolucional\n",
        "model2B.add(MaxPooling2D((2, 2))) # 2ª capa pooling\n",
        "\n",
        "model2B.add(Flatten()) # Flatten no es una capa, sirve para aplanar\n",
        "\n",
        "model2B.add(Dense(65,activation='relu')) # Penúltima capa densa\n",
        "\n",
        "model2B.add(Dense(10, activation='softmax')) # Última capa densa\n",
        "\n",
        "model2B.add(layers.BatchNormalization()) # Capa Batch Normalization\n",
        "\n",
        "\n",
        "# COMPILAR EL MODELO CON MÉTRICA PRECISIÓN:\n",
        "model2B.compile(loss='sparse_categorical_crossentropy',\n",
        "                optimizer='sgd',\n",
        "                metrics=['accuracy'])\n",
        "\n",
        "history = model2B.fit\n",
        "\n",
        "model2B.fit(train_images, train_labels,\n",
        "            epochs=5)\n",
        "\n",
        "test_loss2B, test_acc2B = model2B.evaluate(test_images, test_labels)"
      ],
      "metadata": {
        "colab": {
          "base_uri": "https://localhost:8080/"
        },
        "id": "N0v9PLhNd-o6",
        "outputId": "0163f2d7-55fc-445c-d67a-dccff9545378"
      },
      "execution_count": null,
      "outputs": [
        {
          "output_type": "stream",
          "name": "stdout",
          "text": [
            "CASO 2\n",
            "---------------------------------\n",
            "Epoch 1/5\n",
            "1875/1875 [==============================] - 274s 146ms/step - loss: 2.4400 - accuracy: 0.1007\n",
            "Epoch 2/5\n",
            "1875/1875 [==============================] - 280s 149ms/step - loss: 2.3027 - accuracy: 0.1000\n",
            "Epoch 3/5\n",
            "1875/1875 [==============================] - 263s 140ms/step - loss: 2.3027 - accuracy: 0.1000\n",
            "Epoch 4/5\n",
            " 499/1875 [======>.......................] - ETA: 2:44 - loss: 2.3026 - accuracy: 0.0973"
          ]
        }
      ]
    },
    {
      "cell_type": "code",
      "source": [
        "print(\"CASO 3\")\n",
        "print(\"---------------------------------\")\n",
        "# CREAR EL MODELO DE RED NEURONAL CNN:\n",
        "model3B = Sequential()\n",
        "model3B.add(Conv2D(64, (7, 7), activation='relu', input_shape=(28, 28, 1), padding='same',use_bias=False)) # 1ª capa convolucional\n",
        "model3B.add(MaxPooling2D((2, 2))) # 1ª capa pooling\n",
        "\n",
        "model3B.add(Conv2D(128, (3, 3), activation='relu', padding='same')) # 2ª capa convolucional\n",
        "model3B.add(MaxPooling2D((2, 2))) # 2ª capa pooling\n",
        "\n",
        "model3B.add(Flatten()) # Flatten no es una capa, sirve para aplanar\n",
        "\n",
        "model3B.add(Dense(65,activation='relu')) # Penúltima capa densa\n",
        "\n",
        "model3B.add(Dense(10, activation='softmax')) # Última capa densa\n",
        "\n",
        "model3B.add(layers.BatchNormalization()) # Capa Batch Normalization\n",
        "\n",
        "# COMPILAR EL MODELO CON MÉTRICA PRECISIÓN:\n",
        "model3B.compile(loss='sparse_categorical_crossentropy',\n",
        "                optimizer='adam',\n",
        "                metrics=['accuracy'])\n",
        "\n",
        "history = model3B.fit\n",
        "\n",
        "model3B.fit(train_images, train_labels,\n",
        "            epochs=5)\n",
        "\n",
        "test_loss3B, test_acc3B = model3B.evaluate(test_images, test_labels)"
      ],
      "metadata": {
        "id": "FKHKc1mteJr9"
      },
      "execution_count": null,
      "outputs": []
    },
    {
      "cell_type": "markdown",
      "source": [
        "Con estos modelos obtenemos de 0.10 en todos ellos. Sin embargo, en el caso 1 se obtiene en la primera época, mientras que en los demás se alcanza en la segunda época."
      ],
      "metadata": {
        "id": "BR-rtsI-emce"
      }
    },
    {
      "cell_type": "markdown",
      "source": [
        "**Caso 1 (con use_bias='True' e inicializador)**"
      ],
      "metadata": {
        "id": "sTxf5kP4e0ja"
      }
    },
    {
      "cell_type": "code",
      "source": [
        "# CREAR EL MODELO DE RED NEURONAL CNN:\n",
        "model1BT = Sequential()\n",
        "bias_initializer = tf.keras.initializers.HeNormal()\n",
        "model1BT.add(Conv2D(32, (5, 5), activation='relu', input_shape=(28, 28, 1),use_bias=True,bias_initializer=bias_initializer)) # 1ª capa convolucional\n",
        "model1BT.add(MaxPooling2D((2, 2))) # 1ª capa pooling\n",
        "\n",
        "model1BT.add(Conv2D(64, (5, 5), activation='relu')) # 2ª capa convolucional\n",
        "model1BT.add(MaxPooling2D((2, 2))) # 2ª capa pooling\n",
        "\n",
        "model1BT.add(Flatten()) # Flatten no es una capa, sirve para aplanar\n",
        "\n",
        "model1BT.add(Dense(10, activation='softmax')) # Última capa densa\n",
        "\n",
        "model1BT.add(layers.BatchNormalization()) # Capa Batch Normalization\n",
        "\n",
        "# COMPILAR EL MODELO CON MÉTRICA PRECISIÓN:\n",
        "model1BT.compile(loss='sparse_categorical_crossentropy',\n",
        "                optimizer='sgd',\n",
        "                metrics=['accuracy'])\n",
        "\n",
        "history = model1BT.fit\n",
        "\n",
        "model1BT.fit(train_images, train_labels,\n",
        "            epochs=5)\n",
        "\n",
        "test_loss1BT, test_acc1BT = model1BT.evaluate(test_images, test_labels)"
      ],
      "metadata": {
        "id": "vsXdnH5se5-O"
      },
      "execution_count": null,
      "outputs": []
    },
    {
      "cell_type": "markdown",
      "source": [
        "**Caso 2 (con use_bias='True')**"
      ],
      "metadata": {
        "id": "ug-LsVzxe-jM"
      }
    },
    {
      "cell_type": "code",
      "source": [
        "# CREAR EL MODELO DE RED NEURONAL CNN:\n",
        "model2BT = Sequential()\n",
        "bias_initializer = tf.keras.initializers.HeNormal()\n",
        "model2BT.add(Conv2D(64, (7, 7), activation='relu', input_shape=(28, 28, 1), padding='same',use_bias=True,bias_initializer=bias_initializer)) # 1ª capa convolucional\n",
        "model2BT.add(MaxPooling2D((2, 2))) # 1ª capa pooling\n",
        "\n",
        "model2BT.add(Conv2D(128, (3, 3), activation='relu', padding='same')) # 2ª capa convolucional\n",
        "model2BT.add(MaxPooling2D((2, 2))) # 2ª capa pooling\n",
        "\n",
        "model2BT.add(Flatten()) # Flatten no es una capa, sirve para aplanar\n",
        "\n",
        "model2BT.add(Dense(65,activation='relu')) # Penúltima capa densa\n",
        "\n",
        "model2BT.add(Dense(10, activation='softmax')) # Última capa densa\n",
        "\n",
        "model2BT.add(layers.BatchNormalization()) # Capa Batch Normalization\n",
        "\n",
        "\n",
        "\n",
        "# COMPILAR EL MODELO CON MÉTRICA PRECISIÓN:\n",
        "model2BT.compile(loss='sparse_categorical_crossentropy',\n",
        "                optimizer='sgd',\n",
        "                metrics=['accuracy'])\n",
        "\n",
        "history = model2BT.fit\n",
        "\n",
        "model2BT.fit(train_images, train_labels,\n",
        "            epochs=5)\n",
        "\n",
        "test_loss2BT, test_acc2BT = model2BT.evaluate(test_images, test_labels)"
      ],
      "metadata": {
        "id": "nF04irldfDso"
      },
      "execution_count": null,
      "outputs": []
    },
    {
      "cell_type": "markdown",
      "source": [
        "**Caso 3 (con use_bias='True')**"
      ],
      "metadata": {
        "id": "3f-_6uZ6fHmD"
      }
    },
    {
      "cell_type": "code",
      "source": [
        "\n",
        "# CREAR EL MODELO DE RED NEURONAL CNN:\n",
        "model3BT = Sequential()\n",
        "bias_initializer = tf.keras.initializers.HeNormal()\n",
        "model3BT.add(Conv2D(64, (7, 7), activation='relu', input_shape=(28, 28, 1), padding='same',use_bias=True,bias_initializer=bias_initializer)) # 1ª capa convolucional\n",
        "model3BT.add(MaxPooling2D((2, 2))) # 1ª capa pooling\n",
        "\n",
        "model3BT.add(Conv2D(128, (3, 3), activation='relu', padding='same')) # 2ª capa convolucional\n",
        "model3BT.add(MaxPooling2D((2, 2))) # 2ª capa pooling\n",
        "\n",
        "model3BT.add(Flatten()) # Flatten no es una capa, sirve para aplanar\n",
        "\n",
        "model3BT.add(Dense(65,activation='relu')) # Penúltima capa densa\n",
        "\n",
        "model3BT.add(Dense(10, activation='softmax')) # Última capa densa\n",
        "\n",
        "model3BT.add(layers.BatchNormalization()) # Capa Batch Normalization\n",
        "\n",
        "\n",
        "# COMPILAR EL MODELO CON MÉTRICA PRECISIÓN:\n",
        "model3BT.compile(loss='sparse_categorical_crossentropy',\n",
        "                optimizer='adam',\n",
        "                metrics=['accuracy'])\n",
        "\n",
        "history = model3BT.fit\n",
        "\n",
        "model3BT.fit(train_images, train_labels,\n",
        "            epochs=5)\n",
        "\n",
        "test_loss3BT, test_acc3BT = model3BT.evaluate(test_images, test_labels)"
      ],
      "metadata": {
        "id": "c94R3EvSfLKP"
      },
      "execution_count": null,
      "outputs": []
    },
    {
      "cell_type": "markdown",
      "source": [
        "Obtenemos unos valores menores que los primeros modelos, además en todos ellos se obtiene una precisión máxima, aunque baja, en las primeras épocas y esta decrece a lo largo de las épocas posteriores, por lo que se produce sobre entrenamiento. Sin embargo son precisiones mayores que sin sesgar. Podría ser que con un inicializador diferente obtuvieramos mejores resultados. Y la función de perdida es menor.\n",
        "\n",
        "\n",
        "* *dropout*: esta capa establece - de manera aleatoria - unidades de entrada a 0 con una fecuencia de una vez cada paso del tiempo de entrenamiento. Esto ayuda a prevenir el peligroso 'sobre entrenamiento', también conocido por su traducción inglesa como 'overfitting'. Aquellas entradas que no se establezcan como 0 se escalan hasta por \"1/(1 - ratio)\", de forma que la suma sobre todas las entradas permanece inalterada."
      ],
      "metadata": {
        "id": "ehkzOF42fQaL"
      }
    },
    {
      "cell_type": "markdown",
      "source": [
        "**Caso 1**"
      ],
      "metadata": {
        "id": "BcnXeyWNf4Ia"
      }
    },
    {
      "cell_type": "code",
      "source": [
        "\n",
        "# CREAR EL MODELO DE RED NEURONAL CNN:\n",
        "model1D = Sequential()\n",
        "model1D.add(Conv2D(32, (5, 5), activation='relu', input_shape=(28, 28, 1))) # 1ª capa convolucional\n",
        "model1D.add(MaxPooling2D((2, 2))) # 1ª capa pooling\n",
        "\n",
        "model1D.add(Conv2D(64, (5, 5), activation='relu')) # 2ª capa convolucional\n",
        "model1D.add(MaxPooling2D((2, 2))) # 2ª capa pooling\n",
        "\n",
        "model1D.add(Flatten()) # Flatten no es una capa, sirve para aplanar\n",
        "\n",
        "model1D.add(Dense(10, activation='softmax')) # Última capa densa\n",
        "\n",
        "model1D.add(layers.Dropout(0.5)) # Capa Dropout\n",
        "\n",
        "# COMPILAR EL MODELO CON MÉTRICA PRECISIÓN:\n",
        "model1D.compile(loss='sparse_categorical_crossentropy',\n",
        "                optimizer='sgd',\n",
        "                metrics=['accuracy'])\n",
        "\n",
        "history = model1D.fit\n",
        "\n",
        "model1D.fit(train_images, train_labels,\n",
        "            epochs=5)\n",
        "\n",
        "test_loss1D, test_acc1D = model1D.evaluate(test_images, test_labels)"
      ],
      "metadata": {
        "id": "ut8uFTTxf8c1"
      },
      "execution_count": null,
      "outputs": []
    },
    {
      "cell_type": "markdown",
      "source": [
        "**Caso 2**\n"
      ],
      "metadata": {
        "id": "i-ictBqMgAwy"
      }
    },
    {
      "cell_type": "code",
      "source": [
        "# CREAR EL MODELO DE RED NEURONAL CNN:\n",
        "model2D = Sequential()\n",
        "model2D.add(Conv2D(64, (7, 7), activation='relu', input_shape=(28, 28, 1), padding='same')) # 1ª capa convolucional\n",
        "model2D.add(MaxPooling2D((2, 2))) # 1ª capa pooling\n",
        "\n",
        "model2D.add(Conv2D(128, (3, 3), activation='relu', padding='same')) # 2ª capa convolucional\n",
        "model2D.add(MaxPooling2D((2, 2))) # 2ª capa pooling\n",
        "\n",
        "model2D.add(Flatten()) # Flatten no es una capa, sirve para aplanar\n",
        "\n",
        "model2D.add(Dense(65,activation='relu')) # Penúltima capa densa\n",
        "\n",
        "model2D.add(Dense(10, activation='softmax')) # Última capa densa\n",
        "\n",
        "model2D.add(layers.Dropout(0.5)) # Capa Dropout\n",
        "\n",
        "\n",
        "\n",
        "# COMPILAR EL MODELO CON MÉTRICA PRECISIÓN:\n",
        "model2D.compile(loss='sparse_categorical_crossentropy',\n",
        "                optimizer='sgd',\n",
        "                metrics=['accuracy'])\n",
        "\n",
        "history = model2D.fit\n",
        "\n",
        "model2D.fit(train_images, train_labels,\n",
        "            epochs=5)\n",
        "\n",
        "test_loss2D, test_acc2D = model2D.evaluate(test_images, test_labels)"
      ],
      "metadata": {
        "id": "kMVu_AaqgE7I"
      },
      "execution_count": null,
      "outputs": []
    },
    {
      "cell_type": "markdown",
      "source": [
        "**Caso 3**"
      ],
      "metadata": {
        "id": "68Uu5CqjgH6q"
      }
    },
    {
      "cell_type": "code",
      "source": [
        "\n",
        "# CREAR EL MODELO DE RED NEURONAL CNN:\n",
        "model3D = Sequential()\n",
        "model3D.add(Conv2D(64, (7, 7), activation='relu', input_shape=(28, 28, 1), padding='same')) # 1ª capa convolucional\n",
        "model3D.add(MaxPooling2D((2, 2))) # 1ª capa pooling\n",
        "\n",
        "model3D.add(Conv2D(128, (3, 3), activation='relu', padding='same')) # 2ª capa convolucional\n",
        "model3D.add(MaxPooling2D((2, 2))) # 2ª capa pooling\n",
        "\n",
        "model3D.add(Flatten()) # Flatten no es una capa, sirve para aplanar\n",
        "\n",
        "model3D.add(Dense(65,activation='relu')) # Penúltima capa densa\n",
        "\n",
        "model3D.add(Dense(10, activation='softmax')) # Última capa densa\n",
        "\n",
        "model3D.add(layers.Dropout(0.5)) # Capa Dropout\n",
        "\n",
        "\n",
        "# COMPILAR EL MODELO CON MÉTRICA PRECISIÓN:\n",
        "model3D.compile(loss='sparse_categorical_crossentropy',\n",
        "                optimizer='adam',\n",
        "                metrics=['accuracy'])\n",
        "\n",
        "history = model3D.fit\n",
        "\n",
        "model3D.fit(train_images, train_labels,\n",
        "            epochs=5)\n",
        "\n",
        "test_loss3D, test_acc3D = model3D.evaluate(test_images, test_labels)"
      ],
      "metadata": {
        "id": "kLGlMvLlgKlj"
      },
      "execution_count": null,
      "outputs": []
    },
    {
      "cell_type": "markdown",
      "source": [
        "Las ventajas de usar 'batch normalization' son parecidas a las ventajas ofrecidas por el uso de 'dropout'. Es posible usar ambos métodos al mismo tiempo; aunque lo recomendable es usar primero 'batch normalization' y después, si fuese necesario, aplicar 'dropout'. Por tanto, debido a que se ha comprobado la efictividad de cada método por separado, a continuación se emplearán ambas al mismo modelo. Analizaremos las diferencias visibles que se produzcan.\n",
        "\n",
        "Con valores dropout obtenemos mejores precisiones que en los modelos con bach_normalitation. Sin embargo, siguen siendo valores menores que en los primeros modelos, lo que indica que deberíamos estudiar la respuesta de los modelos a variaciones en el porcentaje del dropout."
      ],
      "metadata": {
        "id": "NHpCbGSmgRed"
      }
    },
    {
      "cell_type": "markdown",
      "source": [
        "**Caso 3 (bach normalitation + dropout)**"
      ],
      "metadata": {
        "id": "e964zlIQgSuk"
      }
    },
    {
      "cell_type": "code",
      "source": [
        "# CREAR EL MODELO DE RED NEURONAL CNN:\n",
        "model3DD = Sequential()\n",
        "model3DD.add(Conv2D(64, (7, 7), activation='relu', input_shape=(28, 28, 1), padding='same')) # 1ª capa convolucional\n",
        "model3DD.add(MaxPooling2D((2, 2))) # 1ª capa pooling\n",
        "\n",
        "model3DD.add(Conv2D(128, (3, 3), activation='relu', padding='same')) # 2ª capa convolucional\n",
        "model3DD.add(MaxPooling2D((2, 2))) # 2ª capa pooling\n",
        "\n",
        "model3DD.add(Flatten()) # Flatten no es una capa, sirve para aplanar\n",
        "\n",
        "model3DD.add(Dense(65,activation='relu')) # Penúltima capa densa\n",
        "\n",
        "model3DD.add(Dense(10, activation='softmax')) # Última capa densa\n",
        "\n",
        "model3DD.add(layers.BatchNormalization()) # Capa Batch Normalization\n",
        "\n",
        "model3DD.add(layers.Dropout(0.5)) # Capa Dropout\n",
        "     \n",
        "\n",
        "# COMPILAR EL MODELO CON MÉTRICA PRECISIÓN:\n",
        "model3DD.compile(loss='sparse_categorical_crossentropy',\n",
        "                optimizer='adam',\n",
        "                metrics=['accuracy'])\n",
        "\n",
        "history = model3DD.fit\n",
        "\n",
        "model3DD.fit(train_images, train_labels,\n",
        "            epochs=5)\n",
        "\n",
        "test_loss3DD, test_acc3DD = model3DD.evaluate(test_images, test_labels)"
      ],
      "metadata": {
        "id": "i1jzv2SOgXmf"
      },
      "execution_count": null,
      "outputs": []
    },
    {
      "cell_type": "markdown",
      "source": [
        "**10. Ver los conceptos de callbacks (Decaimiento del ratio de aprendizaje) y ver si se podría mejorar el modelo con ello.** "
      ],
      "metadata": {
        "id": "YZXnvZOPgite"
      }
    },
    {
      "cell_type": "markdown",
      "source": [
        "Siguiendo la misma estructura que aquella del apartado anterior, se comenzará exponiendo las ideas generales de los conceptos de *callbacks*: Un 'callback' es un objeto capaz de llevar a cabo acciones en diferentes etapas del entrenamiento. Algunos ejemplos podrían ser su aplicación al comenzar o terminar una época ('epoch'), antes o después de un único 'batch',... Por ende, es posible aplicarlos en diversos momentos y con diferentes objetivos.\n",
        "\n",
        "Al igual que en funciones anteriores existen diversos parámetros que podemos aplicar. Con el proposito de estudiar estos modelos hemos elegido el siguiente:"
      ],
      "metadata": {
        "id": "mjIZEsdqgp2g"
      }
    },
    {
      "cell_type": "code",
      "source": [
        "tf.keras.callbacks.Callback()"
      ],
      "metadata": {
        "id": "HU03GpYqguGJ"
      },
      "execution_count": null,
      "outputs": []
    },
    {
      "cell_type": "code",
      "source": [
        "def scheduler(epoch, lr):\n",
        "   if epoch < 10:\n",
        "     return lr\n",
        "   else:\n",
        "     return lr * tf.math.exp(-0.1)"
      ],
      "metadata": {
        "id": "crcvNqa-gwqC"
      },
      "execution_count": null,
      "outputs": []
    },
    {
      "cell_type": "code",
      "source": [
        "callback = tf.keras.callbacks.LearningRateScheduler(scheduler)"
      ],
      "metadata": {
        "id": "G6OEOGQTg0GE"
      },
      "execution_count": null,
      "outputs": []
    },
    {
      "cell_type": "markdown",
      "source": [
        "Esta funcion deja los primeros rangos de aprendizaje para las primeras 10 épocas, tras eso decrece de forma exponencial."
      ],
      "metadata": {
        "id": "RliQAKYug1KN"
      }
    },
    {
      "cell_type": "markdown",
      "source": [
        "**Caso 1:**"
      ],
      "metadata": {
        "id": "C1n1_gmzg43M"
      }
    },
    {
      "cell_type": "code",
      "source": [
        "# CREAR EL MODELO DE RED NEURONAL CNN:\n",
        "model1F = Sequential()\n",
        "model1F.add(Conv2D(32, (5, 5), activation='relu', input_shape=(28, 28, 1))) # 1ª capa convolucional\n",
        "model1F.add(MaxPooling2D((2, 2))) # 1ª capa pooling\n",
        "\n",
        "model1F.add(Conv2D(64, (5, 5), activation='relu')) # 2ª capa convolucional\n",
        "model1F.add(MaxPooling2D((2, 2))) # 2ª capa pooling\n",
        "\n",
        "model1F.add(Flatten()) # Flatten sirve para aplanar\n",
        "\n",
        "model1F.add(Dense(10, activation='softmax')) # Última capa densa\n",
        "\n",
        "\n",
        "# COMPILAR EL MODELO CON MÉTRICA PRECISIÓN:\n",
        "model1F.compile(loss='sparse_categorical_crossentropy',\n",
        "                 optimizer='sgd',\n",
        "                 metrics=['accuracy'])\n",
        "\n",
        "history = model1F.fit\n",
        "\n",
        "model1F.fit(train_images, train_labels,\n",
        "             epochs=5,callbacks=[callback])\n",
        "\n",
        "test_loss1F, test_acc1F = model1F.evaluate(test_images, test_labels)"
      ],
      "metadata": {
        "id": "mWfde5fLg7PR"
      },
      "execution_count": null,
      "outputs": []
    },
    {
      "cell_type": "markdown",
      "source": [
        "**Caso 2**"
      ],
      "metadata": {
        "id": "UmkkzPLLg___"
      }
    },
    {
      "cell_type": "code",
      "source": [
        "# CREAR EL MODELO DE RED NEURONAL CNN:\n",
        "model2F = Sequential()\n",
        "model2F.add(Conv2D(64, (7, 7), activation='relu', input_shape=(28, 28, 1), padding='same')) # 1ª capa convolucional\n",
        "model2F.add(MaxPooling2D((2, 2))) # 1ª capa pooling\n",
        "\n",
        "model2F.add(Conv2D(128, (3, 3), activation='relu', padding='same')) # 2ª capa convolucional\n",
        "model2F.add(MaxPooling2D((2, 2))) # 2ª capa pooling\n",
        "\n",
        "model2F.add(Flatten()) # Flatten sirve para aplanar\n",
        "\n",
        "model2F.add(Dense(65,activation='relu')) # Penúltima capa densa\n",
        "\n",
        "model2F.add(Dense(10, activation='softmax')) # Última capa densa\n",
        "\n",
        "# COMPILAR EL MODELO CON MÉTRICA PRECISIÓN:\n",
        "model2F.compile(loss='sparse_categorical_crossentropy',\n",
        "                 optimizer='sgd',\n",
        "                 metrics=['accuracy'])\n",
        "\n",
        "history = model2F.fit\n",
        "\n",
        "model2F.fit(train_images, train_labels,\n",
        "             epochs=5, callbacks=[callback])\n",
        "\n",
        "test_loss2F, test_acc2F = model2F.evaluate(test_images, test_labels)"
      ],
      "metadata": {
        "id": "xMwwy8lChCe_"
      },
      "execution_count": null,
      "outputs": []
    },
    {
      "cell_type": "markdown",
      "source": [
        "**Caso 3**"
      ],
      "metadata": {
        "id": "Rg6pn5UIhHtk"
      }
    },
    {
      "cell_type": "code",
      "source": [
        "# CREAR EL MODELO DE RED NEURONAL CNN:\n",
        "model3F = Sequential()\n",
        "model3F.add(Conv2D(64, (7, 7), activation='relu', input_shape=(28, 28, 1), padding='same')) # 1ª capa convolucional\n",
        "model3F.add(MaxPooling2D((2, 2))) # 1ª capa pooling\n",
        "\n",
        "model3F.add(Conv2D(128, (3, 3), activation='relu', padding='same')) # 2ª capa convolucional\n",
        "model3F.add(MaxPooling2D((2, 2))) # 2ª capa pooling\n",
        "\n",
        "model3F.add(Flatten()) # Flatten para aplanar\n",
        "\n",
        "model3F.add(Dense(65,activation='relu')) # Penúltima capa densa\n",
        "\n",
        "model3F.add(Dense(10, activation='softmax')) # Última capa densa\n",
        "\n",
        "\n",
        "# COMPILAR EL MODELO CON MÉTRICA PRECISIÓN:\n",
        "model3F.compile(loss='sparse_categorical_crossentropy',\n",
        "                 optimizer='adam',\n",
        "                 metrics=['accuracy'])\n",
        "\n",
        "history = model3F.fit\n",
        "\n",
        "model3F.fit(train_images, train_labels,\n",
        "             epochs=5, callbacks=[callback])\n",
        "\n",
        "test_loss3F, test_acc3F = model3F.evaluate(test_images, test_labels)"
      ],
      "metadata": {
        "id": "FKndJs5hhK_1"
      },
      "execution_count": null,
      "outputs": []
    },
    {
      "cell_type": "markdown",
      "source": [
        "Tras aplicar callback a los 3 modelos observamos que las precisiones de todos ellos son menores en comparación a los modelos iniciales."
      ],
      "metadata": {
        "id": "5DZlyy2HhO-4"
      }
    },
    {
      "cell_type": "markdown",
      "source": [
        "### **Conclusiones**"
      ],
      "metadata": {
        "id": "eWXkcT-lhRWh"
      }
    },
    {
      "cell_type": "markdown",
      "source": [
        "En esta práctica hacemos uso de las capas convolucionales y pooling, que nos dan precisiones superiores al 86%.\n",
        "\n",
        "En cuanto a la precisión de los 3 modelos con respecto a una imagen los 3 han sido entrenados favorablemente, pues han acertado la gran mayoría. Hemos visto que el mejor de los modelos es el modelo 3.\n",
        "\n",
        "Asimismo, al aumentar las épocas del caso 1 se ha visto una importante mejora en el modelo, aunque no siempre aumentar las épocas implica un modelo mejor entrenado, en este caso es una buena opción.\n",
        "\n",
        "En cuanto a las funciones explicadas anteriormente, batch normalization, dropout y bias se concluye que el modelo empeora considerablemente. Es posible que con otros parámetros (por ejemplo un dropout menor) u otro tipo de inicializadores de sesgo se obtengan mejores resultados. Nos gustaría destacar que los valores optenidos son sospechosos debido a su bajo valor de precisión.\n",
        "\n",
        "Por ahora la mejor opción es el caso 1 con 25 épocas o el caso 3 con una menor precisión pero con menores épocas.\n",
        "\n",
        "Por último, el uso de callback aporta una precisión ligeramente menor que en los modelos inicales, pero es una mejor opción ante el uso de bach_normalitation o bias o dropout(0.5)."
      ],
      "metadata": {
        "id": "HV_rqe64hfJQ"
      }
    },
    {
      "cell_type": "markdown",
      "source": [
        "### **Reflexiones**"
      ],
      "metadata": {
        "id": "GsEKfGFuhhMh"
      }
    },
    {
      "cell_type": "markdown",
      "source": [
        "Al igual que en el anterior proyecto, este apartado expone los acontecimientos y las dificultades que hemos encontrado como equipo durante su realización. Está compuesto por tres secciones fuertemente relacionadas entre sí:"
      ],
      "metadata": {
        "id": "wNZeuS3GhnXV"
      }
    },
    {
      "cell_type": "markdown",
      "source": [
        "**1. ¿Cómo hemos afrontado la solución de la práctica?**\n",
        "\n"
      ],
      "metadata": {
        "id": "k976vGG2hp51"
      }
    },
    {
      "cell_type": "markdown",
      "source": [
        "Habiendo aprendido de la prática anterior ('Práctica 1'), y con el objetivo de mejorar los resultados obtenidos, tomamos algunas medidas nuevas con el fin de mejorar nuestro rendimiento.\n",
        "\n",
        "Entre ellas destaca que empezamos a trabajar en ella con mayor tiempo de antelación, con el propósito de estar más preparadas ante posibles imprevistos y tener un mayor tiempo de reacción.\n",
        "\n",
        "A su vez, hemos tenido más tiempo para aplicar detenidamente la segunda idea: trabajar primero el código de cada ejercicio, anotando únicamente algunos conceptos clave; y después, repasarlo d enuevo, centrándonos en la redacción de las observaciones y conclusiones encontradas.\n",
        "\n",
        "Esta estructura y conceptos iniciales para atajar la práctica de manera más eficaz posible nos ha permitido alcanzar un buen conocimiento de las Redes de Neuronas Convolucionales y sus utilidades. A su vez, se ha podido lograr una mejor comprensión de la 'Práctica 1' (funcionamiento de las Redes de Neuronas Artificiales) debido a la necesidad de comparar ambos proyectos detenidamente."
      ],
      "metadata": {
        "id": "Z8uVKeJLh0a0"
      }
    },
    {
      "cell_type": "markdown",
      "source": [
        "**2. ¿Cómo se ha dividido el trabajo?**"
      ],
      "metadata": {
        "id": "tV9G9HLrh26q"
      }
    },
    {
      "cell_type": "markdown",
      "source": [
        "Debido a la imposibilidad de trabajar con varios ordenadores al unísono, se han continuado con las distintas estrategias de la anterior práctica:\n",
        "\n",
        "* Comenzamos estructurando el proyecto de una manera similar a la del proyecto previo, recopilando aquellos conceptos necesarios tanto antiguos como nuevos.\n",
        "* Avanzamos en el trabajo a través de videollamadas. Esta herramienta permitía a una de nosotras compartir el código por la pantalla, mientras que las demás ayudábamos buscando soluciones con nuestros respectivos ordenadores para avanzar de manera conjunta y eficiente.\n",
        "* Se comprobó el código en diferentes ordenadores con el propósito de encontrar posibles fallos en la compilación, o errores en la redacción."
      ],
      "metadata": {
        "id": "kFOIqoDth--t"
      }
    },
    {
      "cell_type": "markdown",
      "source": [
        "**3. ¿Cómo se ha gestionado el equipo para trabajar?**"
      ],
      "metadata": {
        "id": "ROM34lbciGqz"
      }
    },
    {
      "cell_type": "markdown",
      "source": [
        "Siguiendo la línea argumental propuesta, teniendo en cuenta las similitudes de este apartado con el anterior y el carácter casi idéntico con respecto a la 'Práctica 1', explicaremos en más detalle las videollamadas mencionadas.\n",
        "\n",
        "Nos asignábamos pequeñas tareas - que incluíamos en el proyecto mandándoselas a la compañera con el trabajo abierto, o esperando a incluirlas después - mientras avanzábamos con el código y las conclusiones con el fin de aprovechar el tiempo al máximo.\n",
        "\n",
        "Sin embargo, también se utilizó tiempo en el que nos encontrábamos físicamente juntas para continuar."
      ],
      "metadata": {
        "id": "P-uV592JiODu"
      }
    },
    {
      "cell_type": "markdown",
      "source": [
        "### **Referencias Bibliográficas**"
      ],
      "metadata": {
        "id": "1gOSb_BDiSdf"
      }
    },
    {
      "cell_type": "markdown",
      "source": [
        "* Apuntes recogidos de GitHub y GoogleColab, a raíz de los contenidos estudiados en el aula\n",
        "* *https://keras.io/api/layers/normalization_layers/batch_normalization/*\n",
        "* *https://keras.io/api/layers/regularization_layers/dropout/*\n",
        "* *https://www.tensorflow.org/api_docs/python/tf/keras/callbacks/LearningRateScheduler*\n",
        "* *https://keras.io/api/callbacks/*"
      ],
      "metadata": {
        "id": "N0NUstrvig1F"
      }
    }
  ]
}