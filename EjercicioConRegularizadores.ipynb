{
  "cells": [
    {
      "cell_type": "markdown",
      "metadata": {
        "id": "Ejg7Msp7rbkk"
      },
      "source": [
        "# Ejercicio con regularizadores"
      ]
    },
    {
      "cell_type": "code",
      "execution_count": 121,
      "metadata": {
        "colab": {
          "base_uri": "https://localhost:8080/"
        },
        "id": "BSivef1i532C",
        "outputId": "1d389418-13cd-4764-a68f-7843a3d0b581"
      },
      "outputs": [
        {
          "output_type": "stream",
          "name": "stdout",
          "text": [
            "Colab only includes TensorFlow 2.x; %tensorflow_version has no effect.\n",
            "2.9.0\n",
            "GPU Available: []\n",
            "2.9.2\n"
          ]
        }
      ],
      "source": [
        "%tensorflow_version 2.x\n",
        "import tensorflow as tf\n",
        "from tensorflow import keras\n",
        "print(tf.keras.__version__)\n",
        "print(\"GPU Available:\", tf.config.list_physical_devices('GPU'))\n",
        "print(tf.__version__)\n",
        "from keras.datasets import mnist\n",
        "from keras import models\n",
        "from keras import layers\n",
        "import numpy as np\n",
        "import matplotlib.pyplot as plt\n",
        "from keras import regularizers"
      ]
    },
    {
      "cell_type": "code",
      "execution_count": 122,
      "metadata": {
        "id": "3t3R6gU9-wUy"
      },
      "outputs": [],
      "source": [
        "(train_images, train_labels), (test_images, test_labels) = mnist.load_data()# Descarga los datos de MNIST"
      ]
    },
    {
      "cell_type": "code",
      "execution_count": 123,
      "metadata": {
        "colab": {
          "base_uri": "https://localhost:8080/"
        },
        "id": "H6n5NeSz0U1d",
        "outputId": "54609f75-48a9-4541-a0f1-2494b3beaa81"
      },
      "outputs": [
        {
          "output_type": "stream",
          "name": "stdout",
          "text": [
            "(60000, 28, 28)\n",
            "(60000,)\n",
            "(60000, 784)\n",
            "(60000,)\n"
          ]
        }
      ],
      "source": [
        "# Prepara con reshape y normaliza las imágenes tanto de entrenamiento como de test\n",
        "\n",
        "print (train_images.shape)\n",
        "print (train_labels.shape)\n",
        "train_images = train_images.reshape((60000, 28*28))\n",
        "train_images = train_images.astype('float32') / 255\n",
        "\n",
        "test_images = test_images.reshape((10000, 28*28))\n",
        "test_images = test_images.astype('float32') / 255\n",
        "\n",
        "\n",
        "print (train_images.shape)\n",
        "print (train_labels.shape)"
      ]
    },
    {
      "cell_type": "code",
      "execution_count": 124,
      "metadata": {
        "id": "NKoZGyap0XAj"
      },
      "outputs": [],
      "source": [
        "# Crear un subconjunto de imágenes de entrenamiento que llamaré\n",
        "# validation_images, para hacer las validaciones, con las 10000 últimas imágenes \n",
        "# del set de datos de entrenamiento (train_images) (obviamente, lo mismo con las\n",
        "# etiquetas correspondientes -> validation_labels). Deja preparadas las 50K \n",
        "# primeras imágenes y etiquetas para entrenamiento (train_images y train_labels)\n",
        "\n",
        "validation_images = train_images[50000:]\n",
        "validation_labels = train_labels[50000:]\n",
        "\n",
        "train_images = train_images[:49999]\n",
        "train_labels = train_labels[:49999]\n"
      ]
    },
    {
      "cell_type": "code",
      "execution_count": 156,
      "metadata": {
        "id": "6JnVLVfsAfkh"
      },
      "outputs": [],
      "source": [
        "def crea_modelo(regularizador):\n",
        "  # Define una función que recibe un número del 0 al 4 que creará:\n",
        "  # un modelo secuencial con una capa de entrada densa de 512 neuronas\n",
        "  # con activación relu y la capa de salida que le corresponda según el problema\n",
        "  # Ahora, en función del número del regularizador:\n",
        "  # Si es 0, no mete ningún regularizador\n",
        "  # Si es 1, mete un regularizador de tipo l1 y valor 0.001\n",
        "  # Si es 2, mete un regularizador de tipo l2 y valor 0.001\n",
        "  # Si es 3, mete un regularizador de tipo l1_l2 y valor 0.001 para ambos\n",
        "  # Si es 4, mete un Dropout del 50% después de la primera capa densa\n",
        "  # Si es distinto que estos valores, escribe el error y retorna\n",
        "  # Al final, esta función pinta el summary del modelo y retorna el modelo creado\n",
        "    modelo=models.Sequential()\n",
        "    # if regularizador<0 or regularizador>4:\n",
        "      # print('ERROR')\n",
        "    if regularizador == 0:\n",
        "      modelo. add (layers. Dense(512, activation='relu',input_shape=(28*28,)))      \n",
        "    elif regularizador == 1:\n",
        "      # Regularización L1\n",
        "      modelo.add(layers.Dense(512,kernel_regularizer= regularizers.l1(0.001),activation='relu',input_shape=(28*28,)))   \n",
        "    elif regularizador == 2:\n",
        "      # Regularización L2\n",
        "      modelo.add(layers.Dense(512,kernel_regularizer= regularizers.l2(0.001),activation='relu',input_shape=(28*28,)))    \n",
        "    elif regularizador == 3:\n",
        "      # Regularización simultánea L1 y L2\n",
        "      modelo.add(layers.Dense(16,kernel_regularizer= regularizers.l1_l2(l1=0.001,l2=0.001),activation='relu',input_shape=(28*28,)))\n",
        "    elif regularizador == 4:\n",
        "      modelo. add (layers. Dense(512, activation='relu',input_shape=(28*28,)))\n",
        "      modelo.add(layers.Dropout(0.5))\n",
        "    else:\n",
        "      print(\"ERROR\")\n",
        "      return\n",
        "\n",
        "    modelo.add(layers.Dense(10, name = 'CapaSalida', activation = 'softmax'))\n",
        "    modelo.summary()\n",
        "    return modelo"
      ]
    },
    {
      "cell_type": "code",
      "execution_count": 126,
      "metadata": {
        "id": "qKyJ8KOT0aFt"
      },
      "outputs": [],
      "source": [
        "def compila_modelo(modelo): \n",
        "  # Define una función que recibe un modelo, lo compila con un optimizador\n",
        "  # 'rmsprop', con una función de pérdida 'sparse_categorical_crossentropy' y\n",
        "  # una métrica de precisión. La función retorna el modelo\n",
        "  modelo.compile(optimizer='rmsprop', \n",
        "                 loss='sparse_categorical_crossentropy', \n",
        "                 metrics=['accuracy'])\n",
        "  return modelo"
      ]
    },
    {
      "cell_type": "code",
      "execution_count": 127,
      "metadata": {
        "id": "_yQ7SpOt0cBp"
      },
      "outputs": [],
      "source": [
        "def entrena_modelo(modelo):\n",
        "  # Define una función que entrena el modelo que se le pasa por parámetro,\n",
        "  # con las imágenes y etiquetas de entrenamiento, con 30 iteraciones y 128\n",
        "  # de tamaño de minilote y con el validation_data creado más arriba.\n",
        "  # Esta función devuelve un history\n",
        "  history = modelo.fit(train_images, train_labels, \n",
        "                       epochs=30, batch_size=128, \n",
        "                       validation_data=(validation_images,validation_labels))\n",
        "\n",
        "  return history"
      ]
    },
    {
      "cell_type": "code",
      "execution_count": 128,
      "metadata": {
        "id": "bJrRNc4WwPN2"
      },
      "outputs": [],
      "source": [
        "def pinta_perdida_entrenamiento_validacion(historia):\n",
        "  history_dict = historia.history\n",
        "  acc = historia.history['accuracy']\n",
        "  val_acc = historia.history['val_accuracy']\n",
        "  loss = historia.history['loss']\n",
        "  val_loss = historia.history['val_loss']\n",
        "  epochs = range(1, len(acc) + 1)\n",
        "  # \"bo\" es para \"punto azun\"\n",
        "  plt.plot(epochs, loss, 'r*', label='Pérdida de Entrenamiento')\n",
        "  # \"b\" es para \"linea continua azul\"\n",
        "  plt.plot(epochs, val_loss, 'b', label='Pérdida de Validación')\n",
        "  plt.title('Pérdida de Entrenamiento y Validación')\n",
        "  plt.xlabel('Epochs')\n",
        "  plt.ylabel('Loss')\n",
        "  plt.legend()\n",
        "  plt.show()"
      ]
    },
    {
      "cell_type": "code",
      "execution_count": 129,
      "metadata": {
        "id": "Mafxp6D3wYQx"
      },
      "outputs": [],
      "source": [
        "def pinta_precision_entrenamiento_validacion(historia):\n",
        "  history_dict = historia.history\n",
        "  acc = historia.history['accuracy']\n",
        "  val_acc = historia.history['val_accuracy']\n",
        "  loss = historia.history['loss']\n",
        "  val_loss = historia.history['val_loss']\n",
        "  plt.clf()   # Limpia la figura\n",
        "  acc_values = history_dict['accuracy']\n",
        "  val_acc_values = history_dict['val_accuracy']\n",
        "  epochs = range(1, len(acc) + 1)\n",
        "  plt.plot(epochs, acc, 'bo', label='Precisión de Entrenamiento')\n",
        "  plt.plot(epochs, val_acc, 'b', label='Precisión de Validación')\n",
        "  plt.title('Precisión de Entrenamiento y Valización')\n",
        "  plt.xlabel('Epochs')\n",
        "  plt.ylabel('Loss')\n",
        "  plt.legend()\n",
        "  plt.show()"
      ]
    },
    {
      "cell_type": "markdown",
      "metadata": {
        "id": "6nnQYysYA3_T"
      },
      "source": [
        "## Una vez definidas todas las funciones anteriores, ejecuta las siguientes llamadas a dichas funciones y deduce que está pasando y, para este contexto, que es lo que mejor está funcionando"
      ]
    },
    {
      "cell_type": "markdown",
      "metadata": {
        "id": "OrGwDgaFBax4"
      },
      "source": [
        "### Caso 0, sin regularizadores"
      ]
    },
    {
      "cell_type": "code",
      "execution_count": 130,
      "metadata": {
        "id": "uXvhlXg79Zi9",
        "colab": {
          "base_uri": "https://localhost:8080/"
        },
        "outputId": "8dc0d25f-b178-43e7-bec5-9fc2a4ec1b9f"
      },
      "outputs": [
        {
          "output_type": "stream",
          "name": "stdout",
          "text": [
            "Model: \"sequential_17\"\n",
            "_________________________________________________________________\n",
            " Layer (type)                Output Shape              Param #   \n",
            "=================================================================\n",
            " dense_26 (Dense)            (None, 512)               401920    \n",
            "                                                                 \n",
            " CapaSalida (Dense)          (None, 10)                5130      \n",
            "                                                                 \n",
            "=================================================================\n",
            "Total params: 407,050\n",
            "Trainable params: 407,050\n",
            "Non-trainable params: 0\n",
            "_________________________________________________________________\n"
          ]
        }
      ],
      "source": [
        "network0 = crea_modelo(0)"
      ]
    },
    {
      "cell_type": "code",
      "execution_count": 131,
      "metadata": {
        "id": "Ff0HC3NR9ez8"
      },
      "outputs": [],
      "source": [
        "network0 = compila_modelo(network0)"
      ]
    },
    {
      "cell_type": "code",
      "execution_count": 132,
      "metadata": {
        "colab": {
          "base_uri": "https://localhost:8080/"
        },
        "id": "x9zQDOlw9g6V",
        "outputId": "cbd1f2f5-2475-44ee-f50f-18ea644f0bff"
      },
      "outputs": [
        {
          "output_type": "stream",
          "name": "stdout",
          "text": [
            "Epoch 1/30\n",
            "391/391 [==============================] - 5s 12ms/step - loss: 0.2829 - accuracy: 0.9178 - val_loss: 0.1359 - val_accuracy: 0.9608\n",
            "Epoch 2/30\n",
            "391/391 [==============================] - 4s 11ms/step - loss: 0.1185 - accuracy: 0.9647 - val_loss: 0.1097 - val_accuracy: 0.9667\n",
            "Epoch 3/30\n",
            "391/391 [==============================] - 4s 11ms/step - loss: 0.0770 - accuracy: 0.9769 - val_loss: 0.0844 - val_accuracy: 0.9752\n",
            "Epoch 4/30\n",
            "391/391 [==============================] - 6s 15ms/step - loss: 0.0548 - accuracy: 0.9841 - val_loss: 0.0787 - val_accuracy: 0.9771\n",
            "Epoch 5/30\n",
            "391/391 [==============================] - 4s 11ms/step - loss: 0.0412 - accuracy: 0.9878 - val_loss: 0.0733 - val_accuracy: 0.9792\n",
            "Epoch 6/30\n",
            "391/391 [==============================] - 4s 11ms/step - loss: 0.0311 - accuracy: 0.9911 - val_loss: 0.0809 - val_accuracy: 0.9776\n",
            "Epoch 7/30\n",
            "391/391 [==============================] - 4s 11ms/step - loss: 0.0242 - accuracy: 0.9931 - val_loss: 0.0699 - val_accuracy: 0.9803\n",
            "Epoch 8/30\n",
            "391/391 [==============================] - 5s 12ms/step - loss: 0.0181 - accuracy: 0.9950 - val_loss: 0.0735 - val_accuracy: 0.9799\n",
            "Epoch 9/30\n",
            "391/391 [==============================] - 5s 12ms/step - loss: 0.0132 - accuracy: 0.9964 - val_loss: 0.0853 - val_accuracy: 0.9793\n",
            "Epoch 10/30\n",
            "391/391 [==============================] - 4s 11ms/step - loss: 0.0106 - accuracy: 0.9968 - val_loss: 0.0850 - val_accuracy: 0.9801\n",
            "Epoch 11/30\n",
            "391/391 [==============================] - 4s 11ms/step - loss: 0.0083 - accuracy: 0.9977 - val_loss: 0.0814 - val_accuracy: 0.9806\n",
            "Epoch 12/30\n",
            "391/391 [==============================] - 4s 11ms/step - loss: 0.0063 - accuracy: 0.9984 - val_loss: 0.0834 - val_accuracy: 0.9824\n",
            "Epoch 13/30\n",
            "391/391 [==============================] - 4s 11ms/step - loss: 0.0049 - accuracy: 0.9988 - val_loss: 0.0857 - val_accuracy: 0.9824\n",
            "Epoch 14/30\n",
            "391/391 [==============================] - 4s 11ms/step - loss: 0.0038 - accuracy: 0.9990 - val_loss: 0.0881 - val_accuracy: 0.9815\n",
            "Epoch 15/30\n",
            "391/391 [==============================] - 4s 11ms/step - loss: 0.0025 - accuracy: 0.9994 - val_loss: 0.1006 - val_accuracy: 0.9804\n",
            "Epoch 16/30\n",
            "391/391 [==============================] - 4s 11ms/step - loss: 0.0021 - accuracy: 0.9995 - val_loss: 0.1014 - val_accuracy: 0.9807\n",
            "Epoch 17/30\n",
            "391/391 [==============================] - 4s 11ms/step - loss: 0.0019 - accuracy: 0.9995 - val_loss: 0.1017 - val_accuracy: 0.9818\n",
            "Epoch 18/30\n",
            "391/391 [==============================] - 4s 11ms/step - loss: 0.0015 - accuracy: 0.9994 - val_loss: 0.1098 - val_accuracy: 0.9802\n",
            "Epoch 19/30\n",
            "391/391 [==============================] - 5s 13ms/step - loss: 9.7398e-04 - accuracy: 0.9998 - val_loss: 0.1050 - val_accuracy: 0.9819\n",
            "Epoch 20/30\n",
            "391/391 [==============================] - 4s 11ms/step - loss: 7.5486e-04 - accuracy: 0.9998 - val_loss: 0.1145 - val_accuracy: 0.9810\n",
            "Epoch 21/30\n",
            "391/391 [==============================] - 4s 11ms/step - loss: 6.1180e-04 - accuracy: 0.9998 - val_loss: 0.1118 - val_accuracy: 0.9811\n",
            "Epoch 22/30\n",
            "391/391 [==============================] - 4s 11ms/step - loss: 4.5761e-04 - accuracy: 0.9999 - val_loss: 0.1128 - val_accuracy: 0.9821\n",
            "Epoch 23/30\n",
            "391/391 [==============================] - 4s 11ms/step - loss: 3.2095e-04 - accuracy: 0.9999 - val_loss: 0.1189 - val_accuracy: 0.9821\n",
            "Epoch 24/30\n",
            "391/391 [==============================] - 4s 11ms/step - loss: 3.9230e-04 - accuracy: 0.9999 - val_loss: 0.1200 - val_accuracy: 0.9832\n",
            "Epoch 25/30\n",
            "391/391 [==============================] - 4s 11ms/step - loss: 3.2394e-04 - accuracy: 0.9999 - val_loss: 0.1353 - val_accuracy: 0.9815\n",
            "Epoch 26/30\n",
            "391/391 [==============================] - 4s 11ms/step - loss: 2.2594e-04 - accuracy: 0.9999 - val_loss: 0.1292 - val_accuracy: 0.9821\n",
            "Epoch 27/30\n",
            "391/391 [==============================] - 4s 11ms/step - loss: 1.4479e-04 - accuracy: 1.0000 - val_loss: 0.1332 - val_accuracy: 0.9824\n",
            "Epoch 28/30\n",
            "391/391 [==============================] - 4s 11ms/step - loss: 1.6348e-04 - accuracy: 0.9999 - val_loss: 0.1381 - val_accuracy: 0.9824\n",
            "Epoch 29/30\n",
            "391/391 [==============================] - 4s 11ms/step - loss: 7.1821e-05 - accuracy: 1.0000 - val_loss: 0.1381 - val_accuracy: 0.9820\n",
            "Epoch 30/30\n",
            "391/391 [==============================] - 4s 11ms/step - loss: 1.0742e-04 - accuracy: 1.0000 - val_loss: 0.1401 - val_accuracy: 0.9819\n"
          ]
        }
      ],
      "source": [
        "historia0 = entrena_modelo(network0)"
      ]
    },
    {
      "cell_type": "code",
      "execution_count": 133,
      "metadata": {
        "colab": {
          "base_uri": "https://localhost:8080/",
          "height": 295
        },
        "id": "OvhDZvS8-0mG",
        "outputId": "17e0b270-6e64-422f-f615-eb67cc0e0973"
      },
      "outputs": [
        {
          "output_type": "display_data",
          "data": {
            "text/plain": [
              "<Figure size 432x288 with 1 Axes>"
            ],
            "image/png": "[encoded data removed]"
          },
          "metadata": {
            "needs_background": "light"
          }
        }
      ],
      "source": [
        "pinta_perdida_entrenamiento_validacion(historia0)"
      ]
    },
    {
      "cell_type": "code",
      "execution_count": 134,
      "metadata": {
        "colab": {
          "base_uri": "https://localhost:8080/",
          "height": 295
        },
        "id": "UuiL2CCH_fGN",
        "outputId": "f6479c40-d60e-4530-c86c-358787e01b39"
      },
      "outputs": [
        {
          "output_type": "display_data",
          "data": {
            "text/plain": [
              "<Figure size 432x288 with 1 Axes>"
            ],
            "image/png": "[encoded data removed]"
          },
          "metadata": {
            "needs_background": "light"
          }
        }
      ],
      "source": [
        "pinta_precision_entrenamiento_validacion(historia0)"
      ]
    },
    {
      "cell_type": "markdown",
      "metadata": {
        "id": "pw6iBGO5Bg8J"
      },
      "source": [
        "### Caso 1: Con regularizador l1"
      ]
    },
    {
      "cell_type": "code",
      "execution_count": 135,
      "metadata": {
        "id": "D6JPtw5zCz-1",
        "colab": {
          "base_uri": "https://localhost:8080/"
        },
        "outputId": "3890de64-030e-488d-a994-edbe0859089e"
      },
      "outputs": [
        {
          "output_type": "stream",
          "name": "stdout",
          "text": [
            "Model: \"sequential_18\"\n",
            "_________________________________________________________________\n",
            " Layer (type)                Output Shape              Param #   \n",
            "=================================================================\n",
            " dense_27 (Dense)            (None, 512)               401920    \n",
            "                                                                 \n",
            " CapaSalida (Dense)          (None, 10)                5130      \n",
            "                                                                 \n",
            "=================================================================\n",
            "Total params: 407,050\n",
            "Trainable params: 407,050\n",
            "Non-trainable params: 0\n",
            "_________________________________________________________________\n"
          ]
        }
      ],
      "source": [
        "network1 = crea_modelo(1)"
      ]
    },
    {
      "cell_type": "code",
      "execution_count": 136,
      "metadata": {
        "id": "zL3Gp7wvFRq3"
      },
      "outputs": [],
      "source": [
        "network1 = compila_modelo(network1)"
      ]
    },
    {
      "cell_type": "code",
      "execution_count": 137,
      "metadata": {
        "colab": {
          "base_uri": "https://localhost:8080/"
        },
        "id": "G2FG1Z4xFW72",
        "outputId": "668562d3-b148-42a4-cb5b-ae0fdc9bd502"
      },
      "outputs": [
        {
          "output_type": "stream",
          "name": "stdout",
          "text": [
            "Epoch 1/30\n",
            "391/391 [==============================] - 6s 13ms/step - loss: 2.1430 - accuracy: 0.8446 - val_loss: 1.0348 - val_accuracy: 0.8806\n",
            "Epoch 2/30\n",
            "391/391 [==============================] - 5s 12ms/step - loss: 0.9565 - accuracy: 0.8831 - val_loss: 0.8682 - val_accuracy: 0.9012\n",
            "Epoch 3/30\n",
            "391/391 [==============================] - 5s 13ms/step - loss: 0.8326 - accuracy: 0.9020 - val_loss: 0.7377 - val_accuracy: 0.9297\n",
            "Epoch 4/30\n",
            "391/391 [==============================] - 5s 12ms/step - loss: 0.7559 - accuracy: 0.9152 - val_loss: 0.7187 - val_accuracy: 0.9272\n",
            "Epoch 5/30\n",
            "391/391 [==============================] - 5s 12ms/step - loss: 0.7041 - accuracy: 0.9252 - val_loss: 0.6827 - val_accuracy: 0.9289\n",
            "Epoch 6/30\n",
            "391/391 [==============================] - 5s 12ms/step - loss: 0.6669 - accuracy: 0.9306 - val_loss: 0.7354 - val_accuracy: 0.9066\n",
            "Epoch 7/30\n",
            "391/391 [==============================] - 5s 12ms/step - loss: 0.6378 - accuracy: 0.9369 - val_loss: 0.7024 - val_accuracy: 0.9118\n",
            "Epoch 8/30\n",
            "391/391 [==============================] - 5s 12ms/step - loss: 0.6175 - accuracy: 0.9393 - val_loss: 0.6019 - val_accuracy: 0.9449\n",
            "Epoch 9/30\n",
            "391/391 [==============================] - 5s 12ms/step - loss: 0.5999 - accuracy: 0.9420 - val_loss: 0.5906 - val_accuracy: 0.9473\n",
            "Epoch 10/30\n",
            "391/391 [==============================] - 5s 13ms/step - loss: 0.5846 - accuracy: 0.9446 - val_loss: 0.6046 - val_accuracy: 0.9398\n",
            "Epoch 11/30\n",
            "391/391 [==============================] - 5s 12ms/step - loss: 0.5705 - accuracy: 0.9474 - val_loss: 0.5552 - val_accuracy: 0.9530\n",
            "Epoch 12/30\n",
            "391/391 [==============================] - 5s 12ms/step - loss: 0.5622 - accuracy: 0.9483 - val_loss: 0.5509 - val_accuracy: 0.9508\n",
            "Epoch 13/30\n",
            "391/391 [==============================] - 5s 12ms/step - loss: 0.5492 - accuracy: 0.9514 - val_loss: 0.5648 - val_accuracy: 0.9458\n",
            "Epoch 14/30\n",
            "391/391 [==============================] - 5s 12ms/step - loss: 0.5411 - accuracy: 0.9518 - val_loss: 0.5177 - val_accuracy: 0.9560\n",
            "Epoch 15/30\n",
            "391/391 [==============================] - 5s 12ms/step - loss: 0.5342 - accuracy: 0.9516 - val_loss: 0.5338 - val_accuracy: 0.9532\n",
            "Epoch 16/30\n",
            "391/391 [==============================] - 5s 13ms/step - loss: 0.5292 - accuracy: 0.9526 - val_loss: 0.5121 - val_accuracy: 0.9602\n",
            "Epoch 17/30\n",
            "391/391 [==============================] - 5s 13ms/step - loss: 0.5224 - accuracy: 0.9544 - val_loss: 0.5164 - val_accuracy: 0.9560\n",
            "Epoch 18/30\n",
            "391/391 [==============================] - 5s 13ms/step - loss: 0.5197 - accuracy: 0.9532 - val_loss: 0.4926 - val_accuracy: 0.9615\n",
            "Epoch 19/30\n",
            "391/391 [==============================] - 5s 12ms/step - loss: 0.5129 - accuracy: 0.9560 - val_loss: 0.5138 - val_accuracy: 0.9554\n",
            "Epoch 20/30\n",
            "391/391 [==============================] - 5s 12ms/step - loss: 0.5100 - accuracy: 0.9564 - val_loss: 0.5111 - val_accuracy: 0.9586\n",
            "Epoch 21/30\n",
            "391/391 [==============================] - 5s 12ms/step - loss: 0.5069 - accuracy: 0.9568 - val_loss: 0.5180 - val_accuracy: 0.9518\n",
            "Epoch 22/30\n",
            "391/391 [==============================] - 5s 13ms/step - loss: 0.5031 - accuracy: 0.9579 - val_loss: 0.5036 - val_accuracy: 0.9553\n",
            "Epoch 23/30\n",
            "391/391 [==============================] - 5s 12ms/step - loss: 0.4983 - accuracy: 0.9578 - val_loss: 0.4893 - val_accuracy: 0.9583\n",
            "Epoch 24/30\n",
            "391/391 [==============================] - 5s 12ms/step - loss: 0.4970 - accuracy: 0.9582 - val_loss: 0.4804 - val_accuracy: 0.9606\n",
            "Epoch 25/30\n",
            "391/391 [==============================] - 5s 12ms/step - loss: 0.4936 - accuracy: 0.9585 - val_loss: 0.4975 - val_accuracy: 0.9558\n",
            "Epoch 26/30\n",
            "391/391 [==============================] - 5s 12ms/step - loss: 0.4921 - accuracy: 0.9582 - val_loss: 0.4882 - val_accuracy: 0.9584\n",
            "Epoch 27/30\n",
            "391/391 [==============================] - 5s 12ms/step - loss: 0.4881 - accuracy: 0.9582 - val_loss: 0.4783 - val_accuracy: 0.9619\n",
            "Epoch 28/30\n",
            "391/391 [==============================] - 5s 12ms/step - loss: 0.4865 - accuracy: 0.9594 - val_loss: 0.5172 - val_accuracy: 0.9499\n",
            "Epoch 29/30\n",
            "391/391 [==============================] - 5s 13ms/step - loss: 0.4847 - accuracy: 0.9592 - val_loss: 0.4900 - val_accuracy: 0.9572\n",
            "Epoch 30/30\n",
            "391/391 [==============================] - 5s 12ms/step - loss: 0.4819 - accuracy: 0.9592 - val_loss: 0.5135 - val_accuracy: 0.9488\n"
          ]
        }
      ],
      "source": [
        "historia1 = entrena_modelo(network1)"
      ]
    },
    {
      "cell_type": "code",
      "execution_count": 138,
      "metadata": {
        "colab": {
          "base_uri": "https://localhost:8080/",
          "height": 295
        },
        "id": "Vyv3yFtiFitw",
        "outputId": "46c204d8-6894-48a4-84f1-b868d0580d52"
      },
      "outputs": [
        {
          "output_type": "display_data",
          "data": {
            "text/plain": [
              "<Figure size 432x288 with 1 Axes>"
            ],
            "image/png": "[encoded data removed]"
          },
          "metadata": {
            "needs_background": "light"
          }
        }
      ],
      "source": [
        "pinta_perdida_entrenamiento_validacion(historia1)"
      ]
    },
    {
      "cell_type": "code",
      "execution_count": 139,
      "metadata": {
        "colab": {
          "base_uri": "https://localhost:8080/",
          "height": 295
        },
        "id": "pVUerJsqFo7K",
        "outputId": "6141eec8-f89a-40c9-c860-b50b0cf8be9b"
      },
      "outputs": [
        {
          "output_type": "display_data",
          "data": {
            "text/plain": [
              "<Figure size 432x288 with 1 Axes>"
            ],
            "image/png": "[encoded data removed]"
          },
          "metadata": {
            "needs_background": "light"
          }
        }
      ],
      "source": [
        "pinta_precision_entrenamiento_validacion(historia1)"
      ]
    },
    {
      "cell_type": "markdown",
      "metadata": {
        "id": "hklwKNlMBzya"
      },
      "source": [
        "### Caso 2: Con regularizador l2"
      ]
    },
    {
      "cell_type": "code",
      "execution_count": 140,
      "metadata": {
        "id": "tjIs0FziG5Ja",
        "colab": {
          "base_uri": "https://localhost:8080/"
        },
        "outputId": "34cfa4dc-7775-4798-cb85-2f7d611c2811"
      },
      "outputs": [
        {
          "output_type": "stream",
          "name": "stdout",
          "text": [
            "Model: \"sequential_19\"\n",
            "_________________________________________________________________\n",
            " Layer (type)                Output Shape              Param #   \n",
            "=================================================================\n",
            " dense_28 (Dense)            (None, 512)               401920    \n",
            "                                                                 \n",
            " CapaSalida (Dense)          (None, 10)                5130      \n",
            "                                                                 \n",
            "=================================================================\n",
            "Total params: 407,050\n",
            "Trainable params: 407,050\n",
            "Non-trainable params: 0\n",
            "_________________________________________________________________\n"
          ]
        }
      ],
      "source": [
        "network2 = crea_modelo(2)"
      ]
    },
    {
      "cell_type": "code",
      "execution_count": 141,
      "metadata": {
        "id": "UCdA0K_qyTUq"
      },
      "outputs": [],
      "source": [
        "network2 = compila_modelo(network2)"
      ]
    },
    {
      "cell_type": "code",
      "execution_count": 142,
      "metadata": {
        "colab": {
          "base_uri": "https://localhost:8080/"
        },
        "id": "WSuomx5oybpu",
        "outputId": "e03832d8-77c0-42be-a978-7cbaa735aace"
      },
      "outputs": [
        {
          "output_type": "stream",
          "name": "stdout",
          "text": [
            "Epoch 1/30\n",
            "391/391 [==============================] - 6s 13ms/step - loss: 0.5278 - accuracy: 0.9115 - val_loss: 0.2858 - val_accuracy: 0.9586\n",
            "Epoch 2/30\n",
            "391/391 [==============================] - 5s 12ms/step - loss: 0.2641 - accuracy: 0.9540 - val_loss: 0.2182 - val_accuracy: 0.9648\n",
            "Epoch 3/30\n",
            "391/391 [==============================] - 5s 14ms/step - loss: 0.2094 - accuracy: 0.9624 - val_loss: 0.1909 - val_accuracy: 0.9666\n",
            "Epoch 4/30\n",
            "391/391 [==============================] - 5s 13ms/step - loss: 0.1877 - accuracy: 0.9668 - val_loss: 0.1795 - val_accuracy: 0.9687\n",
            "Epoch 5/30\n",
            "391/391 [==============================] - 5s 12ms/step - loss: 0.1716 - accuracy: 0.9703 - val_loss: 0.1768 - val_accuracy: 0.9685\n",
            "Epoch 6/30\n",
            "391/391 [==============================] - 5s 12ms/step - loss: 0.1642 - accuracy: 0.9721 - val_loss: 0.1719 - val_accuracy: 0.9695\n",
            "Epoch 7/30\n",
            "391/391 [==============================] - 5s 12ms/step - loss: 0.1577 - accuracy: 0.9732 - val_loss: 0.1538 - val_accuracy: 0.9750\n",
            "Epoch 8/30\n",
            "391/391 [==============================] - 5s 13ms/step - loss: 0.1519 - accuracy: 0.9737 - val_loss: 0.1610 - val_accuracy: 0.9710\n",
            "Epoch 9/30\n",
            "391/391 [==============================] - 5s 12ms/step - loss: 0.1483 - accuracy: 0.9742 - val_loss: 0.1603 - val_accuracy: 0.9713\n",
            "Epoch 10/30\n",
            "391/391 [==============================] - 5s 12ms/step - loss: 0.1422 - accuracy: 0.9758 - val_loss: 0.1474 - val_accuracy: 0.9756\n",
            "Epoch 11/30\n",
            "391/391 [==============================] - 5s 12ms/step - loss: 0.1399 - accuracy: 0.9766 - val_loss: 0.1403 - val_accuracy: 0.9762\n",
            "Epoch 12/30\n",
            "391/391 [==============================] - 5s 12ms/step - loss: 0.1361 - accuracy: 0.9776 - val_loss: 0.2537 - val_accuracy: 0.9380\n",
            "Epoch 13/30\n",
            "391/391 [==============================] - 5s 13ms/step - loss: 0.1342 - accuracy: 0.9773 - val_loss: 0.1700 - val_accuracy: 0.9691\n",
            "Epoch 14/30\n",
            "391/391 [==============================] - 5s 12ms/step - loss: 0.1316 - accuracy: 0.9778 - val_loss: 0.1480 - val_accuracy: 0.9723\n",
            "Epoch 15/30\n",
            "391/391 [==============================] - 5s 13ms/step - loss: 0.1290 - accuracy: 0.9786 - val_loss: 0.1463 - val_accuracy: 0.9739\n",
            "Epoch 16/30\n",
            "391/391 [==============================] - 5s 12ms/step - loss: 0.1273 - accuracy: 0.9789 - val_loss: 0.1393 - val_accuracy: 0.9749\n",
            "Epoch 17/30\n",
            "391/391 [==============================] - 5s 12ms/step - loss: 0.1242 - accuracy: 0.9785 - val_loss: 0.1424 - val_accuracy: 0.9727\n",
            "Epoch 18/30\n",
            "391/391 [==============================] - 5s 12ms/step - loss: 0.1221 - accuracy: 0.9800 - val_loss: 0.1373 - val_accuracy: 0.9749\n",
            "Epoch 19/30\n",
            "391/391 [==============================] - 5s 12ms/step - loss: 0.1212 - accuracy: 0.9797 - val_loss: 0.1631 - val_accuracy: 0.9685\n",
            "Epoch 20/30\n",
            "391/391 [==============================] - 5s 12ms/step - loss: 0.1204 - accuracy: 0.9804 - val_loss: 0.1314 - val_accuracy: 0.9756\n",
            "Epoch 21/30\n",
            "391/391 [==============================] - 5s 12ms/step - loss: 0.1187 - accuracy: 0.9805 - val_loss: 0.1424 - val_accuracy: 0.9754\n",
            "Epoch 22/30\n",
            "391/391 [==============================] - 5s 12ms/step - loss: 0.1176 - accuracy: 0.9803 - val_loss: 0.1627 - val_accuracy: 0.9688\n",
            "Epoch 23/30\n",
            "391/391 [==============================] - 5s 12ms/step - loss: 0.1145 - accuracy: 0.9809 - val_loss: 0.1349 - val_accuracy: 0.9758\n",
            "Epoch 24/30\n",
            "391/391 [==============================] - 5s 12ms/step - loss: 0.1124 - accuracy: 0.9813 - val_loss: 0.1617 - val_accuracy: 0.9692\n",
            "Epoch 25/30\n",
            "391/391 [==============================] - 5s 12ms/step - loss: 0.1129 - accuracy: 0.9812 - val_loss: 0.1327 - val_accuracy: 0.9746\n",
            "Epoch 26/30\n",
            "391/391 [==============================] - 5s 12ms/step - loss: 0.1116 - accuracy: 0.9816 - val_loss: 0.1371 - val_accuracy: 0.9740\n",
            "Epoch 27/30\n",
            "391/391 [==============================] - 5s 12ms/step - loss: 0.1113 - accuracy: 0.9810 - val_loss: 0.1446 - val_accuracy: 0.9728\n",
            "Epoch 28/30\n",
            "391/391 [==============================] - 5s 12ms/step - loss: 0.1103 - accuracy: 0.9815 - val_loss: 0.1502 - val_accuracy: 0.9712\n",
            "Epoch 29/30\n",
            "391/391 [==============================] - 5s 12ms/step - loss: 0.1093 - accuracy: 0.9823 - val_loss: 0.1301 - val_accuracy: 0.9755\n",
            "Epoch 30/30\n",
            "391/391 [==============================] - 5s 12ms/step - loss: 0.1076 - accuracy: 0.9828 - val_loss: 0.1227 - val_accuracy: 0.9785\n"
          ]
        }
      ],
      "source": [
        "historia2 = entrena_modelo(network2)"
      ]
    },
    {
      "cell_type": "code",
      "execution_count": 143,
      "metadata": {
        "colab": {
          "base_uri": "https://localhost:8080/",
          "height": 295
        },
        "id": "aXXzm8tpyj6X",
        "outputId": "b1eba301-c290-4749-e0eb-2e4709cbb0fe"
      },
      "outputs": [
        {
          "output_type": "display_data",
          "data": {
            "text/plain": [
              "<Figure size 432x288 with 1 Axes>"
            ],
            "image/png": "[encoded data removed]"
          },
          "metadata": {
            "needs_background": "light"
          }
        }
      ],
      "source": [
        "pinta_perdida_entrenamiento_validacion(historia2)"
      ]
    },
    {
      "cell_type": "code",
      "execution_count": 144,
      "metadata": {
        "colab": {
          "base_uri": "https://localhost:8080/",
          "height": 295
        },
        "id": "CLTsg5LTypH9",
        "outputId": "8e3cc685-dbe4-4613-bd34-79338b825798"
      },
      "outputs": [
        {
          "output_type": "display_data",
          "data": {
            "text/plain": [
              "<Figure size 432x288 with 1 Axes>"
            ],
            "image/png": "[encoded data removed]"
          },
          "metadata": {
            "needs_background": "light"
          }
        }
      ],
      "source": [
        "pinta_precision_entrenamiento_validacion(historia2)"
      ]
    },
    {
      "cell_type": "markdown",
      "metadata": {
        "id": "692oWz8oB82n"
      },
      "source": [
        "### Caso 3: Con regularizador l1_l2"
      ]
    },
    {
      "cell_type": "code",
      "execution_count": 145,
      "metadata": {
        "id": "5fdxkjoKzFcu",
        "colab": {
          "base_uri": "https://localhost:8080/"
        },
        "outputId": "aa117702-75fa-480e-ddb2-b27ee4522b59"
      },
      "outputs": [
        {
          "output_type": "stream",
          "name": "stdout",
          "text": [
            "Model: \"sequential_20\"\n",
            "_________________________________________________________________\n",
            " Layer (type)                Output Shape              Param #   \n",
            "=================================================================\n",
            " dense_29 (Dense)            (None, 16)                12560     \n",
            "                                                                 \n",
            " CapaSalida (Dense)          (None, 10)                170       \n",
            "                                                                 \n",
            "=================================================================\n",
            "Total params: 12,730\n",
            "Trainable params: 12,730\n",
            "Non-trainable params: 0\n",
            "_________________________________________________________________\n"
          ]
        }
      ],
      "source": [
        "network3 = crea_modelo(3)"
      ]
    },
    {
      "cell_type": "code",
      "execution_count": 146,
      "metadata": {
        "id": "VJzs9A2yzPhx"
      },
      "outputs": [],
      "source": [
        "network3 = compila_modelo(network3)"
      ]
    },
    {
      "cell_type": "code",
      "execution_count": 147,
      "metadata": {
        "colab": {
          "base_uri": "https://localhost:8080/"
        },
        "id": "1JCUbcCQzY6E",
        "outputId": "cdf3202b-bbb5-4855-a031-cc74c68a8965"
      },
      "outputs": [
        {
          "output_type": "stream",
          "name": "stdout",
          "text": [
            "Epoch 1/30\n",
            "391/391 [==============================] - 2s 3ms/step - loss: 1.0160 - accuracy: 0.8155 - val_loss: 0.6454 - val_accuracy: 0.9014\n",
            "Epoch 2/30\n",
            "391/391 [==============================] - 1s 3ms/step - loss: 0.6317 - accuracy: 0.8936 - val_loss: 0.5574 - val_accuracy: 0.9121\n",
            "Epoch 3/30\n",
            "391/391 [==============================] - 1s 3ms/step - loss: 0.5742 - accuracy: 0.9012 - val_loss: 0.5273 - val_accuracy: 0.9110\n",
            "Epoch 4/30\n",
            "391/391 [==============================] - 1s 3ms/step - loss: 0.5436 - accuracy: 0.9036 - val_loss: 0.5059 - val_accuracy: 0.9157\n",
            "Epoch 5/30\n",
            "391/391 [==============================] - 1s 3ms/step - loss: 0.5222 - accuracy: 0.9052 - val_loss: 0.4833 - val_accuracy: 0.9173\n",
            "Epoch 6/30\n",
            "391/391 [==============================] - 1s 3ms/step - loss: 0.5055 - accuracy: 0.9080 - val_loss: 0.4695 - val_accuracy: 0.9180\n",
            "Epoch 7/30\n",
            "391/391 [==============================] - 1s 3ms/step - loss: 0.4922 - accuracy: 0.9095 - val_loss: 0.4648 - val_accuracy: 0.9167\n",
            "Epoch 8/30\n",
            "391/391 [==============================] - 1s 3ms/step - loss: 0.4805 - accuracy: 0.9112 - val_loss: 0.4475 - val_accuracy: 0.9209\n",
            "Epoch 9/30\n",
            "391/391 [==============================] - 1s 3ms/step - loss: 0.4706 - accuracy: 0.9120 - val_loss: 0.4440 - val_accuracy: 0.9187\n",
            "Epoch 10/30\n",
            "391/391 [==============================] - 1s 3ms/step - loss: 0.4624 - accuracy: 0.9138 - val_loss: 0.4537 - val_accuracy: 0.9147\n",
            "Epoch 11/30\n",
            "391/391 [==============================] - 1s 3ms/step - loss: 0.4543 - accuracy: 0.9147 - val_loss: 0.4486 - val_accuracy: 0.9155\n",
            "Epoch 12/30\n",
            "391/391 [==============================] - 1s 3ms/step - loss: 0.4470 - accuracy: 0.9157 - val_loss: 0.4226 - val_accuracy: 0.9228\n",
            "Epoch 13/30\n",
            "391/391 [==============================] - 1s 3ms/step - loss: 0.4400 - accuracy: 0.9171 - val_loss: 0.4145 - val_accuracy: 0.9261\n",
            "Epoch 14/30\n",
            "391/391 [==============================] - 1s 3ms/step - loss: 0.4322 - accuracy: 0.9192 - val_loss: 0.4112 - val_accuracy: 0.9293\n",
            "Epoch 15/30\n",
            "391/391 [==============================] - 1s 3ms/step - loss: 0.4259 - accuracy: 0.9197 - val_loss: 0.4047 - val_accuracy: 0.9270\n",
            "Epoch 16/30\n",
            "391/391 [==============================] - 1s 3ms/step - loss: 0.4205 - accuracy: 0.9209 - val_loss: 0.4074 - val_accuracy: 0.9246\n",
            "Epoch 17/30\n",
            "391/391 [==============================] - 1s 3ms/step - loss: 0.4145 - accuracy: 0.9228 - val_loss: 0.3931 - val_accuracy: 0.9296\n",
            "Epoch 18/30\n",
            "391/391 [==============================] - 1s 3ms/step - loss: 0.4103 - accuracy: 0.9234 - val_loss: 0.4089 - val_accuracy: 0.9221\n",
            "Epoch 19/30\n",
            "391/391 [==============================] - 1s 3ms/step - loss: 0.4053 - accuracy: 0.9241 - val_loss: 0.3917 - val_accuracy: 0.9297\n",
            "Epoch 20/30\n",
            "391/391 [==============================] - 1s 3ms/step - loss: 0.4025 - accuracy: 0.9250 - val_loss: 0.3803 - val_accuracy: 0.9319\n",
            "Epoch 21/30\n",
            "391/391 [==============================] - 1s 3ms/step - loss: 0.3991 - accuracy: 0.9245 - val_loss: 0.3835 - val_accuracy: 0.9318\n",
            "Epoch 22/30\n",
            "391/391 [==============================] - 1s 3ms/step - loss: 0.3961 - accuracy: 0.9254 - val_loss: 0.3774 - val_accuracy: 0.9327\n",
            "Epoch 23/30\n",
            "391/391 [==============================] - 1s 3ms/step - loss: 0.3921 - accuracy: 0.9256 - val_loss: 0.3803 - val_accuracy: 0.9323\n",
            "Epoch 24/30\n",
            "391/391 [==============================] - 1s 3ms/step - loss: 0.3891 - accuracy: 0.9263 - val_loss: 0.3809 - val_accuracy: 0.9281\n",
            "Epoch 25/30\n",
            "391/391 [==============================] - 1s 3ms/step - loss: 0.3875 - accuracy: 0.9263 - val_loss: 0.3647 - val_accuracy: 0.9334\n",
            "Epoch 26/30\n",
            "391/391 [==============================] - 1s 3ms/step - loss: 0.3841 - accuracy: 0.9280 - val_loss: 0.3761 - val_accuracy: 0.9303\n",
            "Epoch 27/30\n",
            "391/391 [==============================] - 1s 3ms/step - loss: 0.3821 - accuracy: 0.9279 - val_loss: 0.3670 - val_accuracy: 0.9328\n",
            "Epoch 28/30\n",
            "391/391 [==============================] - 1s 3ms/step - loss: 0.3795 - accuracy: 0.9282 - val_loss: 0.3652 - val_accuracy: 0.9324\n",
            "Epoch 29/30\n",
            "391/391 [==============================] - 1s 3ms/step - loss: 0.3765 - accuracy: 0.9280 - val_loss: 0.3665 - val_accuracy: 0.9336\n",
            "Epoch 30/30\n",
            "391/391 [==============================] - 1s 3ms/step - loss: 0.3758 - accuracy: 0.9275 - val_loss: 0.3728 - val_accuracy: 0.9307\n"
          ]
        }
      ],
      "source": [
        "historia3 = entrena_modelo(network3)"
      ]
    },
    {
      "cell_type": "code",
      "execution_count": 148,
      "metadata": {
        "colab": {
          "base_uri": "https://localhost:8080/",
          "height": 295
        },
        "id": "I8XzPVtyze8y",
        "outputId": "bb9f15e5-abf4-4ff9-a15a-9c631afcde07"
      },
      "outputs": [
        {
          "output_type": "display_data",
          "data": {
            "text/plain": [
              "<Figure size 432x288 with 1 Axes>"
            ],
            "image/png": "[encoded data removed]"
          },
          "metadata": {
            "needs_background": "light"
          }
        }
      ],
      "source": [
        "pinta_perdida_entrenamiento_validacion(historia3)"
      ]
    },
    {
      "cell_type": "code",
      "execution_count": 149,
      "metadata": {
        "colab": {
          "base_uri": "https://localhost:8080/",
          "height": 295
        },
        "id": "nKk7AmM8zi3A",
        "outputId": "30f813b7-7435-40ed-ba77-e00489c997ef"
      },
      "outputs": [
        {
          "output_type": "display_data",
          "data": {
            "text/plain": [
              "<Figure size 432x288 with 1 Axes>"
            ],
            "image/png": "[encoded data removed]"
          },
          "metadata": {
            "needs_background": "light"
          }
        }
      ],
      "source": [
        "pinta_precision_entrenamiento_validacion(historia3)"
      ]
    },
    {
      "cell_type": "markdown",
      "metadata": {
        "id": "OPVcbgcXCFRL"
      },
      "source": [
        "### Caso 4: Con Droput"
      ]
    },
    {
      "cell_type": "code",
      "execution_count": 150,
      "metadata": {
        "id": "5MVbUNX11Pgr",
        "colab": {
          "base_uri": "https://localhost:8080/"
        },
        "outputId": "917b78b6-711f-446f-97a6-09ca75ae2797"
      },
      "outputs": [
        {
          "output_type": "stream",
          "name": "stdout",
          "text": [
            "Model: \"sequential_21\"\n",
            "_________________________________________________________________\n",
            " Layer (type)                Output Shape              Param #   \n",
            "=================================================================\n",
            " dense_30 (Dense)            (None, 512)               401920    \n",
            "                                                                 \n",
            " dropout_2 (Dropout)         (None, 512)               0         \n",
            "                                                                 \n",
            " CapaSalida (Dense)          (None, 10)                5130      \n",
            "                                                                 \n",
            "=================================================================\n",
            "Total params: 407,050\n",
            "Trainable params: 407,050\n",
            "Non-trainable params: 0\n",
            "_________________________________________________________________\n"
          ]
        }
      ],
      "source": [
        "network4 = crea_modelo(4)"
      ]
    },
    {
      "cell_type": "code",
      "execution_count": 151,
      "metadata": {
        "id": "pT-13IKI1UpW"
      },
      "outputs": [],
      "source": [
        "network4 = compila_modelo(network4)"
      ]
    },
    {
      "cell_type": "code",
      "execution_count": 152,
      "metadata": {
        "colab": {
          "base_uri": "https://localhost:8080/"
        },
        "id": "kNWidx1S1aCH",
        "outputId": "2d5ada62-0bb6-4d1e-847b-64bd6645321f"
      },
      "outputs": [
        {
          "output_type": "stream",
          "name": "stdout",
          "text": [
            "Epoch 1/30\n",
            "391/391 [==============================] - 6s 14ms/step - loss: 0.3447 - accuracy: 0.8990 - val_loss: 0.1546 - val_accuracy: 0.9575\n",
            "Epoch 2/30\n",
            "391/391 [==============================] - 5s 12ms/step - loss: 0.1703 - accuracy: 0.9490 - val_loss: 0.1127 - val_accuracy: 0.9675\n",
            "Epoch 3/30\n",
            "391/391 [==============================] - 5s 12ms/step - loss: 0.1293 - accuracy: 0.9602 - val_loss: 0.0957 - val_accuracy: 0.9725\n",
            "Epoch 4/30\n",
            "391/391 [==============================] - 5s 12ms/step - loss: 0.1051 - accuracy: 0.9687 - val_loss: 0.0859 - val_accuracy: 0.9741\n",
            "Epoch 5/30\n",
            "391/391 [==============================] - 5s 12ms/step - loss: 0.0910 - accuracy: 0.9725 - val_loss: 0.0935 - val_accuracy: 0.9740\n",
            "Epoch 6/30\n",
            "391/391 [==============================] - 5s 12ms/step - loss: 0.0807 - accuracy: 0.9757 - val_loss: 0.0778 - val_accuracy: 0.9784\n",
            "Epoch 7/30\n",
            "391/391 [==============================] - 5s 12ms/step - loss: 0.0740 - accuracy: 0.9779 - val_loss: 0.0781 - val_accuracy: 0.9784\n",
            "Epoch 8/30\n",
            "391/391 [==============================] - 5s 12ms/step - loss: 0.0673 - accuracy: 0.9802 - val_loss: 0.0767 - val_accuracy: 0.9793\n",
            "Epoch 9/30\n",
            "391/391 [==============================] - 5s 12ms/step - loss: 0.0624 - accuracy: 0.9814 - val_loss: 0.0810 - val_accuracy: 0.9790\n",
            "Epoch 10/30\n",
            "391/391 [==============================] - 5s 12ms/step - loss: 0.0593 - accuracy: 0.9814 - val_loss: 0.0798 - val_accuracy: 0.9800\n",
            "Epoch 11/30\n",
            "391/391 [==============================] - 5s 12ms/step - loss: 0.0565 - accuracy: 0.9836 - val_loss: 0.0803 - val_accuracy: 0.9797\n",
            "Epoch 12/30\n",
            "391/391 [==============================] - 5s 12ms/step - loss: 0.0514 - accuracy: 0.9845 - val_loss: 0.0805 - val_accuracy: 0.9795\n",
            "Epoch 13/30\n",
            "391/391 [==============================] - 5s 12ms/step - loss: 0.0500 - accuracy: 0.9844 - val_loss: 0.0795 - val_accuracy: 0.9823\n",
            "Epoch 14/30\n",
            "391/391 [==============================] - 5s 12ms/step - loss: 0.0479 - accuracy: 0.9853 - val_loss: 0.0794 - val_accuracy: 0.9814\n",
            "Epoch 15/30\n",
            "391/391 [==============================] - 5s 12ms/step - loss: 0.0422 - accuracy: 0.9869 - val_loss: 0.0791 - val_accuracy: 0.9821\n",
            "Epoch 16/30\n",
            "391/391 [==============================] - 5s 12ms/step - loss: 0.0410 - accuracy: 0.9877 - val_loss: 0.0860 - val_accuracy: 0.9812\n",
            "Epoch 17/30\n",
            "391/391 [==============================] - 5s 12ms/step - loss: 0.0412 - accuracy: 0.9880 - val_loss: 0.0811 - val_accuracy: 0.9815\n",
            "Epoch 18/30\n",
            "391/391 [==============================] - 5s 12ms/step - loss: 0.0392 - accuracy: 0.9876 - val_loss: 0.0866 - val_accuracy: 0.9798\n",
            "Epoch 19/30\n",
            "391/391 [==============================] - 5s 12ms/step - loss: 0.0370 - accuracy: 0.9893 - val_loss: 0.0802 - val_accuracy: 0.9819\n",
            "Epoch 20/30\n",
            "391/391 [==============================] - 5s 12ms/step - loss: 0.0376 - accuracy: 0.9884 - val_loss: 0.0911 - val_accuracy: 0.9813\n",
            "Epoch 21/30\n",
            "391/391 [==============================] - 5s 12ms/step - loss: 0.0351 - accuracy: 0.9895 - val_loss: 0.0901 - val_accuracy: 0.9819\n",
            "Epoch 22/30\n",
            "391/391 [==============================] - 5s 12ms/step - loss: 0.0318 - accuracy: 0.9904 - val_loss: 0.0877 - val_accuracy: 0.9827\n",
            "Epoch 23/30\n",
            "391/391 [==============================] - 5s 12ms/step - loss: 0.0309 - accuracy: 0.9908 - val_loss: 0.0906 - val_accuracy: 0.9822\n",
            "Epoch 24/30\n",
            "391/391 [==============================] - 5s 12ms/step - loss: 0.0307 - accuracy: 0.9905 - val_loss: 0.0909 - val_accuracy: 0.9813\n",
            "Epoch 25/30\n",
            "391/391 [==============================] - 5s 12ms/step - loss: 0.0295 - accuracy: 0.9914 - val_loss: 0.0914 - val_accuracy: 0.9824\n",
            "Epoch 26/30\n",
            "391/391 [==============================] - 5s 12ms/step - loss: 0.0288 - accuracy: 0.9911 - val_loss: 0.0930 - val_accuracy: 0.9820\n",
            "Epoch 27/30\n",
            "391/391 [==============================] - 5s 12ms/step - loss: 0.0287 - accuracy: 0.9912 - val_loss: 0.0910 - val_accuracy: 0.9827\n",
            "Epoch 28/30\n",
            "391/391 [==============================] - 5s 12ms/step - loss: 0.0280 - accuracy: 0.9916 - val_loss: 0.0941 - val_accuracy: 0.9809\n",
            "Epoch 29/30\n",
            "391/391 [==============================] - 5s 12ms/step - loss: 0.0262 - accuracy: 0.9920 - val_loss: 0.0944 - val_accuracy: 0.9829\n",
            "Epoch 30/30\n",
            "391/391 [==============================] - 5s 12ms/step - loss: 0.0265 - accuracy: 0.9920 - val_loss: 0.0982 - val_accuracy: 0.9821\n"
          ]
        }
      ],
      "source": [
        "historia4 = entrena_modelo(network4)"
      ]
    },
    {
      "cell_type": "code",
      "execution_count": 153,
      "metadata": {
        "colab": {
          "base_uri": "https://localhost:8080/",
          "height": 295
        },
        "id": "R9pI34Yr1gBO",
        "outputId": "494e2fc1-0270-423c-d127-f86b58b0c8cf"
      },
      "outputs": [
        {
          "output_type": "display_data",
          "data": {
            "text/plain": [
              "<Figure size 432x288 with 1 Axes>"
            ],
            "image/png": "[encoded data removed]"
          },
          "metadata": {
            "needs_background": "light"
          }
        }
      ],
      "source": [
        "pinta_perdida_entrenamiento_validacion(historia4)"
      ]
    },
    {
      "cell_type": "code",
      "execution_count": 154,
      "metadata": {
        "colab": {
          "base_uri": "https://localhost:8080/",
          "height": 295
        },
        "id": "EwEIEOKx1lQr",
        "outputId": "438c27ff-42dd-4371-89e8-a47bf0a1e69a"
      },
      "outputs": [
        {
          "output_type": "display_data",
          "data": {
            "text/plain": [
              "<Figure size 432x288 with 1 Axes>"
            ],
            "image/png": "[encoded data removed]"
          },
          "metadata": {
            "needs_background": "light"
          }
        }
      ],
      "source": [
        "pinta_precision_entrenamiento_validacion(historia4)"
      ]
    },
    {
      "cell_type": "markdown",
      "metadata": {
        "id": "e6rlKx2nCOgU"
      },
      "source": [
        "### Caso 5: Error de código de regularizador"
      ]
    },
    {
      "cell_type": "code",
      "execution_count": 155,
      "metadata": {
        "id": "SqGDm8VM1rwR",
        "colab": {
          "base_uri": "https://localhost:8080/"
        },
        "outputId": "b39a4f06-6c33-409c-d264-6611dc52e193"
      },
      "outputs": [
        {
          "output_type": "stream",
          "name": "stdout",
          "text": [
            "ERROR\n"
          ]
        }
      ],
      "source": [
        "network5 = crea_modelo(5)"
      ]
    },
    {
      "cell_type": "markdown",
      "metadata": {
        "id": "IklUu29cCcVe"
      },
      "source": [
        "### CONCLUSIONES"
      ]
    },
    {
      "cell_type": "markdown",
      "metadata": {
        "id": "cB_OYjjaChzN"
      },
      "source": [
        "**¿Qué regularizador funciona mejor?** \n",
        "\n",
        "El regulador sirve para evitar el sobreentrenamiento de nuestro modelo.\n",
        "\n",
        "Para determinar cuál regularizador es mejor con esta base de imágenes tenemos que fijarnos en el *val_accuracy*\n",
        "\n",
        "*   **Caso 0** La precisión con los datos de entrenamiento (1.000) es mayor a la de precisión  (0.9832) sin aplicar ningún tipo de regularizador. Su pérdida es de 7.1821e-05.\n",
        "\n",
        "*   **Caso 1** La precisión con los datos de entrenamiento (0.9619) es  mayor a la de precisión (0.9594) aplicando el regularizador l1. Su pérdida es de 0.4819.\n",
        "*   **Caso 2** La precisión con los datos de entrenamiento (0.9785) es menor a la de precisión (0.9828) aplicando el regularizador l2.Su pérdida es de 0.1076.\n",
        "*   **Caso 3** La precisión con los datos de entrenamiento (0.9336) es mayor a la de precisión (0.9282) aplicando el regularizador l1_l2.Su pérdida es de 0.0.3758.\n",
        "*   **Caso 4** La precisión con los datos de entrenamiento (0.9829) es menor a la de precisión (0.9920) con Dropout. Su pérdida es de 0.0.062.\n",
        "\n",
        "Si tomásemos en cuenta solo aquellos casos que tengas regularizadores se escogería el Caso 4 como el caso más efectivo, es decir, el regularizador con DropOut ya que su máximo valor en *val_accuracy* es el mayor de todos y su pérdida es la menor de todos.\n",
        "\n",
        "\n",
        "\n",
        "\n"
      ]
    }
  ],
  "metadata": {
    "accelerator": "TPU",
    "colab": {
      "provenance": [],
      "collapsed_sections": [
        "pw6iBGO5Bg8J",
        "hklwKNlMBzya",
        "692oWz8oB82n",
        "OPVcbgcXCFRL",
        "e6rlKx2nCOgU"
      ]
    },
    "kernelspec": {
      "display_name": "Python 3",
      "language": "python",
      "name": "python3"
    },
    "language_info": {
      "codemirror_mode": {
        "name": "ipython",
        "version": 3
      },
      "file_extension": ".py",
      "mimetype": "text/x-python",
      "name": "python",
      "nbconvert_exporter": "python",
      "pygments_lexer": "ipython3",
      "version": "3.8.5"
    }
  },
  "nbformat": 4,
  "nbformat_minor": 0
}