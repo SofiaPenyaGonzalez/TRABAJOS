{
  "nbformat": 4,
  "nbformat_minor": 0,
  "metadata": {
    "colab": {
      "provenance": [],
      "include_colab_link": true
    },
    "kernelspec": {
      "name": "python3",
      "display_name": "Python 3"
    },
    "language_info": {
      "name": "python"
    }
  },
  "cells": [
    {
      "cell_type": "markdown",
      "metadata": {
        "id": "view-in-github",
        "colab_type": "text"
      },
      "source": [
        "<a href=\"https://colab.research.google.com/github/SofiaPenyaGonzalez/TRABAJOS/blob/main/PR%C3%81CTICA_FINAL_GRUPO_2.ipynb\" target=\"_parent\"><img src=\"https://colab.research.google.com/assets/colab-badge.svg\" alt=\"Open In Colab\"/></a>"
      ]
    },
    {
      "cell_type": "markdown",
      "source": [
        "**GRUPO 2**\n",
        "\n",
        "María García Rodríguez\n",
        "\n",
        "Paloma Moya Tudela\n",
        "\n",
        "Sofía Peña González\n",
        "\n",
        "Elena Peral Pastor\n",
        "\n"
      ],
      "metadata": {
        "id": "w8YbxA3YDZZu"
      }
    },
    {
      "cell_type": "markdown",
      "source": [
        "# RESUMEN"
      ],
      "metadata": {
        "id": "zXY6f3Stvuin"
      }
    },
    {
      "cell_type": "markdown",
      "source": [],
      "metadata": {
        "id": "fHM3CH4ikEHP"
      }
    },
    {
      "cell_type": "markdown",
      "source": [
        "# ÍNDICE"
      ],
      "metadata": {
        "id": "Xo8E6lFYEGf7"
      }
    },
    {
      "cell_type": "markdown",
      "source": [
        "\n",
        "\n",
        "*   Introducción\n",
        "*   Datos\n",
        "*   Métodos\n",
        "*   Resolución\n",
        "*   Hallazgos\n",
        "*   Trabajo futuro\n",
        "*   Referencias Bibliográficas\n",
        "\n",
        "\n",
        "\n",
        "\n",
        "\n"
      ],
      "metadata": {
        "id": "3fiCm_ARE1Rb"
      }
    },
    {
      "cell_type": "markdown",
      "source": [
        "# INTRODUCCIÓN"
      ],
      "metadata": {
        "id": "Iu-Hs4guEOoV"
      }
    },
    {
      "cell_type": "markdown",
      "source": [
        "\n",
        "En este documento se va a construir una RNA de un modelo de predicción del precio medio de las reservas de hoteles. Debido a estas características hemos optado por un método de regresión. \n",
        "\n",
        "La \"regresión\", consiste en predecir un valor continuo de una etiqueta discreta. \n",
        "\n",
        "Es posible abordar este problema desde varias perspectivas. Un problema interante sería utilizar Clasificación Binaria con el fin de averiguar la cancelación o no de una reserva . Por otro lado, se puede emplear el método de regresión para calcular el posible precio de un reserva con determinadas caracterísiticas. \n",
        "\n",
        "\n",
        "Un documento relacionado con este proyecto es el visto en clase: Regresión de Precio de Casas. \n",
        "\n",
        "\n"
      ],
      "metadata": {
        "id": "QseTgK29kc7h"
      }
    },
    {
      "cell_type": "markdown",
      "source": [
        "# DATOS"
      ],
      "metadata": {
        "id": "S1bh5aylkP-E"
      }
    },
    {
      "cell_type": "markdown",
      "metadata": {
        "id": "bFew88eKrzVQ"
      },
      "source": [
        "Trabajaremos con un conjunto de datos acerca de las reservas en hoteles, con el objetivo de adquirir la capacidad de predicción de una cancelación de reserva. \n",
        "\n",
        "Fichero CSV de 36.276 filas y 19 columnas. La información que aporta cada columna se explica a continuación:\n",
        "\n",
        "1. **Booking_ID**: identificador único de cada reserva\n",
        "2. **no_of_adults**: cantidad de adultos\n",
        "3. **no_of_children**: cantidad de niños\n",
        "4. **no_of_weekend_nights**: cantidad de noches en fin de semana (sábado o domingo) que los huéspedes se quedaron, o reservaron, para permanecer en el hotel\n",
        "5. **no_of_week_nights**: cantidad de noches en semana (lunes a viernes) que los huéspedes se quedaron, o reservaron, para permanecer en el hotel\n",
        "6. **type_of_meal_plan**: tipo de plan de comida reservado por el cliente\n",
        "7. **required_car_parking_space**: ¿Requiere el cliente una plaza de aparcamiento? (0 - No, 1- Sí)\n",
        "8. **room_type_reserved**: tipo de habitación reservada por el cliente. Los valores están codificados por 'INN Hotels'.\n",
        "9. **lead_time**:cantidad de días entre la fecha de reserva y la fecha de llegada\n",
        "10. **arrival_year**: año de la fecha de llegada\n",
        "11. **arrival_month**: mes de la fecha de llegada\n",
        "12. **arrival_date**: fecha del mes\n",
        "13. **market_segment_type**: designación del segmento de mercado\n",
        "14. **repeated_guest**: ¿El cliente es un huésped reincidente? (0 - No, 1- Sí)\n",
        "15. **no_of_previous_cancellations**: cantidad de reservas previas que fueron canceladas por el cliente, previo a la reserva actual\n",
        "16. **no_of_previous_bookings_not_canceled**: cantidad de reservas previas que no fueron canceladas por el cliente, previo a la reserva actual\n",
        "17. **avg_price_per_room**: precio medio de la reserva por día; los precios de las habitaciones son dinámicas (en euros)\n",
        "18. **no_of_special_requests**: cantidad total de solicitudes presentadas por el cliente (p.e. vistas de la habitación, planta elevada, ...)\n",
        "19. **booking_status**: señal indicadora de si la reserva fue cancelada o no\n",
        "\n",
        "Observamos que aparecen diferentes tipos de datos en las columnas; ya sean cadenas de caracteres, dígitos binarios, discretos o continuos. Asimismo, no existen valores vacíos (\"missing values\"), característica que nos permitirá saltarnos la correspondiente limpieza en la base de datos de estas celdas. \n",
        "\n",
        "`Pandas` soporta un amplio catálogo de formatos: **CSV, TSV, JSON, HTML, Parquet, HDF5...**. Debido a que estos datos sobre reservas de hoteles están almacenados en un fichero **CSV**, será necesario utilizar la función `read_csv` de la biblioteca Pandas para importar dicha base de datos."
      ]
    },
    {
      "cell_type": "markdown",
      "source": [
        "# MÉTODOS"
      ],
      "metadata": {
        "id": "6fZHw-sVkRA3"
      }
    },
    {
      "cell_type": "markdown",
      "source": [
        "Los métodos y todas las herramientas utilizadas serán explicadas a lo largo de este documento al igual que la Preparación de los Datos y los hallazgos. "
      ],
      "metadata": {
        "id": "Becpgd8CkeZT"
      }
    },
    {
      "cell_type": "markdown",
      "source": [
        "# RESOLUCIÓN"
      ],
      "metadata": {
        "id": "X36Twi4IEVBu"
      }
    },
    {
      "cell_type": "markdown",
      "source": [
        "## Importación de la base de datos"
      ],
      "metadata": {
        "id": "yV_vx-Nsks1O"
      }
    },
    {
      "cell_type": "code",
      "source": [
        "# CARGAMOS EL CONJUNTO DE DATOS EN KERAS\n",
        "import pandas as pd\n",
        "datos = pd.read_csv('Hotel Reservations.csv')\n",
        "datos.head()\n"
      ],
      "metadata": {
        "id": "9boZLFDdaHN0",
        "colab": {
          "base_uri": "https://localhost:8080/",
          "height": 268
        },
        "outputId": "befd8f56-a91c-43eb-dcca-7d9eb47dd3dc"
      },
      "execution_count": 1,
      "outputs": [
        {
          "output_type": "execute_result",
          "data": {
            "text/plain": [
              "  Booking_ID  no_of_adults  no_of_children  no_of_weekend_nights  \\\n",
              "0   INN00001             2               0                     1   \n",
              "1   INN00002             2               0                     2   \n",
              "2   INN00003             1               0                     2   \n",
              "3   INN00004             2               0                     0   \n",
              "4   INN00005             2               0                     1   \n",
              "\n",
              "   no_of_week_nights type_of_meal_plan  required_car_parking_space  \\\n",
              "0                  2       Meal Plan 1                           0   \n",
              "1                  3      Not Selected                           0   \n",
              "2                  1       Meal Plan 1                           0   \n",
              "3                  2       Meal Plan 1                           0   \n",
              "4                  1      Not Selected                           0   \n",
              "\n",
              "  room_type_reserved  lead_time  arrival_year  arrival_month  arrival_date  \\\n",
              "0        Room_Type 1        224          2017             10             2   \n",
              "1        Room_Type 1          5          2018             11             6   \n",
              "2        Room_Type 1          1          2018              2            28   \n",
              "3        Room_Type 1        211          2018              5            20   \n",
              "4        Room_Type 1         48          2018              4            11   \n",
              "\n",
              "  market_segment_type  repeated_guest  no_of_previous_cancellations  \\\n",
              "0             Offline               0                             0   \n",
              "1              Online               0                             0   \n",
              "2              Online               0                             0   \n",
              "3              Online               0                             0   \n",
              "4              Online               0                             0   \n",
              "\n",
              "   no_of_previous_bookings_not_canceled  avg_price_per_room  \\\n",
              "0                                     0               65.00   \n",
              "1                                     0              106.68   \n",
              "2                                     0               60.00   \n",
              "3                                     0              100.00   \n",
              "4                                     0               94.50   \n",
              "\n",
              "   no_of_special_requests booking_status  \n",
              "0                       0   Not_Canceled  \n",
              "1                       1   Not_Canceled  \n",
              "2                       0       Canceled  \n",
              "3                       0       Canceled  \n",
              "4                       0       Canceled  "
            ],
            "text/html": [
              "\n",
              "  <div id=\"df-ac3cd447-3fd9-43c9-80c5-2afdfc9e2321\">\n",
              "    <div class=\"colab-df-container\">\n",
              "      <div>\n",
              "<style scoped>\n",
              "    .dataframe tbody tr th:only-of-type {\n",
              "        vertical-align: middle;\n",
              "    }\n",
              "\n",
              "    .dataframe tbody tr th {\n",
              "        vertical-align: top;\n",
              "    }\n",
              "\n",
              "    .dataframe thead th {\n",
              "        text-align: right;\n",
              "    }\n",
              "</style>\n",
              "<table border=\"1\" class=\"dataframe\">\n",
              "  <thead>\n",
              "    <tr style=\"text-align: right;\">\n",
              "      <th></th>\n",
              "      <th>Booking_ID</th>\n",
              "      <th>no_of_adults</th>\n",
              "      <th>no_of_children</th>\n",
              "      <th>no_of_weekend_nights</th>\n",
              "      <th>no_of_week_nights</th>\n",
              "      <th>type_of_meal_plan</th>\n",
              "      <th>required_car_parking_space</th>\n",
              "      <th>room_type_reserved</th>\n",
              "      <th>lead_time</th>\n",
              "      <th>arrival_year</th>\n",
              "      <th>arrival_month</th>\n",
              "      <th>arrival_date</th>\n",
              "      <th>market_segment_type</th>\n",
              "      <th>repeated_guest</th>\n",
              "      <th>no_of_previous_cancellations</th>\n",
              "      <th>no_of_previous_bookings_not_canceled</th>\n",
              "      <th>avg_price_per_room</th>\n",
              "      <th>no_of_special_requests</th>\n",
              "      <th>booking_status</th>\n",
              "    </tr>\n",
              "  </thead>\n",
              "  <tbody>\n",
              "    <tr>\n",
              "      <th>0</th>\n",
              "      <td>INN00001</td>\n",
              "      <td>2</td>\n",
              "      <td>0</td>\n",
              "      <td>1</td>\n",
              "      <td>2</td>\n",
              "      <td>Meal Plan 1</td>\n",
              "      <td>0</td>\n",
              "      <td>Room_Type 1</td>\n",
              "      <td>224</td>\n",
              "      <td>2017</td>\n",
              "      <td>10</td>\n",
              "      <td>2</td>\n",
              "      <td>Offline</td>\n",
              "      <td>0</td>\n",
              "      <td>0</td>\n",
              "      <td>0</td>\n",
              "      <td>65.00</td>\n",
              "      <td>0</td>\n",
              "      <td>Not_Canceled</td>\n",
              "    </tr>\n",
              "    <tr>\n",
              "      <th>1</th>\n",
              "      <td>INN00002</td>\n",
              "      <td>2</td>\n",
              "      <td>0</td>\n",
              "      <td>2</td>\n",
              "      <td>3</td>\n",
              "      <td>Not Selected</td>\n",
              "      <td>0</td>\n",
              "      <td>Room_Type 1</td>\n",
              "      <td>5</td>\n",
              "      <td>2018</td>\n",
              "      <td>11</td>\n",
              "      <td>6</td>\n",
              "      <td>Online</td>\n",
              "      <td>0</td>\n",
              "      <td>0</td>\n",
              "      <td>0</td>\n",
              "      <td>106.68</td>\n",
              "      <td>1</td>\n",
              "      <td>Not_Canceled</td>\n",
              "    </tr>\n",
              "    <tr>\n",
              "      <th>2</th>\n",
              "      <td>INN00003</td>\n",
              "      <td>1</td>\n",
              "      <td>0</td>\n",
              "      <td>2</td>\n",
              "      <td>1</td>\n",
              "      <td>Meal Plan 1</td>\n",
              "      <td>0</td>\n",
              "      <td>Room_Type 1</td>\n",
              "      <td>1</td>\n",
              "      <td>2018</td>\n",
              "      <td>2</td>\n",
              "      <td>28</td>\n",
              "      <td>Online</td>\n",
              "      <td>0</td>\n",
              "      <td>0</td>\n",
              "      <td>0</td>\n",
              "      <td>60.00</td>\n",
              "      <td>0</td>\n",
              "      <td>Canceled</td>\n",
              "    </tr>\n",
              "    <tr>\n",
              "      <th>3</th>\n",
              "      <td>INN00004</td>\n",
              "      <td>2</td>\n",
              "      <td>0</td>\n",
              "      <td>0</td>\n",
              "      <td>2</td>\n",
              "      <td>Meal Plan 1</td>\n",
              "      <td>0</td>\n",
              "      <td>Room_Type 1</td>\n",
              "      <td>211</td>\n",
              "      <td>2018</td>\n",
              "      <td>5</td>\n",
              "      <td>20</td>\n",
              "      <td>Online</td>\n",
              "      <td>0</td>\n",
              "      <td>0</td>\n",
              "      <td>0</td>\n",
              "      <td>100.00</td>\n",
              "      <td>0</td>\n",
              "      <td>Canceled</td>\n",
              "    </tr>\n",
              "    <tr>\n",
              "      <th>4</th>\n",
              "      <td>INN00005</td>\n",
              "      <td>2</td>\n",
              "      <td>0</td>\n",
              "      <td>1</td>\n",
              "      <td>1</td>\n",
              "      <td>Not Selected</td>\n",
              "      <td>0</td>\n",
              "      <td>Room_Type 1</td>\n",
              "      <td>48</td>\n",
              "      <td>2018</td>\n",
              "      <td>4</td>\n",
              "      <td>11</td>\n",
              "      <td>Online</td>\n",
              "      <td>0</td>\n",
              "      <td>0</td>\n",
              "      <td>0</td>\n",
              "      <td>94.50</td>\n",
              "      <td>0</td>\n",
              "      <td>Canceled</td>\n",
              "    </tr>\n",
              "  </tbody>\n",
              "</table>\n",
              "</div>\n",
              "      <button class=\"colab-df-convert\" onclick=\"convertToInteractive('df-ac3cd447-3fd9-43c9-80c5-2afdfc9e2321')\"\n",
              "              title=\"Convert this dataframe to an interactive table.\"\n",
              "              style=\"display:none;\">\n",
              "        \n",
              "  <svg xmlns=\"http://www.w3.org/2000/svg\" height=\"24px\"viewBox=\"0 0 24 24\"\n",
              "       width=\"24px\">\n",
              "    <path d=\"M0 0h24v24H0V0z\" fill=\"none\"/>\n",
              "    <path d=\"M18.56 5.44l.94 2.06.94-2.06 2.06-.94-2.06-.94-.94-2.06-.94 2.06-2.06.94zm-11 1L8.5 8.5l.94-2.06 2.06-.94-2.06-.94L8.5 2.5l-.94 2.06-2.06.94zm10 10l.94 2.06.94-2.06 2.06-.94-2.06-.94-.94-2.06-.94 2.06-2.06.94z\"/><path d=\"M17.41 7.96l-1.37-1.37c-.4-.4-.92-.59-1.43-.59-.52 0-1.04.2-1.43.59L10.3 9.45l-7.72 7.72c-.78.78-.78 2.05 0 2.83L4 21.41c.39.39.9.59 1.41.59.51 0 1.02-.2 1.41-.59l7.78-7.78 2.81-2.81c.8-.78.8-2.07 0-2.86zM5.41 20L4 18.59l7.72-7.72 1.47 1.35L5.41 20z\"/>\n",
              "  </svg>\n",
              "      </button>\n",
              "      \n",
              "  <style>\n",
              "    .colab-df-container {\n",
              "      display:flex;\n",
              "      flex-wrap:wrap;\n",
              "      gap: 12px;\n",
              "    }\n",
              "\n",
              "    .colab-df-convert {\n",
              "      background-color: #E8F0FE;\n",
              "      border: none;\n",
              "      border-radius: 50%;\n",
              "      cursor: pointer;\n",
              "      display: none;\n",
              "      fill: #1967D2;\n",
              "      height: 32px;\n",
              "      padding: 0 0 0 0;\n",
              "      width: 32px;\n",
              "    }\n",
              "\n",
              "    .colab-df-convert:hover {\n",
              "      background-color: #E2EBFA;\n",
              "      box-shadow: 0px 1px 2px rgba(60, 64, 67, 0.3), 0px 1px 3px 1px rgba(60, 64, 67, 0.15);\n",
              "      fill: #174EA6;\n",
              "    }\n",
              "\n",
              "    [theme=dark] .colab-df-convert {\n",
              "      background-color: #3B4455;\n",
              "      fill: #D2E3FC;\n",
              "    }\n",
              "\n",
              "    [theme=dark] .colab-df-convert:hover {\n",
              "      background-color: #434B5C;\n",
              "      box-shadow: 0px 1px 3px 1px rgba(0, 0, 0, 0.15);\n",
              "      filter: drop-shadow(0px 1px 2px rgba(0, 0, 0, 0.3));\n",
              "      fill: #FFFFFF;\n",
              "    }\n",
              "  </style>\n",
              "\n",
              "      <script>\n",
              "        const buttonEl =\n",
              "          document.querySelector('#df-ac3cd447-3fd9-43c9-80c5-2afdfc9e2321 button.colab-df-convert');\n",
              "        buttonEl.style.display =\n",
              "          google.colab.kernel.accessAllowed ? 'block' : 'none';\n",
              "\n",
              "        async function convertToInteractive(key) {\n",
              "          const element = document.querySelector('#df-ac3cd447-3fd9-43c9-80c5-2afdfc9e2321');\n",
              "          const dataTable =\n",
              "            await google.colab.kernel.invokeFunction('convertToInteractive',\n",
              "                                                     [key], {});\n",
              "          if (!dataTable) return;\n",
              "\n",
              "          const docLinkHtml = 'Like what you see? Visit the ' +\n",
              "            '<a target=\"_blank\" href=https://colab.research.google.com/notebooks/data_table.ipynb>data table notebook</a>'\n",
              "            + ' to learn more about interactive tables.';\n",
              "          element.innerHTML = '';\n",
              "          dataTable['output_type'] = 'display_data';\n",
              "          await google.colab.output.renderOutput(dataTable, element);\n",
              "          const docLink = document.createElement('div');\n",
              "          docLink.innerHTML = docLinkHtml;\n",
              "          element.appendChild(docLink);\n",
              "        }\n",
              "      </script>\n",
              "    </div>\n",
              "  </div>\n",
              "  "
            ]
          },
          "metadata": {},
          "execution_count": 1
        }
      ]
    },
    {
      "cell_type": "markdown",
      "metadata": {
        "id": "Mpw7lOnyrzVT"
      },
      "source": [
        "Hemos utilizado los valores que venían por defecto, para todos sus parámetros. Sin embargo, Pandas nos permite:\n",
        "\n",
        "* Seleccionar el carácter separador, que podría ser la 'coma' en el caso de nuestra base de datos (debido al formato en el que se descargó el archivo)\n",
        "* Determinar diferentes valores que deben considerar como True y False: las columnas con carácter binario podrían ser sustituidas de manera que 1-True y 0-False, por ejemplo. Dependerá de las facilidades que aporte al trabajo que se va a realizar.\n",
        "* Seleccionar una codificación concreta del fichero.\n",
        "* Indicar manualmente el nombre de las columnas si el fichero no tiene cabecera. Igualmente, este cambio se puede llevar cabo en el caso de querer reemplazar el nombre actual de las mismas por otro deseado.\n",
        "\n",
        "Debido a que el archivo seleccionado se encuentra redactado en inglés, haremos uso de esta última posibilidad y se modificarán los nombres de las 19 columnas de la base de datos a continuación."
      ]
    },
    {
      "cell_type": "code",
      "source": [
        "datos.columns = ['IDReserva','Nadultos','Nninos','NochesFinde','NochesSemana','PlanComida','Parking', 'TipoHabitacion','Salida','Llegadaano','Llegadames','Llegadadia','Mercado','NuevooNo','CancelacionesPrev','ReservasNoCancel','PrecioporHab','Complementos','EstadoReserva']\n",
        "datos"
      ],
      "metadata": {
        "colab": {
          "base_uri": "https://localhost:8080/",
          "height": 483
        },
        "id": "UoYhw7hJ3gfY",
        "outputId": "42cb0723-a2bd-4ae5-fcf0-ad489da0dfbb"
      },
      "execution_count": 2,
      "outputs": [
        {
          "output_type": "execute_result",
          "data": {
            "text/plain": [
              "      IDReserva  Nadultos  Nninos  NochesFinde  NochesSemana    PlanComida  \\\n",
              "0      INN00001         2       0            1             2   Meal Plan 1   \n",
              "1      INN00002         2       0            2             3  Not Selected   \n",
              "2      INN00003         1       0            2             1   Meal Plan 1   \n",
              "3      INN00004         2       0            0             2   Meal Plan 1   \n",
              "4      INN00005         2       0            1             1  Not Selected   \n",
              "...         ...       ...     ...          ...           ...           ...   \n",
              "36270  INN36271         3       0            2             6   Meal Plan 1   \n",
              "36271  INN36272         2       0            1             3   Meal Plan 1   \n",
              "36272  INN36273         2       0            2             6   Meal Plan 1   \n",
              "36273  INN36274         2       0            0             3  Not Selected   \n",
              "36274  INN36275         2       0            1             2   Meal Plan 1   \n",
              "\n",
              "       Parking TipoHabitacion  Salida  Llegadaano  Llegadames  Llegadadia  \\\n",
              "0            0    Room_Type 1     224        2017          10           2   \n",
              "1            0    Room_Type 1       5        2018          11           6   \n",
              "2            0    Room_Type 1       1        2018           2          28   \n",
              "3            0    Room_Type 1     211        2018           5          20   \n",
              "4            0    Room_Type 1      48        2018           4          11   \n",
              "...        ...            ...     ...         ...         ...         ...   \n",
              "36270        0    Room_Type 4      85        2018           8           3   \n",
              "36271        0    Room_Type 1     228        2018          10          17   \n",
              "36272        0    Room_Type 1     148        2018           7           1   \n",
              "36273        0    Room_Type 1      63        2018           4          21   \n",
              "36274        0    Room_Type 1     207        2018          12          30   \n",
              "\n",
              "       Mercado  NuevooNo  CancelacionesPrev  ReservasNoCancel  PrecioporHab  \\\n",
              "0      Offline         0                  0                 0         65.00   \n",
              "1       Online         0                  0                 0        106.68   \n",
              "2       Online         0                  0                 0         60.00   \n",
              "3       Online         0                  0                 0        100.00   \n",
              "4       Online         0                  0                 0         94.50   \n",
              "...        ...       ...                ...               ...           ...   \n",
              "36270   Online         0                  0                 0        167.80   \n",
              "36271   Online         0                  0                 0         90.95   \n",
              "36272   Online         0                  0                 0         98.39   \n",
              "36273   Online         0                  0                 0         94.50   \n",
              "36274  Offline         0                  0                 0        161.67   \n",
              "\n",
              "       Complementos EstadoReserva  \n",
              "0                 0  Not_Canceled  \n",
              "1                 1  Not_Canceled  \n",
              "2                 0      Canceled  \n",
              "3                 0      Canceled  \n",
              "4                 0      Canceled  \n",
              "...             ...           ...  \n",
              "36270             1  Not_Canceled  \n",
              "36271             2      Canceled  \n",
              "36272             2  Not_Canceled  \n",
              "36273             0      Canceled  \n",
              "36274             0  Not_Canceled  \n",
              "\n",
              "[36275 rows x 19 columns]"
            ],
            "text/html": [
              "\n",
              "  <div id=\"df-50d58dae-9c6b-4a9a-93d0-5793f48ce8c7\">\n",
              "    <div class=\"colab-df-container\">\n",
              "      <div>\n",
              "<style scoped>\n",
              "    .dataframe tbody tr th:only-of-type {\n",
              "        vertical-align: middle;\n",
              "    }\n",
              "\n",
              "    .dataframe tbody tr th {\n",
              "        vertical-align: top;\n",
              "    }\n",
              "\n",
              "    .dataframe thead th {\n",
              "        text-align: right;\n",
              "    }\n",
              "</style>\n",
              "<table border=\"1\" class=\"dataframe\">\n",
              "  <thead>\n",
              "    <tr style=\"text-align: right;\">\n",
              "      <th></th>\n",
              "      <th>IDReserva</th>\n",
              "      <th>Nadultos</th>\n",
              "      <th>Nninos</th>\n",
              "      <th>NochesFinde</th>\n",
              "      <th>NochesSemana</th>\n",
              "      <th>PlanComida</th>\n",
              "      <th>Parking</th>\n",
              "      <th>TipoHabitacion</th>\n",
              "      <th>Salida</th>\n",
              "      <th>Llegadaano</th>\n",
              "      <th>Llegadames</th>\n",
              "      <th>Llegadadia</th>\n",
              "      <th>Mercado</th>\n",
              "      <th>NuevooNo</th>\n",
              "      <th>CancelacionesPrev</th>\n",
              "      <th>ReservasNoCancel</th>\n",
              "      <th>PrecioporHab</th>\n",
              "      <th>Complementos</th>\n",
              "      <th>EstadoReserva</th>\n",
              "    </tr>\n",
              "  </thead>\n",
              "  <tbody>\n",
              "    <tr>\n",
              "      <th>0</th>\n",
              "      <td>INN00001</td>\n",
              "      <td>2</td>\n",
              "      <td>0</td>\n",
              "      <td>1</td>\n",
              "      <td>2</td>\n",
              "      <td>Meal Plan 1</td>\n",
              "      <td>0</td>\n",
              "      <td>Room_Type 1</td>\n",
              "      <td>224</td>\n",
              "      <td>2017</td>\n",
              "      <td>10</td>\n",
              "      <td>2</td>\n",
              "      <td>Offline</td>\n",
              "      <td>0</td>\n",
              "      <td>0</td>\n",
              "      <td>0</td>\n",
              "      <td>65.00</td>\n",
              "      <td>0</td>\n",
              "      <td>Not_Canceled</td>\n",
              "    </tr>\n",
              "    <tr>\n",
              "      <th>1</th>\n",
              "      <td>INN00002</td>\n",
              "      <td>2</td>\n",
              "      <td>0</td>\n",
              "      <td>2</td>\n",
              "      <td>3</td>\n",
              "      <td>Not Selected</td>\n",
              "      <td>0</td>\n",
              "      <td>Room_Type 1</td>\n",
              "      <td>5</td>\n",
              "      <td>2018</td>\n",
              "      <td>11</td>\n",
              "      <td>6</td>\n",
              "      <td>Online</td>\n",
              "      <td>0</td>\n",
              "      <td>0</td>\n",
              "      <td>0</td>\n",
              "      <td>106.68</td>\n",
              "      <td>1</td>\n",
              "      <td>Not_Canceled</td>\n",
              "    </tr>\n",
              "    <tr>\n",
              "      <th>2</th>\n",
              "      <td>INN00003</td>\n",
              "      <td>1</td>\n",
              "      <td>0</td>\n",
              "      <td>2</td>\n",
              "      <td>1</td>\n",
              "      <td>Meal Plan 1</td>\n",
              "      <td>0</td>\n",
              "      <td>Room_Type 1</td>\n",
              "      <td>1</td>\n",
              "      <td>2018</td>\n",
              "      <td>2</td>\n",
              "      <td>28</td>\n",
              "      <td>Online</td>\n",
              "      <td>0</td>\n",
              "      <td>0</td>\n",
              "      <td>0</td>\n",
              "      <td>60.00</td>\n",
              "      <td>0</td>\n",
              "      <td>Canceled</td>\n",
              "    </tr>\n",
              "    <tr>\n",
              "      <th>3</th>\n",
              "      <td>INN00004</td>\n",
              "      <td>2</td>\n",
              "      <td>0</td>\n",
              "      <td>0</td>\n",
              "      <td>2</td>\n",
              "      <td>Meal Plan 1</td>\n",
              "      <td>0</td>\n",
              "      <td>Room_Type 1</td>\n",
              "      <td>211</td>\n",
              "      <td>2018</td>\n",
              "      <td>5</td>\n",
              "      <td>20</td>\n",
              "      <td>Online</td>\n",
              "      <td>0</td>\n",
              "      <td>0</td>\n",
              "      <td>0</td>\n",
              "      <td>100.00</td>\n",
              "      <td>0</td>\n",
              "      <td>Canceled</td>\n",
              "    </tr>\n",
              "    <tr>\n",
              "      <th>4</th>\n",
              "      <td>INN00005</td>\n",
              "      <td>2</td>\n",
              "      <td>0</td>\n",
              "      <td>1</td>\n",
              "      <td>1</td>\n",
              "      <td>Not Selected</td>\n",
              "      <td>0</td>\n",
              "      <td>Room_Type 1</td>\n",
              "      <td>48</td>\n",
              "      <td>2018</td>\n",
              "      <td>4</td>\n",
              "      <td>11</td>\n",
              "      <td>Online</td>\n",
              "      <td>0</td>\n",
              "      <td>0</td>\n",
              "      <td>0</td>\n",
              "      <td>94.50</td>\n",
              "      <td>0</td>\n",
              "      <td>Canceled</td>\n",
              "    </tr>\n",
              "    <tr>\n",
              "      <th>...</th>\n",
              "      <td>...</td>\n",
              "      <td>...</td>\n",
              "      <td>...</td>\n",
              "      <td>...</td>\n",
              "      <td>...</td>\n",
              "      <td>...</td>\n",
              "      <td>...</td>\n",
              "      <td>...</td>\n",
              "      <td>...</td>\n",
              "      <td>...</td>\n",
              "      <td>...</td>\n",
              "      <td>...</td>\n",
              "      <td>...</td>\n",
              "      <td>...</td>\n",
              "      <td>...</td>\n",
              "      <td>...</td>\n",
              "      <td>...</td>\n",
              "      <td>...</td>\n",
              "      <td>...</td>\n",
              "    </tr>\n",
              "    <tr>\n",
              "      <th>36270</th>\n",
              "      <td>INN36271</td>\n",
              "      <td>3</td>\n",
              "      <td>0</td>\n",
              "      <td>2</td>\n",
              "      <td>6</td>\n",
              "      <td>Meal Plan 1</td>\n",
              "      <td>0</td>\n",
              "      <td>Room_Type 4</td>\n",
              "      <td>85</td>\n",
              "      <td>2018</td>\n",
              "      <td>8</td>\n",
              "      <td>3</td>\n",
              "      <td>Online</td>\n",
              "      <td>0</td>\n",
              "      <td>0</td>\n",
              "      <td>0</td>\n",
              "      <td>167.80</td>\n",
              "      <td>1</td>\n",
              "      <td>Not_Canceled</td>\n",
              "    </tr>\n",
              "    <tr>\n",
              "      <th>36271</th>\n",
              "      <td>INN36272</td>\n",
              "      <td>2</td>\n",
              "      <td>0</td>\n",
              "      <td>1</td>\n",
              "      <td>3</td>\n",
              "      <td>Meal Plan 1</td>\n",
              "      <td>0</td>\n",
              "      <td>Room_Type 1</td>\n",
              "      <td>228</td>\n",
              "      <td>2018</td>\n",
              "      <td>10</td>\n",
              "      <td>17</td>\n",
              "      <td>Online</td>\n",
              "      <td>0</td>\n",
              "      <td>0</td>\n",
              "      <td>0</td>\n",
              "      <td>90.95</td>\n",
              "      <td>2</td>\n",
              "      <td>Canceled</td>\n",
              "    </tr>\n",
              "    <tr>\n",
              "      <th>36272</th>\n",
              "      <td>INN36273</td>\n",
              "      <td>2</td>\n",
              "      <td>0</td>\n",
              "      <td>2</td>\n",
              "      <td>6</td>\n",
              "      <td>Meal Plan 1</td>\n",
              "      <td>0</td>\n",
              "      <td>Room_Type 1</td>\n",
              "      <td>148</td>\n",
              "      <td>2018</td>\n",
              "      <td>7</td>\n",
              "      <td>1</td>\n",
              "      <td>Online</td>\n",
              "      <td>0</td>\n",
              "      <td>0</td>\n",
              "      <td>0</td>\n",
              "      <td>98.39</td>\n",
              "      <td>2</td>\n",
              "      <td>Not_Canceled</td>\n",
              "    </tr>\n",
              "    <tr>\n",
              "      <th>36273</th>\n",
              "      <td>INN36274</td>\n",
              "      <td>2</td>\n",
              "      <td>0</td>\n",
              "      <td>0</td>\n",
              "      <td>3</td>\n",
              "      <td>Not Selected</td>\n",
              "      <td>0</td>\n",
              "      <td>Room_Type 1</td>\n",
              "      <td>63</td>\n",
              "      <td>2018</td>\n",
              "      <td>4</td>\n",
              "      <td>21</td>\n",
              "      <td>Online</td>\n",
              "      <td>0</td>\n",
              "      <td>0</td>\n",
              "      <td>0</td>\n",
              "      <td>94.50</td>\n",
              "      <td>0</td>\n",
              "      <td>Canceled</td>\n",
              "    </tr>\n",
              "    <tr>\n",
              "      <th>36274</th>\n",
              "      <td>INN36275</td>\n",
              "      <td>2</td>\n",
              "      <td>0</td>\n",
              "      <td>1</td>\n",
              "      <td>2</td>\n",
              "      <td>Meal Plan 1</td>\n",
              "      <td>0</td>\n",
              "      <td>Room_Type 1</td>\n",
              "      <td>207</td>\n",
              "      <td>2018</td>\n",
              "      <td>12</td>\n",
              "      <td>30</td>\n",
              "      <td>Offline</td>\n",
              "      <td>0</td>\n",
              "      <td>0</td>\n",
              "      <td>0</td>\n",
              "      <td>161.67</td>\n",
              "      <td>0</td>\n",
              "      <td>Not_Canceled</td>\n",
              "    </tr>\n",
              "  </tbody>\n",
              "</table>\n",
              "<p>36275 rows × 19 columns</p>\n",
              "</div>\n",
              "      <button class=\"colab-df-convert\" onclick=\"convertToInteractive('df-50d58dae-9c6b-4a9a-93d0-5793f48ce8c7')\"\n",
              "              title=\"Convert this dataframe to an interactive table.\"\n",
              "              style=\"display:none;\">\n",
              "        \n",
              "  <svg xmlns=\"http://www.w3.org/2000/svg\" height=\"24px\"viewBox=\"0 0 24 24\"\n",
              "       width=\"24px\">\n",
              "    <path d=\"M0 0h24v24H0V0z\" fill=\"none\"/>\n",
              "    <path d=\"M18.56 5.44l.94 2.06.94-2.06 2.06-.94-2.06-.94-.94-2.06-.94 2.06-2.06.94zm-11 1L8.5 8.5l.94-2.06 2.06-.94-2.06-.94L8.5 2.5l-.94 2.06-2.06.94zm10 10l.94 2.06.94-2.06 2.06-.94-2.06-.94-.94-2.06-.94 2.06-2.06.94z\"/><path d=\"M17.41 7.96l-1.37-1.37c-.4-.4-.92-.59-1.43-.59-.52 0-1.04.2-1.43.59L10.3 9.45l-7.72 7.72c-.78.78-.78 2.05 0 2.83L4 21.41c.39.39.9.59 1.41.59.51 0 1.02-.2 1.41-.59l7.78-7.78 2.81-2.81c.8-.78.8-2.07 0-2.86zM5.41 20L4 18.59l7.72-7.72 1.47 1.35L5.41 20z\"/>\n",
              "  </svg>\n",
              "      </button>\n",
              "      \n",
              "  <style>\n",
              "    .colab-df-container {\n",
              "      display:flex;\n",
              "      flex-wrap:wrap;\n",
              "      gap: 12px;\n",
              "    }\n",
              "\n",
              "    .colab-df-convert {\n",
              "      background-color: #E8F0FE;\n",
              "      border: none;\n",
              "      border-radius: 50%;\n",
              "      cursor: pointer;\n",
              "      display: none;\n",
              "      fill: #1967D2;\n",
              "      height: 32px;\n",
              "      padding: 0 0 0 0;\n",
              "      width: 32px;\n",
              "    }\n",
              "\n",
              "    .colab-df-convert:hover {\n",
              "      background-color: #E2EBFA;\n",
              "      box-shadow: 0px 1px 2px rgba(60, 64, 67, 0.3), 0px 1px 3px 1px rgba(60, 64, 67, 0.15);\n",
              "      fill: #174EA6;\n",
              "    }\n",
              "\n",
              "    [theme=dark] .colab-df-convert {\n",
              "      background-color: #3B4455;\n",
              "      fill: #D2E3FC;\n",
              "    }\n",
              "\n",
              "    [theme=dark] .colab-df-convert:hover {\n",
              "      background-color: #434B5C;\n",
              "      box-shadow: 0px 1px 3px 1px rgba(0, 0, 0, 0.15);\n",
              "      filter: drop-shadow(0px 1px 2px rgba(0, 0, 0, 0.3));\n",
              "      fill: #FFFFFF;\n",
              "    }\n",
              "  </style>\n",
              "\n",
              "      <script>\n",
              "        const buttonEl =\n",
              "          document.querySelector('#df-50d58dae-9c6b-4a9a-93d0-5793f48ce8c7 button.colab-df-convert');\n",
              "        buttonEl.style.display =\n",
              "          google.colab.kernel.accessAllowed ? 'block' : 'none';\n",
              "\n",
              "        async function convertToInteractive(key) {\n",
              "          const element = document.querySelector('#df-50d58dae-9c6b-4a9a-93d0-5793f48ce8c7');\n",
              "          const dataTable =\n",
              "            await google.colab.kernel.invokeFunction('convertToInteractive',\n",
              "                                                     [key], {});\n",
              "          if (!dataTable) return;\n",
              "\n",
              "          const docLinkHtml = 'Like what you see? Visit the ' +\n",
              "            '<a target=\"_blank\" href=https://colab.research.google.com/notebooks/data_table.ipynb>data table notebook</a>'\n",
              "            + ' to learn more about interactive tables.';\n",
              "          element.innerHTML = '';\n",
              "          dataTable['output_type'] = 'display_data';\n",
              "          await google.colab.output.renderOutput(dataTable, element);\n",
              "          const docLink = document.createElement('div');\n",
              "          docLink.innerHTML = docLinkHtml;\n",
              "          element.appendChild(docLink);\n",
              "        }\n",
              "      </script>\n",
              "    </div>\n",
              "  </div>\n",
              "  "
            ]
          },
          "metadata": {},
          "execution_count": 2
        }
      ]
    },
    {
      "cell_type": "markdown",
      "source": [
        "Sin ninguna modificación de los datos, el conjunto inicial está caracteriado por 36275 observaciones (filas) y 19 clases (columnas).\n",
        "\n",
        "A continuación, utilizaremos herramientas de la ingeniería de características para tener un set viable para el modelo que construiremos posteriormente. \n",
        "\n",
        "Comenzamos con la eliminación de los datos NaN.\n",
        "\n"
      ],
      "metadata": {
        "id": "aU7iVApY_32h"
      }
    },
    {
      "cell_type": "code",
      "source": [
        "datos=datos.dropna()\n",
        "def check_NaN(datos):\n",
        "  return 'There is no NaN value in this dataset.' if datos.isnull().sum().sum() == 0 else 'There is NaN value in this dataset.'\n",
        "\n",
        "print(check_NaN(datos))"
      ],
      "metadata": {
        "colab": {
          "base_uri": "https://localhost:8080/"
        },
        "id": "gIJMtFDpvDfp",
        "outputId": "0c1b774a-c660-4bc9-dc93-433694bfd88f"
      },
      "execution_count": 3,
      "outputs": [
        {
          "output_type": "stream",
          "name": "stdout",
          "text": [
            "There is no NaN value in this dataset.\n"
          ]
        }
      ]
    },
    {
      "cell_type": "markdown",
      "source": [
        "Una vez eliminados los datos que pueden dar problemas al modelo, eliminamos aquellas clases que no sean numéricas, ya que no son necesarias en este estudio."
      ],
      "metadata": {
        "id": "l9DuloxsA2d0"
      }
    },
    {
      "cell_type": "code",
      "source": [
        "datos=datos.drop(['IDReserva'],axis=1)\n",
        "datos=datos.drop(['PlanComida'],axis=1)\n",
        "datos=datos.drop(['TipoHabitacion'],axis=1)\n",
        "datos=datos.drop(['Mercado'],axis=1)\n",
        "datos=datos.drop(['EstadoReserva'],axis=1)"
      ],
      "metadata": {
        "id": "axIWoEeb2PRS"
      },
      "execution_count": 4,
      "outputs": []
    },
    {
      "cell_type": "markdown",
      "source": [
        "Una vez extraídos, vemos que la nueva dimensión es de 14 clases y las mismas observaciones."
      ],
      "metadata": {
        "id": "oZeSUtrPBI7r"
      }
    },
    {
      "cell_type": "code",
      "source": [
        "datos.shape"
      ],
      "metadata": {
        "colab": {
          "base_uri": "https://localhost:8080/"
        },
        "id": "J6pOLQp1vqfW",
        "outputId": "e588966f-e580-43f5-eadf-575df2e2f062"
      },
      "execution_count": 5,
      "outputs": [
        {
          "output_type": "execute_result",
          "data": {
            "text/plain": [
              "(36275, 14)"
            ]
          },
          "metadata": {},
          "execution_count": 5
        }
      ]
    },
    {
      "cell_type": "code",
      "source": [
        "datos.head()"
      ],
      "metadata": {
        "colab": {
          "base_uri": "https://localhost:8080/",
          "height": 268
        },
        "id": "kADNGxLz4gcI",
        "outputId": "6b23dc28-274f-4ed9-ec73-29dc9d3e163c"
      },
      "execution_count": 6,
      "outputs": [
        {
          "output_type": "execute_result",
          "data": {
            "text/plain": [
              "   Nadultos  Nninos  NochesFinde  NochesSemana  Parking  Salida  Llegadaano  \\\n",
              "0         2       0            1             2        0     224        2017   \n",
              "1         2       0            2             3        0       5        2018   \n",
              "2         1       0            2             1        0       1        2018   \n",
              "3         2       0            0             2        0     211        2018   \n",
              "4         2       0            1             1        0      48        2018   \n",
              "\n",
              "   Llegadames  Llegadadia  NuevooNo  CancelacionesPrev  ReservasNoCancel  \\\n",
              "0          10           2         0                  0                 0   \n",
              "1          11           6         0                  0                 0   \n",
              "2           2          28         0                  0                 0   \n",
              "3           5          20         0                  0                 0   \n",
              "4           4          11         0                  0                 0   \n",
              "\n",
              "   PrecioporHab  Complementos  \n",
              "0         65.00             0  \n",
              "1        106.68             1  \n",
              "2         60.00             0  \n",
              "3        100.00             0  \n",
              "4         94.50             0  "
            ],
            "text/html": [
              "\n",
              "  <div id=\"df-4ce9bd78-0a55-43f5-90a7-27b72f5a8bf1\">\n",
              "    <div class=\"colab-df-container\">\n",
              "      <div>\n",
              "<style scoped>\n",
              "    .dataframe tbody tr th:only-of-type {\n",
              "        vertical-align: middle;\n",
              "    }\n",
              "\n",
              "    .dataframe tbody tr th {\n",
              "        vertical-align: top;\n",
              "    }\n",
              "\n",
              "    .dataframe thead th {\n",
              "        text-align: right;\n",
              "    }\n",
              "</style>\n",
              "<table border=\"1\" class=\"dataframe\">\n",
              "  <thead>\n",
              "    <tr style=\"text-align: right;\">\n",
              "      <th></th>\n",
              "      <th>Nadultos</th>\n",
              "      <th>Nninos</th>\n",
              "      <th>NochesFinde</th>\n",
              "      <th>NochesSemana</th>\n",
              "      <th>Parking</th>\n",
              "      <th>Salida</th>\n",
              "      <th>Llegadaano</th>\n",
              "      <th>Llegadames</th>\n",
              "      <th>Llegadadia</th>\n",
              "      <th>NuevooNo</th>\n",
              "      <th>CancelacionesPrev</th>\n",
              "      <th>ReservasNoCancel</th>\n",
              "      <th>PrecioporHab</th>\n",
              "      <th>Complementos</th>\n",
              "    </tr>\n",
              "  </thead>\n",
              "  <tbody>\n",
              "    <tr>\n",
              "      <th>0</th>\n",
              "      <td>2</td>\n",
              "      <td>0</td>\n",
              "      <td>1</td>\n",
              "      <td>2</td>\n",
              "      <td>0</td>\n",
              "      <td>224</td>\n",
              "      <td>2017</td>\n",
              "      <td>10</td>\n",
              "      <td>2</td>\n",
              "      <td>0</td>\n",
              "      <td>0</td>\n",
              "      <td>0</td>\n",
              "      <td>65.00</td>\n",
              "      <td>0</td>\n",
              "    </tr>\n",
              "    <tr>\n",
              "      <th>1</th>\n",
              "      <td>2</td>\n",
              "      <td>0</td>\n",
              "      <td>2</td>\n",
              "      <td>3</td>\n",
              "      <td>0</td>\n",
              "      <td>5</td>\n",
              "      <td>2018</td>\n",
              "      <td>11</td>\n",
              "      <td>6</td>\n",
              "      <td>0</td>\n",
              "      <td>0</td>\n",
              "      <td>0</td>\n",
              "      <td>106.68</td>\n",
              "      <td>1</td>\n",
              "    </tr>\n",
              "    <tr>\n",
              "      <th>2</th>\n",
              "      <td>1</td>\n",
              "      <td>0</td>\n",
              "      <td>2</td>\n",
              "      <td>1</td>\n",
              "      <td>0</td>\n",
              "      <td>1</td>\n",
              "      <td>2018</td>\n",
              "      <td>2</td>\n",
              "      <td>28</td>\n",
              "      <td>0</td>\n",
              "      <td>0</td>\n",
              "      <td>0</td>\n",
              "      <td>60.00</td>\n",
              "      <td>0</td>\n",
              "    </tr>\n",
              "    <tr>\n",
              "      <th>3</th>\n",
              "      <td>2</td>\n",
              "      <td>0</td>\n",
              "      <td>0</td>\n",
              "      <td>2</td>\n",
              "      <td>0</td>\n",
              "      <td>211</td>\n",
              "      <td>2018</td>\n",
              "      <td>5</td>\n",
              "      <td>20</td>\n",
              "      <td>0</td>\n",
              "      <td>0</td>\n",
              "      <td>0</td>\n",
              "      <td>100.00</td>\n",
              "      <td>0</td>\n",
              "    </tr>\n",
              "    <tr>\n",
              "      <th>4</th>\n",
              "      <td>2</td>\n",
              "      <td>0</td>\n",
              "      <td>1</td>\n",
              "      <td>1</td>\n",
              "      <td>0</td>\n",
              "      <td>48</td>\n",
              "      <td>2018</td>\n",
              "      <td>4</td>\n",
              "      <td>11</td>\n",
              "      <td>0</td>\n",
              "      <td>0</td>\n",
              "      <td>0</td>\n",
              "      <td>94.50</td>\n",
              "      <td>0</td>\n",
              "    </tr>\n",
              "  </tbody>\n",
              "</table>\n",
              "</div>\n",
              "      <button class=\"colab-df-convert\" onclick=\"convertToInteractive('df-4ce9bd78-0a55-43f5-90a7-27b72f5a8bf1')\"\n",
              "              title=\"Convert this dataframe to an interactive table.\"\n",
              "              style=\"display:none;\">\n",
              "        \n",
              "  <svg xmlns=\"http://www.w3.org/2000/svg\" height=\"24px\"viewBox=\"0 0 24 24\"\n",
              "       width=\"24px\">\n",
              "    <path d=\"M0 0h24v24H0V0z\" fill=\"none\"/>\n",
              "    <path d=\"M18.56 5.44l.94 2.06.94-2.06 2.06-.94-2.06-.94-.94-2.06-.94 2.06-2.06.94zm-11 1L8.5 8.5l.94-2.06 2.06-.94-2.06-.94L8.5 2.5l-.94 2.06-2.06.94zm10 10l.94 2.06.94-2.06 2.06-.94-2.06-.94-.94-2.06-.94 2.06-2.06.94z\"/><path d=\"M17.41 7.96l-1.37-1.37c-.4-.4-.92-.59-1.43-.59-.52 0-1.04.2-1.43.59L10.3 9.45l-7.72 7.72c-.78.78-.78 2.05 0 2.83L4 21.41c.39.39.9.59 1.41.59.51 0 1.02-.2 1.41-.59l7.78-7.78 2.81-2.81c.8-.78.8-2.07 0-2.86zM5.41 20L4 18.59l7.72-7.72 1.47 1.35L5.41 20z\"/>\n",
              "  </svg>\n",
              "      </button>\n",
              "      \n",
              "  <style>\n",
              "    .colab-df-container {\n",
              "      display:flex;\n",
              "      flex-wrap:wrap;\n",
              "      gap: 12px;\n",
              "    }\n",
              "\n",
              "    .colab-df-convert {\n",
              "      background-color: #E8F0FE;\n",
              "      border: none;\n",
              "      border-radius: 50%;\n",
              "      cursor: pointer;\n",
              "      display: none;\n",
              "      fill: #1967D2;\n",
              "      height: 32px;\n",
              "      padding: 0 0 0 0;\n",
              "      width: 32px;\n",
              "    }\n",
              "\n",
              "    .colab-df-convert:hover {\n",
              "      background-color: #E2EBFA;\n",
              "      box-shadow: 0px 1px 2px rgba(60, 64, 67, 0.3), 0px 1px 3px 1px rgba(60, 64, 67, 0.15);\n",
              "      fill: #174EA6;\n",
              "    }\n",
              "\n",
              "    [theme=dark] .colab-df-convert {\n",
              "      background-color: #3B4455;\n",
              "      fill: #D2E3FC;\n",
              "    }\n",
              "\n",
              "    [theme=dark] .colab-df-convert:hover {\n",
              "      background-color: #434B5C;\n",
              "      box-shadow: 0px 1px 3px 1px rgba(0, 0, 0, 0.15);\n",
              "      filter: drop-shadow(0px 1px 2px rgba(0, 0, 0, 0.3));\n",
              "      fill: #FFFFFF;\n",
              "    }\n",
              "  </style>\n",
              "\n",
              "      <script>\n",
              "        const buttonEl =\n",
              "          document.querySelector('#df-4ce9bd78-0a55-43f5-90a7-27b72f5a8bf1 button.colab-df-convert');\n",
              "        buttonEl.style.display =\n",
              "          google.colab.kernel.accessAllowed ? 'block' : 'none';\n",
              "\n",
              "        async function convertToInteractive(key) {\n",
              "          const element = document.querySelector('#df-4ce9bd78-0a55-43f5-90a7-27b72f5a8bf1');\n",
              "          const dataTable =\n",
              "            await google.colab.kernel.invokeFunction('convertToInteractive',\n",
              "                                                     [key], {});\n",
              "          if (!dataTable) return;\n",
              "\n",
              "          const docLinkHtml = 'Like what you see? Visit the ' +\n",
              "            '<a target=\"_blank\" href=https://colab.research.google.com/notebooks/data_table.ipynb>data table notebook</a>'\n",
              "            + ' to learn more about interactive tables.';\n",
              "          element.innerHTML = '';\n",
              "          dataTable['output_type'] = 'display_data';\n",
              "          await google.colab.output.renderOutput(dataTable, element);\n",
              "          const docLink = document.createElement('div');\n",
              "          docLink.innerHTML = docLinkHtml;\n",
              "          element.appendChild(docLink);\n",
              "        }\n",
              "      </script>\n",
              "    </div>\n",
              "  </div>\n",
              "  "
            ]
          },
          "metadata": {},
          "execution_count": 6
        }
      ]
    },
    {
      "cell_type": "markdown",
      "source": [
        "En el siguiente código se verá el tipo de variables que caracterizan las clases. En la Preparación de los Datos lo formatearemos en función al método a utilizar, en este caso, un Problema de Regresión."
      ],
      "metadata": {
        "id": "TYotJZZVBavj"
      }
    },
    {
      "cell_type": "code",
      "source": [
        "datos.dtypes"
      ],
      "metadata": {
        "colab": {
          "base_uri": "https://localhost:8080/"
        },
        "id": "1n2LO3viv2P9",
        "outputId": "6cd92eb4-4b4e-4bdf-9a28-9735b0562d21"
      },
      "execution_count": 7,
      "outputs": [
        {
          "output_type": "execute_result",
          "data": {
            "text/plain": [
              "Nadultos               int64\n",
              "Nninos                 int64\n",
              "NochesFinde            int64\n",
              "NochesSemana           int64\n",
              "Parking                int64\n",
              "Salida                 int64\n",
              "Llegadaano             int64\n",
              "Llegadames             int64\n",
              "Llegadadia             int64\n",
              "NuevooNo               int64\n",
              "CancelacionesPrev      int64\n",
              "ReservasNoCancel       int64\n",
              "PrecioporHab         float64\n",
              "Complementos           int64\n",
              "dtype: object"
            ]
          },
          "metadata": {},
          "execution_count": 7
        }
      ]
    },
    {
      "cell_type": "code",
      "source": [
        "datos.loc[8756]"
      ],
      "metadata": {
        "colab": {
          "base_uri": "https://localhost:8080/"
        },
        "id": "B-LT0EyvwKSQ",
        "outputId": "b14fda1c-5ebb-4344-deac-14052d7d5e55"
      },
      "execution_count": 8,
      "outputs": [
        {
          "output_type": "execute_result",
          "data": {
            "text/plain": [
              "Nadultos                2.0\n",
              "Nninos                  0.0\n",
              "NochesFinde             0.0\n",
              "NochesSemana            2.0\n",
              "Parking                 0.0\n",
              "Salida                256.0\n",
              "Llegadaano           2018.0\n",
              "Llegadames              6.0\n",
              "Llegadadia             15.0\n",
              "NuevooNo                0.0\n",
              "CancelacionesPrev       0.0\n",
              "ReservasNoCancel        0.0\n",
              "PrecioporHab          115.0\n",
              "Complementos            1.0\n",
              "Name: 8756, dtype: float64"
            ]
          },
          "metadata": {},
          "execution_count": 8
        }
      ]
    },
    {
      "cell_type": "markdown",
      "source": [
        "## Preparación de los datos"
      ],
      "metadata": {
        "id": "sCiq3DELwiXe"
      }
    },
    {
      "cell_type": "markdown",
      "source": [
        "Los objetivos (etiquetas) son los valores medios del precio de hotel:\n",
        "\n",
        "En el siguiente código mostraremos la longitud de la etiqueta que debe de coincidir con lo visto antes."
      ],
      "metadata": {
        "id": "l4PTZemiCIVF"
      }
    },
    {
      "cell_type": "code",
      "source": [
        "targets = datos.PrecioporHab\n",
        "len(targets)"
      ],
      "metadata": {
        "colab": {
          "base_uri": "https://localhost:8080/"
        },
        "id": "SArNa7dwxscG",
        "outputId": "5dc8edd7-a918-4108-8621-0cef8b227e09"
      },
      "execution_count": 9,
      "outputs": [
        {
          "output_type": "execute_result",
          "data": {
            "text/plain": [
              "36275"
            ]
          },
          "metadata": {},
          "execution_count": 9
        }
      ]
    },
    {
      "cell_type": "markdown",
      "source": [
        "Hacemos las particiones de los datos de la siguiente manera:"
      ],
      "metadata": {
        "id": "M3vagDnu7QUu"
      }
    },
    {
      "cell_type": "code",
      "source": [
        "train_datos = datos[:25000]\n",
        "test_datos = datos[25001:]\n",
        "\n",
        "train_targets = targets[:25000]\n",
        "test_targets = targets[25001:]"
      ],
      "metadata": {
        "id": "j2KrBgS3xSdJ"
      },
      "execution_count": 10,
      "outputs": []
    },
    {
      "cell_type": "markdown",
      "source": [
        "Por un lado se tienen datos de entrenamiento y por otro los datos de prueba que utilizaremos para evaluar cuando el modelo ha sido entrenado. \n",
        "\n",
        "La partición ha sido realizada acorde a una relación aproximada de 2/3 para los datos de entrenamiento y de 1/3 para los datos de prueba.\n",
        "\n",
        "A continuación, por ser un modelo de regresión normalizamos el set de datos con la media y la desviación típica para que los datos comprendan entre 0 y 1 y se obtenga una desviación estándar unitaria."
      ],
      "metadata": {
        "id": "l4SBODRgCxHO"
      }
    },
    {
      "cell_type": "code",
      "source": [
        "mean = train_datos.mean(axis=0)\n",
        "print(\"##### Media de las 8 características de los datos de entrenamiento ##### \")\n",
        "print(mean)\n",
        "train_datos -= mean\n",
        "std = train_datos.std(axis=0)\n",
        "print(\"##### Desviación estandar de las 8 características de los datos de entrenamiento ##### \")\n",
        "print(std)\n",
        "train_datos /= std\n",
        "test_datos -= mean\n",
        "test_datos /= std"
      ],
      "metadata": {
        "colab": {
          "base_uri": "https://localhost:8080/"
        },
        "id": "3w4GBJ4j0jHf",
        "outputId": "a5328c0b-7569-40b9-8978-5b2dc9bad2f7"
      },
      "execution_count": 11,
      "outputs": [
        {
          "output_type": "stream",
          "name": "stdout",
          "text": [
            "##### Media de las 8 características de los datos de entrenamiento ##### \n",
            "Nadultos                1.846440\n",
            "Nninos                  0.105360\n",
            "NochesFinde             0.810800\n",
            "NochesSemana            2.206600\n",
            "Parking                 0.031560\n",
            "Salida                 85.354360\n",
            "Llegadaano           2017.822840\n",
            "Llegadames              7.426080\n",
            "Llegadadia             15.564360\n",
            "NuevooNo                0.025600\n",
            "CancelacionesPrev       0.022280\n",
            "ReservasNoCancel        0.154160\n",
            "PrecioporHab          103.517931\n",
            "Complementos            0.624520\n",
            "dtype: float64\n",
            "##### Desviación estandar de las 8 características de los datos de entrenamiento ##### \n",
            "Nadultos              0.518835\n",
            "Nninos                0.406185\n",
            "NochesFinde           0.870858\n",
            "NochesSemana          1.407976\n",
            "Parking               0.174829\n",
            "Salida               86.004648\n",
            "Llegadaano            0.381812\n",
            "Llegadames            3.066234\n",
            "Llegadadia            8.733253\n",
            "NuevooNo              0.157942\n",
            "CancelacionesPrev     0.350126\n",
            "ReservasNoCancel      1.759602\n",
            "PrecioporHab         35.006860\n",
            "Complementos          0.787477\n",
            "dtype: float64\n"
          ]
        }
      ]
    },
    {
      "cell_type": "markdown",
      "source": [
        "## DISEÑO, ENTRENAMIENTO Y TEST DE UN SISTEMA DE REDES DE NEURONAS ARTIFICIALES\n",
        "\n",
        "**Importación de bibliotecas**\n"
      ],
      "metadata": {
        "id": "Fe61Lwmrbpo_"
      }
    },
    {
      "cell_type": "code",
      "source": [
        "# 1._ IMPORTAMOS KERAS\n",
        "%tensorflow_version 2.x\n",
        "import tensorflow as tf\n",
        "from tensorflow import keras\n",
        "print(tf.keras.__version__)\n",
        "print(\"GPU Available:\", tf.config.list_physical_devices('GPU'))\n",
        "print(tf.__version__)\n",
        "\n",
        "from keras import models\n",
        "from keras import layers\n",
        "\n",
        "import numpy as np\n",
        "import pandas as pd\n",
        "import matplotlib.image as mpim\n",
        "import matplotlib.pyplot as plt\n",
        "%matplotlib inline\n",
        "\n",
        "from keras import backend as K\n",
        "from keras.utils import np_utils\n",
        "from sklearn.model_selection import train_test_split\n",
        "from keras.models import Sequential\n",
        "from keras.layers import Dense, Dropout, Flatten, Reshape, InputLayer"
      ],
      "metadata": {
        "colab": {
          "base_uri": "https://localhost:8080/"
        },
        "id": "psaION17mmw3",
        "outputId": "3881eaaf-88f2-49a6-a0e0-6d41cf813319"
      },
      "execution_count": 12,
      "outputs": [
        {
          "output_type": "stream",
          "name": "stdout",
          "text": [
            "Colab only includes TensorFlow 2.x; %tensorflow_version has no effect.\n",
            "2.9.0\n",
            "GPU Available: []\n",
            "2.9.2\n"
          ]
        }
      ]
    },
    {
      "cell_type": "markdown",
      "source": [
        "## CREACIÓN DEL MODELO\n",
        "\n",
        "Al ser un ejercicio de regresión, hacemos uso de la función de pérdida MSE (Mean Squared Error) como Función de Pérdida y MAE (Mean Absolute Error) como métrica que será explicado posteriormente.\n",
        "\n",
        "Hemos optado por una capa de entrada de 64 neuronas, una capa intermedia de 64 y una última capa sin Función de Activación, por ser un modelo de regresión ya que limitaría el rango que puede tomar la salida.\n",
        "\n",
        "\n",
        "La última capa tiene una única neurona pues es puramente lineal, la red es libre de aprender a predecir valores en cualquier rango.\n"
      ],
      "metadata": {
        "id": "PBQD2fXD7zTU"
      }
    },
    {
      "cell_type": "code",
      "source": [
        "model = models.Sequential()\n",
        "model.add(layers.Dense(64, activation='relu',\n",
        "                       input_shape=(train_datos.shape[1],)))\n",
        "model.add(layers.Dense(64, activation='relu'))\n",
        "model.add(layers.Dense(1))\n",
        "# MSE: Mean Squared Error\n",
        "# MAE: Mean Absolute Error\n",
        "model.compile(optimizer='rmsprop', loss='mse', \n",
        "              metrics=[tf.keras.metrics.MeanAbsoluteError()])"
      ],
      "metadata": {
        "id": "OoxB85Qi0VWn"
      },
      "execution_count": 13,
      "outputs": []
    },
    {
      "cell_type": "markdown",
      "source": [
        "Para la variación de los datos de entrenamiento del modelo utilizamos el model.fit() (hold-out). \n",
        "\n",
        "La partición es de forma que se destinen 1/3 de los datos de entrenamiento para la validación."
      ],
      "metadata": {
        "id": "pzlc6-wKFc1_"
      }
    },
    {
      "cell_type": "code",
      "source": [
        "# 1. Hacer aquí las particiones de los datos de entrenamiento\n",
        "partial_train_datos = train_datos[:18000]\n",
        "partial_eval_train_datos = train_datos[18001:]\n",
        "partial_train_targets = train_targets[:18000]\n",
        "partial_eval_train_targets = train_targets[18001:]"
      ],
      "metadata": {
        "id": "-DTIxdOR9C5y"
      },
      "execution_count": 14,
      "outputs": []
    },
    {
      "cell_type": "code",
      "source": [
        "history = model.fit(partial_train_datos, partial_train_targets,\n",
        "            validation_data=(partial_eval_train_datos, partial_eval_train_targets),\n",
        "                        epochs=100, batch_size=64)"
      ],
      "metadata": {
        "colab": {
          "base_uri": "https://localhost:8080/"
        },
        "id": "Xum-xd9M9Cpx",
        "outputId": "82f7f5d6-d3c1-4f8b-a084-350190510eb5"
      },
      "execution_count": 15,
      "outputs": [
        {
          "output_type": "stream",
          "name": "stdout",
          "text": [
            "Epoch 1/100\n",
            "282/282 [==============================] - 2s 3ms/step - loss: 5301.6245 - mean_absolute_error: 59.5356 - val_loss: 276.1052 - val_mean_absolute_error: 12.7407\n",
            "Epoch 2/100\n",
            "282/282 [==============================] - 1s 3ms/step - loss: 162.8808 - mean_absolute_error: 8.8026 - val_loss: 87.1637 - val_mean_absolute_error: 6.4366\n",
            "Epoch 3/100\n",
            "282/282 [==============================] - 1s 3ms/step - loss: 66.3994 - mean_absolute_error: 5.1880 - val_loss: 41.1161 - val_mean_absolute_error: 4.1576\n",
            "Epoch 4/100\n",
            "282/282 [==============================] - 1s 3ms/step - loss: 33.5021 - mean_absolute_error: 3.3032 - val_loss: 21.8450 - val_mean_absolute_error: 2.5972\n",
            "Epoch 5/100\n",
            "282/282 [==============================] - 1s 3ms/step - loss: 16.8908 - mean_absolute_error: 2.0526 - val_loss: 9.8337 - val_mean_absolute_error: 1.6430\n",
            "Epoch 6/100\n",
            "282/282 [==============================] - 1s 3ms/step - loss: 7.1778 - mean_absolute_error: 1.3523 - val_loss: 4.6474 - val_mean_absolute_error: 1.3059\n",
            "Epoch 7/100\n",
            "282/282 [==============================] - 2s 6ms/step - loss: 3.4074 - mean_absolute_error: 1.0176 - val_loss: 2.7309 - val_mean_absolute_error: 1.0661\n",
            "Epoch 8/100\n",
            "282/282 [==============================] - 2s 7ms/step - loss: 1.8750 - mean_absolute_error: 0.8402 - val_loss: 1.2175 - val_mean_absolute_error: 0.6517\n",
            "Epoch 9/100\n",
            "282/282 [==============================] - 2s 7ms/step - loss: 1.2976 - mean_absolute_error: 0.7447 - val_loss: 0.9691 - val_mean_absolute_error: 0.5537\n",
            "Epoch 10/100\n",
            "282/282 [==============================] - 2s 6ms/step - loss: 1.0055 - mean_absolute_error: 0.6785 - val_loss: 1.5747 - val_mean_absolute_error: 0.9850\n",
            "Epoch 11/100\n",
            "282/282 [==============================] - 2s 7ms/step - loss: 0.8528 - mean_absolute_error: 0.6519 - val_loss: 1.0456 - val_mean_absolute_error: 0.5819\n",
            "Epoch 12/100\n",
            "282/282 [==============================] - 2s 6ms/step - loss: 0.7619 - mean_absolute_error: 0.6204 - val_loss: 0.4191 - val_mean_absolute_error: 0.3597\n",
            "Epoch 13/100\n",
            "282/282 [==============================] - 1s 3ms/step - loss: 0.7036 - mean_absolute_error: 0.5979 - val_loss: 0.4427 - val_mean_absolute_error: 0.3826\n",
            "Epoch 14/100\n",
            "282/282 [==============================] - 1s 3ms/step - loss: 0.6816 - mean_absolute_error: 0.6000 - val_loss: 0.4613 - val_mean_absolute_error: 0.4330\n",
            "Epoch 15/100\n",
            "282/282 [==============================] - 1s 3ms/step - loss: 0.6294 - mean_absolute_error: 0.5833 - val_loss: 0.5271 - val_mean_absolute_error: 0.4928\n",
            "Epoch 16/100\n",
            "282/282 [==============================] - 1s 4ms/step - loss: 0.6211 - mean_absolute_error: 0.5779 - val_loss: 1.4476 - val_mean_absolute_error: 0.9632\n",
            "Epoch 17/100\n",
            "282/282 [==============================] - 1s 3ms/step - loss: 0.6023 - mean_absolute_error: 0.5640 - val_loss: 0.4059 - val_mean_absolute_error: 0.4490\n",
            "Epoch 18/100\n",
            "282/282 [==============================] - 1s 3ms/step - loss: 0.5929 - mean_absolute_error: 0.5469 - val_loss: 0.8300 - val_mean_absolute_error: 0.6335\n",
            "Epoch 19/100\n",
            "282/282 [==============================] - 1s 3ms/step - loss: 0.5610 - mean_absolute_error: 0.5372 - val_loss: 0.3950 - val_mean_absolute_error: 0.4263\n",
            "Epoch 20/100\n",
            "282/282 [==============================] - 1s 3ms/step - loss: 0.5469 - mean_absolute_error: 0.5273 - val_loss: 0.1839 - val_mean_absolute_error: 0.2424\n",
            "Epoch 21/100\n",
            "282/282 [==============================] - 1s 3ms/step - loss: 0.5489 - mean_absolute_error: 0.5300 - val_loss: 1.3257 - val_mean_absolute_error: 0.9462\n",
            "Epoch 22/100\n",
            "282/282 [==============================] - 1s 3ms/step - loss: 0.5434 - mean_absolute_error: 0.5472 - val_loss: 0.3727 - val_mean_absolute_error: 0.3337\n",
            "Epoch 23/100\n",
            "282/282 [==============================] - 1s 3ms/step - loss: 0.5366 - mean_absolute_error: 0.5317 - val_loss: 0.8434 - val_mean_absolute_error: 0.7606\n",
            "Epoch 24/100\n",
            "282/282 [==============================] - 1s 3ms/step - loss: 0.5487 - mean_absolute_error: 0.5382 - val_loss: 0.7550 - val_mean_absolute_error: 0.6647\n",
            "Epoch 25/100\n",
            "282/282 [==============================] - 1s 3ms/step - loss: 0.4963 - mean_absolute_error: 0.5260 - val_loss: 1.0236 - val_mean_absolute_error: 0.8096\n",
            "Epoch 26/100\n",
            "282/282 [==============================] - 1s 4ms/step - loss: 0.4971 - mean_absolute_error: 0.5221 - val_loss: 0.9945 - val_mean_absolute_error: 0.7655\n",
            "Epoch 27/100\n",
            "282/282 [==============================] - 1s 3ms/step - loss: 0.4986 - mean_absolute_error: 0.5226 - val_loss: 2.5655 - val_mean_absolute_error: 1.2452\n",
            "Epoch 28/100\n",
            "282/282 [==============================] - 1s 3ms/step - loss: 0.4965 - mean_absolute_error: 0.5302 - val_loss: 0.5976 - val_mean_absolute_error: 0.5973\n",
            "Epoch 29/100\n",
            "282/282 [==============================] - 1s 3ms/step - loss: 0.5027 - mean_absolute_error: 0.5273 - val_loss: 0.2310 - val_mean_absolute_error: 0.3021\n",
            "Epoch 30/100\n",
            "282/282 [==============================] - 1s 3ms/step - loss: 0.5039 - mean_absolute_error: 0.5374 - val_loss: 0.1879 - val_mean_absolute_error: 0.3023\n",
            "Epoch 31/100\n",
            "282/282 [==============================] - 1s 3ms/step - loss: 0.4812 - mean_absolute_error: 0.5023 - val_loss: 0.3230 - val_mean_absolute_error: 0.4311\n",
            "Epoch 32/100\n",
            "282/282 [==============================] - 1s 3ms/step - loss: 0.4800 - mean_absolute_error: 0.5034 - val_loss: 0.5866 - val_mean_absolute_error: 0.5747\n",
            "Epoch 33/100\n",
            "282/282 [==============================] - 1s 3ms/step - loss: 0.4699 - mean_absolute_error: 0.5153 - val_loss: 0.6575 - val_mean_absolute_error: 0.5619\n",
            "Epoch 34/100\n",
            "282/282 [==============================] - 1s 3ms/step - loss: 0.4757 - mean_absolute_error: 0.4894 - val_loss: 0.5895 - val_mean_absolute_error: 0.5574\n",
            "Epoch 35/100\n",
            "282/282 [==============================] - 1s 3ms/step - loss: 0.4724 - mean_absolute_error: 0.4968 - val_loss: 0.2142 - val_mean_absolute_error: 0.3110\n",
            "Epoch 36/100\n",
            "282/282 [==============================] - 1s 3ms/step - loss: 0.4668 - mean_absolute_error: 0.5006 - val_loss: 0.4507 - val_mean_absolute_error: 0.5258\n",
            "Epoch 37/100\n",
            "282/282 [==============================] - 1s 3ms/step - loss: 0.4739 - mean_absolute_error: 0.5226 - val_loss: 0.6114 - val_mean_absolute_error: 0.6000\n",
            "Epoch 38/100\n",
            "282/282 [==============================] - 1s 5ms/step - loss: 0.4518 - mean_absolute_error: 0.5041 - val_loss: 0.2397 - val_mean_absolute_error: 0.2446\n",
            "Epoch 39/100\n",
            "282/282 [==============================] - 2s 6ms/step - loss: 0.4645 - mean_absolute_error: 0.5155 - val_loss: 0.3015 - val_mean_absolute_error: 0.4417\n",
            "Epoch 40/100\n",
            "282/282 [==============================] - 1s 3ms/step - loss: 0.4595 - mean_absolute_error: 0.5080 - val_loss: 0.1462 - val_mean_absolute_error: 0.2488\n",
            "Epoch 41/100\n",
            "282/282 [==============================] - 1s 3ms/step - loss: 0.4566 - mean_absolute_error: 0.5110 - val_loss: 1.2278 - val_mean_absolute_error: 0.7950\n",
            "Epoch 42/100\n",
            "282/282 [==============================] - 1s 3ms/step - loss: 0.4504 - mean_absolute_error: 0.4890 - val_loss: 0.5336 - val_mean_absolute_error: 0.5630\n",
            "Epoch 43/100\n",
            "282/282 [==============================] - 1s 3ms/step - loss: 0.4498 - mean_absolute_error: 0.5063 - val_loss: 0.5425 - val_mean_absolute_error: 0.5532\n",
            "Epoch 44/100\n",
            "282/282 [==============================] - 1s 3ms/step - loss: 0.4508 - mean_absolute_error: 0.5028 - val_loss: 0.1916 - val_mean_absolute_error: 0.2801\n",
            "Epoch 45/100\n",
            "282/282 [==============================] - 1s 3ms/step - loss: 0.4589 - mean_absolute_error: 0.4989 - val_loss: 0.6487 - val_mean_absolute_error: 0.6266\n",
            "Epoch 46/100\n",
            "282/282 [==============================] - 1s 3ms/step - loss: 0.4552 - mean_absolute_error: 0.5024 - val_loss: 0.7063 - val_mean_absolute_error: 0.6429\n",
            "Epoch 47/100\n",
            "282/282 [==============================] - 1s 5ms/step - loss: 0.4434 - mean_absolute_error: 0.4944 - val_loss: 0.6326 - val_mean_absolute_error: 0.6468\n",
            "Epoch 48/100\n",
            "282/282 [==============================] - 1s 3ms/step - loss: 0.4402 - mean_absolute_error: 0.4930 - val_loss: 0.2462 - val_mean_absolute_error: 0.3513\n",
            "Epoch 49/100\n",
            "282/282 [==============================] - 1s 2ms/step - loss: 0.4411 - mean_absolute_error: 0.4656 - val_loss: 0.7429 - val_mean_absolute_error: 0.6720\n",
            "Epoch 50/100\n",
            "282/282 [==============================] - 1s 3ms/step - loss: 0.4413 - mean_absolute_error: 0.5066 - val_loss: 0.3701 - val_mean_absolute_error: 0.4330\n",
            "Epoch 51/100\n",
            "282/282 [==============================] - 1s 3ms/step - loss: 0.4380 - mean_absolute_error: 0.4962 - val_loss: 0.3547 - val_mean_absolute_error: 0.4775\n",
            "Epoch 52/100\n",
            "282/282 [==============================] - 1s 3ms/step - loss: 0.4443 - mean_absolute_error: 0.4765 - val_loss: 1.1007 - val_mean_absolute_error: 0.7674\n",
            "Epoch 53/100\n",
            "282/282 [==============================] - 1s 3ms/step - loss: 0.4199 - mean_absolute_error: 0.4915 - val_loss: 0.8725 - val_mean_absolute_error: 0.7675\n",
            "Epoch 54/100\n",
            "282/282 [==============================] - 1s 3ms/step - loss: 0.4439 - mean_absolute_error: 0.5039 - val_loss: 0.6791 - val_mean_absolute_error: 0.7053\n",
            "Epoch 55/100\n",
            "282/282 [==============================] - 1s 3ms/step - loss: 0.4420 - mean_absolute_error: 0.5030 - val_loss: 0.1692 - val_mean_absolute_error: 0.2742\n",
            "Epoch 56/100\n",
            "282/282 [==============================] - 1s 3ms/step - loss: 0.4141 - mean_absolute_error: 0.5060 - val_loss: 0.4747 - val_mean_absolute_error: 0.5309\n",
            "Epoch 57/100\n",
            "282/282 [==============================] - 1s 3ms/step - loss: 0.4234 - mean_absolute_error: 0.4934 - val_loss: 0.8194 - val_mean_absolute_error: 0.6851\n",
            "Epoch 58/100\n",
            "282/282 [==============================] - 1s 3ms/step - loss: 0.4301 - mean_absolute_error: 0.4807 - val_loss: 0.7308 - val_mean_absolute_error: 0.7052\n",
            "Epoch 59/100\n",
            "282/282 [==============================] - 1s 3ms/step - loss: 0.4258 - mean_absolute_error: 0.4750 - val_loss: 0.6391 - val_mean_absolute_error: 0.6166\n",
            "Epoch 60/100\n",
            "282/282 [==============================] - 1s 3ms/step - loss: 0.4207 - mean_absolute_error: 0.4664 - val_loss: 0.1315 - val_mean_absolute_error: 0.2604\n",
            "Epoch 61/100\n",
            "282/282 [==============================] - 1s 3ms/step - loss: 0.4198 - mean_absolute_error: 0.4889 - val_loss: 1.5030 - val_mean_absolute_error: 0.9182\n",
            "Epoch 62/100\n",
            "282/282 [==============================] - 1s 3ms/step - loss: 0.4067 - mean_absolute_error: 0.4742 - val_loss: 0.8534 - val_mean_absolute_error: 0.7738\n",
            "Epoch 63/100\n",
            "282/282 [==============================] - 1s 3ms/step - loss: 0.4255 - mean_absolute_error: 0.4843 - val_loss: 0.5212 - val_mean_absolute_error: 0.3103\n",
            "Epoch 64/100\n",
            "282/282 [==============================] - 1s 3ms/step - loss: 0.4196 - mean_absolute_error: 0.4781 - val_loss: 1.0966 - val_mean_absolute_error: 0.8776\n",
            "Epoch 65/100\n",
            "282/282 [==============================] - 1s 3ms/step - loss: 0.4244 - mean_absolute_error: 0.4598 - val_loss: 0.1244 - val_mean_absolute_error: 0.2236\n",
            "Epoch 66/100\n",
            "282/282 [==============================] - 1s 3ms/step - loss: 0.4261 - mean_absolute_error: 0.4741 - val_loss: 1.0272 - val_mean_absolute_error: 0.8397\n",
            "Epoch 67/100\n",
            "282/282 [==============================] - 1s 3ms/step - loss: 0.4092 - mean_absolute_error: 0.4685 - val_loss: 0.2922 - val_mean_absolute_error: 0.4245\n",
            "Epoch 68/100\n",
            "282/282 [==============================] - 1s 3ms/step - loss: 0.3946 - mean_absolute_error: 0.4396 - val_loss: 2.2065 - val_mean_absolute_error: 1.1562\n",
            "Epoch 69/100\n",
            "282/282 [==============================] - 1s 3ms/step - loss: 0.4111 - mean_absolute_error: 0.4700 - val_loss: 0.2080 - val_mean_absolute_error: 0.3480\n",
            "Epoch 70/100\n",
            "282/282 [==============================] - 1s 3ms/step - loss: 0.4098 - mean_absolute_error: 0.4915 - val_loss: 0.3917 - val_mean_absolute_error: 0.4325\n",
            "Epoch 71/100\n",
            "282/282 [==============================] - 1s 3ms/step - loss: 0.4044 - mean_absolute_error: 0.4812 - val_loss: 1.0164 - val_mean_absolute_error: 0.8403\n",
            "Epoch 72/100\n",
            "282/282 [==============================] - 1s 3ms/step - loss: 0.4278 - mean_absolute_error: 0.4847 - val_loss: 0.2224 - val_mean_absolute_error: 0.3371\n",
            "Epoch 73/100\n",
            "282/282 [==============================] - 1s 3ms/step - loss: 0.4059 - mean_absolute_error: 0.4690 - val_loss: 0.7077 - val_mean_absolute_error: 0.6775\n",
            "Epoch 74/100\n",
            "282/282 [==============================] - 1s 3ms/step - loss: 0.4087 - mean_absolute_error: 0.4622 - val_loss: 0.4023 - val_mean_absolute_error: 0.5063\n",
            "Epoch 75/100\n",
            "282/282 [==============================] - 1s 3ms/step - loss: 0.4061 - mean_absolute_error: 0.4584 - val_loss: 0.2294 - val_mean_absolute_error: 0.3515\n",
            "Epoch 76/100\n",
            "282/282 [==============================] - 1s 3ms/step - loss: 0.3987 - mean_absolute_error: 0.4759 - val_loss: 0.1113 - val_mean_absolute_error: 0.1515\n",
            "Epoch 77/100\n",
            "282/282 [==============================] - 1s 3ms/step - loss: 0.4046 - mean_absolute_error: 0.4821 - val_loss: 0.7856 - val_mean_absolute_error: 0.7017\n",
            "Epoch 78/100\n",
            "282/282 [==============================] - 1s 3ms/step - loss: 0.4101 - mean_absolute_error: 0.4600 - val_loss: 0.5618 - val_mean_absolute_error: 0.6216\n",
            "Epoch 79/100\n",
            "282/282 [==============================] - 1s 3ms/step - loss: 0.4003 - mean_absolute_error: 0.4612 - val_loss: 0.2339 - val_mean_absolute_error: 0.3494\n",
            "Epoch 80/100\n",
            "282/282 [==============================] - 1s 3ms/step - loss: 0.3997 - mean_absolute_error: 0.4758 - val_loss: 1.1576 - val_mean_absolute_error: 0.9600\n",
            "Epoch 81/100\n",
            "282/282 [==============================] - 1s 3ms/step - loss: 0.4116 - mean_absolute_error: 0.4602 - val_loss: 0.7081 - val_mean_absolute_error: 0.6557\n",
            "Epoch 82/100\n",
            "282/282 [==============================] - 1s 3ms/step - loss: 0.3961 - mean_absolute_error: 0.4744 - val_loss: 0.1925 - val_mean_absolute_error: 0.3185\n",
            "Epoch 83/100\n",
            "282/282 [==============================] - 1s 3ms/step - loss: 0.3957 - mean_absolute_error: 0.4586 - val_loss: 0.2051 - val_mean_absolute_error: 0.2610\n",
            "Epoch 84/100\n",
            "282/282 [==============================] - 1s 3ms/step - loss: 0.3875 - mean_absolute_error: 0.4698 - val_loss: 0.7699 - val_mean_absolute_error: 0.6896\n",
            "Epoch 85/100\n",
            "282/282 [==============================] - 1s 3ms/step - loss: 0.4100 - mean_absolute_error: 0.4739 - val_loss: 0.4236 - val_mean_absolute_error: 0.4797\n",
            "Epoch 86/100\n",
            "282/282 [==============================] - 1s 3ms/step - loss: 0.3944 - mean_absolute_error: 0.4469 - val_loss: 0.5368 - val_mean_absolute_error: 0.5568\n",
            "Epoch 87/100\n",
            "282/282 [==============================] - 1s 3ms/step - loss: 0.3937 - mean_absolute_error: 0.4644 - val_loss: 0.3491 - val_mean_absolute_error: 0.4332\n",
            "Epoch 88/100\n",
            "282/282 [==============================] - 1s 3ms/step - loss: 0.4028 - mean_absolute_error: 0.4655 - val_loss: 0.6943 - val_mean_absolute_error: 0.6338\n",
            "Epoch 89/100\n",
            "282/282 [==============================] - 1s 3ms/step - loss: 0.3942 - mean_absolute_error: 0.4649 - val_loss: 2.0695 - val_mean_absolute_error: 1.0928\n",
            "Epoch 90/100\n",
            "282/282 [==============================] - 1s 3ms/step - loss: 0.3967 - mean_absolute_error: 0.4705 - val_loss: 0.9105 - val_mean_absolute_error: 0.7291\n",
            "Epoch 91/100\n",
            "282/282 [==============================] - 1s 3ms/step - loss: 0.3943 - mean_absolute_error: 0.4672 - val_loss: 0.2418 - val_mean_absolute_error: 0.2559\n",
            "Epoch 92/100\n",
            "282/282 [==============================] - 1s 3ms/step - loss: 0.3771 - mean_absolute_error: 0.4487 - val_loss: 0.0629 - val_mean_absolute_error: 0.1450\n",
            "Epoch 93/100\n",
            "282/282 [==============================] - 1s 3ms/step - loss: 0.3965 - mean_absolute_error: 0.4813 - val_loss: 0.9010 - val_mean_absolute_error: 0.7668\n",
            "Epoch 94/100\n",
            "282/282 [==============================] - 1s 3ms/step - loss: 0.3943 - mean_absolute_error: 0.4614 - val_loss: 0.5129 - val_mean_absolute_error: 0.5945\n",
            "Epoch 95/100\n",
            "282/282 [==============================] - 1s 3ms/step - loss: 0.3925 - mean_absolute_error: 0.4836 - val_loss: 0.2195 - val_mean_absolute_error: 0.2747\n",
            "Epoch 96/100\n",
            "282/282 [==============================] - 1s 3ms/step - loss: 0.3802 - mean_absolute_error: 0.4375 - val_loss: 0.1125 - val_mean_absolute_error: 0.2411\n",
            "Epoch 97/100\n",
            "282/282 [==============================] - 1s 3ms/step - loss: 0.3875 - mean_absolute_error: 0.4630 - val_loss: 0.5084 - val_mean_absolute_error: 0.5589\n",
            "Epoch 98/100\n",
            "282/282 [==============================] - 2s 6ms/step - loss: 0.3896 - mean_absolute_error: 0.4549 - val_loss: 0.1470 - val_mean_absolute_error: 0.2038\n",
            "Epoch 99/100\n",
            "282/282 [==============================] - 2s 9ms/step - loss: 0.3849 - mean_absolute_error: 0.4583 - val_loss: 0.0604 - val_mean_absolute_error: 0.1379\n",
            "Epoch 100/100\n",
            "282/282 [==============================] - 2s 9ms/step - loss: 0.3880 - mean_absolute_error: 0.4587 - val_loss: 0.3927 - val_mean_absolute_error: 0.4633\n"
          ]
        }
      ]
    },
    {
      "cell_type": "markdown",
      "source": [
        "Hemos probado con los siguientes Hiperparámetros:\n",
        "\n",
        "* epochs=100\n",
        "* batch_size=64\n",
        "\n",
        "En las siguientes gráficas se mostrarán tanto la pérdida como la precisión de los datos de entrenamiento y validación. "
      ],
      "metadata": {
        "id": "w4kTJP7BGGQ1"
      }
    },
    {
      "cell_type": "code",
      "source": [
        "mae_history = history.history['val_mean_absolute_error']"
      ],
      "metadata": {
        "id": "o2Lu8CaT_ELR"
      },
      "execution_count": 16,
      "outputs": []
    },
    {
      "cell_type": "code",
      "source": [
        "mse_history = history.history['val_loss']\n"
      ],
      "metadata": {
        "id": "pvfxHvEB_EFJ"
      },
      "execution_count": 17,
      "outputs": []
    },
    {
      "cell_type": "code",
      "source": [
        "import matplotlib.pyplot as plt\n",
        "\n",
        "plt.plot(range(1, len(mse_history) + 1), mse_history)\n",
        "plt.title('Épocas en el eje de abcisas contra pérdida (MSE)')\n",
        "plt.xlabel('Epochs')\n",
        "plt.ylabel('Validación MSE')\n",
        "plt.show()"
      ],
      "metadata": {
        "colab": {
          "base_uri": "https://localhost:8080/",
          "height": 297
        },
        "id": "CAsjX0Ah_DvB",
        "outputId": "7c16c19a-edc7-4e24-aaa1-f238d14009c6"
      },
      "execution_count": 18,
      "outputs": [
        {
          "output_type": "display_data",
          "data": {
            "text/plain": [
              "<Figure size 432x288 with 1 Axes>"
            ],
            "image/png": "[encoded data removed]"
          },
          "metadata": {
            "needs_background": "light"
          }
        }
      ]
    },
    {
      "cell_type": "code",
      "source": [
        "import matplotlib.pyplot as plt\n",
        "\n",
        "loss = history.history['loss']\n",
        "val_loss = history.history['val_loss']\n",
        "\n",
        "epochs = range(1, len(loss) + 1)\n",
        "\n",
        "plt.plot(epochs, loss, 'bo', label='Pérdida del entreno')\n",
        "plt.plot(epochs, val_loss, 'b', label='Pérdida de la validación')\n",
        "plt.title('Pérdidas del entreno y la validación')\n",
        "plt.xlabel('Épocas')\n",
        "plt.ylabel('Pérdida')\n",
        "plt.legend()\n",
        "\n",
        "plt.show()"
      ],
      "metadata": {
        "colab": {
          "base_uri": "https://localhost:8080/",
          "height": 297
        },
        "id": "M23rkviIA3RK",
        "outputId": "8b47855b-2b31-4177-ac3a-c08dc1c64ce5"
      },
      "execution_count": 19,
      "outputs": [
        {
          "output_type": "display_data",
          "data": {
            "text/plain": [
              "<Figure size 432x288 with 1 Axes>"
            ],
            "image/png": "[encoded data removed]"
          },
          "metadata": {
            "needs_background": "light"
          }
        }
      ]
    },
    {
      "cell_type": "code",
      "source": [
        "# 4. Confrontar en una gráfica de épocas en el eje de abcisas contra la métrica de \n",
        "# error absoluto medio (MAE) \n",
        "import matplotlib.pyplot as plt\n",
        "\n",
        "plt.plot(range(1, len(mae_history) + 1), mae_history)\n",
        "plt.title('Épocas en el eje de abcisas contra métrica MAE')\n",
        "plt.xlabel('Epochs')\n",
        "plt.ylabel('Validación MAE')\n",
        "plt.show()"
      ],
      "metadata": {
        "colab": {
          "base_uri": "https://localhost:8080/",
          "height": 297
        },
        "id": "2qb2fmsbBE31",
        "outputId": "72f87608-cb77-4749-80cd-40be8fdc5776"
      },
      "execution_count": 20,
      "outputs": [
        {
          "output_type": "display_data",
          "data": {
            "text/plain": [
              "<Figure size 432x288 with 1 Axes>"
            ],
            "image/png": "[encoded data removed]"
          },
          "metadata": {
            "needs_background": "light"
          }
        }
      ]
    },
    {
      "cell_type": "code",
      "source": [
        "# Por último se realiza una gráfica para comparar el mae de entreno y validación\n",
        "\n",
        "import matplotlib.pyplot as plt\n",
        "\n",
        "loss = history.history['mean_absolute_error']\n",
        "val_loss = history.history['val_mean_absolute_error']\n",
        "\n",
        "epochs = range(1, len(loss) + 1)\n",
        "\n",
        "plt.plot(epochs, loss, 'bo', label='Métrica del entreno')\n",
        "plt.plot(epochs, val_loss, 'b', label='Métrica de la validación')\n",
        "plt.title('Métricas del entreno y la validación')\n",
        "plt.xlabel('Épocas')\n",
        "plt.ylabel('Métrica')\n",
        "plt.legend()\n",
        "\n",
        "plt.show()"
      ],
      "metadata": {
        "colab": {
          "base_uri": "https://localhost:8080/",
          "height": 297
        },
        "id": "gBhCvdABBZ70",
        "outputId": "d0e4ef64-f786-4484-ce45-6160b7ad2b51"
      },
      "execution_count": 21,
      "outputs": [
        {
          "output_type": "display_data",
          "data": {
            "text/plain": [
              "<Figure size 432x288 with 1 Axes>"
            ],
            "image/png": "[encoded data removed]"
          },
          "metadata": {
            "needs_background": "light"
          }
        }
      ]
    },
    {
      "cell_type": "markdown",
      "source": [
        "Tras el análisis de la gráficas se concluye que con 100 épocas de un batch size de 1 se 64 se produce sobreentrenamiento a partir de la décima.\n",
        "\n",
        "Por ellos, tras varios intentos de prueba y error hemos concluido que los Hiperparámetros serán de la siguiente manera:\n",
        "\n",
        "* epochs=10\n",
        "* batch_size=64\n",
        "\n",
        "Con esto hemos conseguido evitar el Sobreentrenamiento, puesto que con un número elevado de épocas se producen pruebas de generalización entre los datos de entrenamiento y los de validación y se produce Overfitting. \n",
        "\n",
        "Por otro lado, hemos mantenido el número de lotes ya que hemos comprobado que esto no afecta a nuestro modelo y para así ver más claramente ver cómo afectaba el número de épocas al entrenamiento. "
      ],
      "metadata": {
        "id": "oZRoVLHzF4CM"
      }
    },
    {
      "cell_type": "code",
      "source": [
        "model1 = models.Sequential()\n",
        "model1.add(layers.Dense(64, activation='relu',\n",
        "                       input_shape=(train_datos.shape[1],)))\n",
        "model1.add(layers.Dense(64, activation='relu'))\n",
        "model1.add(layers.Dense(1))\n",
        "model1.compile(optimizer='rmsprop', loss='mse', \n",
        "              metrics=[tf.keras.metrics.MeanAbsoluteError()])"
      ],
      "metadata": {
        "id": "x_r6fbW0Kekh"
      },
      "execution_count": 22,
      "outputs": []
    },
    {
      "cell_type": "code",
      "source": [
        "# 1. Hacer aquí las particiones de los datos de entrenamiento\n",
        "partial_train_datos = train_datos[:18000]\n",
        "partial_eval_train_datos = train_datos[18001:]\n",
        "partial_train_targets = train_targets[:18000]\n",
        "partial_eval_train_targets = train_targets[18001:]"
      ],
      "metadata": {
        "id": "Xm09M_U-KuAs"
      },
      "execution_count": 23,
      "outputs": []
    },
    {
      "cell_type": "code",
      "source": [
        "history = model1.fit(partial_train_datos, partial_train_targets,\n",
        "            validation_data=(partial_eval_train_datos, partial_eval_train_targets),\n",
        "                        epochs=10, batch_size=64)"
      ],
      "metadata": {
        "colab": {
          "base_uri": "https://localhost:8080/"
        },
        "id": "R6BgqLQyGSXO",
        "outputId": "68f4d0f5-b174-4f26-f87e-8c85cfb0b5a2"
      },
      "execution_count": 24,
      "outputs": [
        {
          "output_type": "stream",
          "name": "stdout",
          "text": [
            "Epoch 1/10\n",
            "282/282 [==============================] - 3s 7ms/step - loss: 4639.0386 - mean_absolute_error: 53.4703 - val_loss: 232.1577 - val_mean_absolute_error: 11.3479\n",
            "Epoch 2/10\n",
            "282/282 [==============================] - 1s 3ms/step - loss: 132.9052 - mean_absolute_error: 8.0108 - val_loss: 74.6153 - val_mean_absolute_error: 6.0040\n",
            "Epoch 3/10\n",
            "282/282 [==============================] - 1s 3ms/step - loss: 53.4638 - mean_absolute_error: 4.5907 - val_loss: 32.4907 - val_mean_absolute_error: 3.4235\n",
            "Epoch 4/10\n",
            "282/282 [==============================] - 1s 3ms/step - loss: 21.9362 - mean_absolute_error: 2.5683 - val_loss: 12.9415 - val_mean_absolute_error: 2.1077\n",
            "Epoch 5/10\n",
            "282/282 [==============================] - 1s 3ms/step - loss: 8.6322 - mean_absolute_error: 1.5662 - val_loss: 5.8503 - val_mean_absolute_error: 1.5160\n",
            "Epoch 6/10\n",
            "282/282 [==============================] - 1s 3ms/step - loss: 3.8375 - mean_absolute_error: 1.1223 - val_loss: 2.1052 - val_mean_absolute_error: 0.7911\n",
            "Epoch 7/10\n",
            "282/282 [==============================] - 1s 3ms/step - loss: 2.0691 - mean_absolute_error: 0.8944 - val_loss: 3.6322 - val_mean_absolute_error: 1.5617\n",
            "Epoch 8/10\n",
            "282/282 [==============================] - 1s 3ms/step - loss: 1.5578 - mean_absolute_error: 0.8032 - val_loss: 1.3757 - val_mean_absolute_error: 0.7587\n",
            "Epoch 9/10\n",
            "282/282 [==============================] - 1s 3ms/step - loss: 1.2518 - mean_absolute_error: 0.7433 - val_loss: 1.1326 - val_mean_absolute_error: 0.7648\n",
            "Epoch 10/10\n",
            "282/282 [==============================] - 1s 4ms/step - loss: 1.0887 - mean_absolute_error: 0.6865 - val_loss: 1.3000 - val_mean_absolute_error: 0.9460\n"
          ]
        }
      ]
    },
    {
      "cell_type": "code",
      "source": [
        "mae_history = history.history['val_mean_absolute_error']"
      ],
      "metadata": {
        "id": "fuBUZA1RInGl"
      },
      "execution_count": 25,
      "outputs": []
    },
    {
      "cell_type": "code",
      "source": [
        "mse_history = history.history['val_loss']\n"
      ],
      "metadata": {
        "id": "GOHePT4wInGy"
      },
      "execution_count": 26,
      "outputs": []
    },
    {
      "cell_type": "code",
      "source": [
        "import matplotlib.pyplot as plt\n",
        "\n",
        "plt.plot(range(1, len(mse_history) + 1), mse_history)\n",
        "plt.title('Épocas en el eje de abcisas contra pérdida (MSE)')\n",
        "plt.xlabel('Epochs')\n",
        "plt.ylabel('Validación MSE')\n",
        "plt.show()"
      ],
      "metadata": {
        "colab": {
          "base_uri": "https://localhost:8080/",
          "height": 297
        },
        "outputId": "053b80b3-5d36-4f7b-ab7e-c07dd033b826",
        "id": "8aIw6-3IInGy"
      },
      "execution_count": 27,
      "outputs": [
        {
          "output_type": "display_data",
          "data": {
            "text/plain": [
              "<Figure size 432x288 with 1 Axes>"
            ],
            "image/png": "[encoded data removed]"
          },
          "metadata": {
            "needs_background": "light"
          }
        }
      ]
    },
    {
      "cell_type": "code",
      "source": [
        "import matplotlib.pyplot as plt\n",
        "\n",
        "loss = history.history['loss']\n",
        "val_loss = history.history['val_loss']\n",
        "\n",
        "epochs = range(1, len(loss) + 1)\n",
        "\n",
        "plt.plot(epochs, loss, 'bo', label='Pérdida del entreno')\n",
        "plt.plot(epochs, val_loss, 'b', label='Pérdida de la validación')\n",
        "plt.title('Pérdidas del entreno y la validación')\n",
        "plt.xlabel('Épocas')\n",
        "plt.ylabel('Pérdida')\n",
        "plt.legend()\n",
        "\n",
        "plt.show()"
      ],
      "metadata": {
        "colab": {
          "base_uri": "https://localhost:8080/",
          "height": 297
        },
        "outputId": "d1bca090-4451-44b6-fd8c-d4d0f532c4d4",
        "id": "a_GymjkzInGy"
      },
      "execution_count": 28,
      "outputs": [
        {
          "output_type": "display_data",
          "data": {
            "text/plain": [
              "<Figure size 432x288 with 1 Axes>"
            ],
            "image/png": "[encoded data removed]"
          },
          "metadata": {
            "needs_background": "light"
          }
        }
      ]
    },
    {
      "cell_type": "code",
      "source": [
        "# 4. Confrontar en una gráfica de épocas en el eje de abcisas contra la métrica de \n",
        "# error absoluto medio (MAE) \n",
        "import matplotlib.pyplot as plt\n",
        "\n",
        "plt.plot(range(1, len(mae_history) + 1), mae_history)\n",
        "plt.title('Épocas en el eje de abcisas contra métrica MAE')\n",
        "plt.xlabel('Epochs')\n",
        "plt.ylabel('Validación MAE')\n",
        "plt.show()"
      ],
      "metadata": {
        "colab": {
          "base_uri": "https://localhost:8080/",
          "height": 297
        },
        "outputId": "08bcfffb-a1c1-4fae-9889-7b5539987e95",
        "id": "hofhP6MdInGz"
      },
      "execution_count": 29,
      "outputs": [
        {
          "output_type": "display_data",
          "data": {
            "text/plain": [
              "<Figure size 432x288 with 1 Axes>"
            ],
            "image/png": "[encoded data removed]"
          },
          "metadata": {
            "needs_background": "light"
          }
        }
      ]
    },
    {
      "cell_type": "code",
      "source": [
        "# Por último se realiza una gráfica para comparar el mae de entreno y validación\n",
        "\n",
        "import matplotlib.pyplot as plt\n",
        "\n",
        "loss = history.history['mean_absolute_error']\n",
        "val_loss = history.history['val_mean_absolute_error']\n",
        "\n",
        "epochs = range(1, len(loss) + 1)\n",
        "\n",
        "plt.plot(epochs, loss, 'bo', label='Métrica del entreno')\n",
        "plt.plot(epochs, val_loss, 'b', label='Métrica de la validación')\n",
        "plt.title('Métricas del entreno y la validación')\n",
        "plt.xlabel('Épocas')\n",
        "plt.ylabel('Métrica')\n",
        "plt.legend()\n",
        "\n",
        "plt.show()"
      ],
      "metadata": {
        "colab": {
          "base_uri": "https://localhost:8080/",
          "height": 297
        },
        "outputId": "9cb07c5f-73d2-4bc6-a361-b3d21c3c95bf",
        "id": "ffiSWazcInGz"
      },
      "execution_count": 30,
      "outputs": [
        {
          "output_type": "display_data",
          "data": {
            "text/plain": [
              "<Figure size 432x288 with 1 Axes>"
            ],
            "image/png": "[encoded data removed]"
          },
          "metadata": {
            "needs_background": "light"
          }
        }
      ]
    },
    {
      "cell_type": "markdown",
      "source": [
        "Con 10 épocas se observa que el modelo converge y se estabiliza en un momento muy temprano. Es por este motivo que se puede sospechar un funcionamiento extraño de la red, y por lo que se llevará a cabo una nueva prueba. Este nuevo modelo se constituirá por:\n",
        "* epochs=10\n",
        "* batch_size=1"
      ],
      "metadata": {
        "id": "K5mJ5FtdHyYg"
      }
    },
    {
      "cell_type": "code",
      "source": [
        "model11 = models.Sequential()\n",
        "model11.add(layers.Dense(64, activation='relu',\n",
        "                       input_shape=(train_datos.shape[1],)))\n",
        "model11.add(layers.Dense(64, activation='relu'))\n",
        "model11.add(layers.Dense(1))\n",
        "model11.compile(optimizer='rmsprop', loss='mse', \n",
        "              metrics=[tf.keras.metrics.MeanAbsoluteError()])"
      ],
      "metadata": {
        "id": "y6mD-CPXJmG8"
      },
      "execution_count": 43,
      "outputs": []
    },
    {
      "cell_type": "code",
      "source": [
        "# 1. Hacer aquí las particiones de los datos de entrenamiento\n",
        "partial_train_datos = train_datos[:18000]\n",
        "partial_eval_train_datos = train_datos[18001:]\n",
        "partial_train_targets = train_targets[:18000]\n",
        "partial_eval_train_targets = train_targets[18001:]"
      ],
      "metadata": {
        "id": "GPnd7n2aKCu2"
      },
      "execution_count": 44,
      "outputs": []
    },
    {
      "cell_type": "code",
      "source": [
        "history = model11.fit(partial_train_datos, partial_train_targets,\n",
        "            validation_data=(partial_eval_train_datos, partial_eval_train_targets),\n",
        "                        epochs=10, batch_size=1)"
      ],
      "metadata": {
        "colab": {
          "base_uri": "https://localhost:8080/"
        },
        "outputId": "f7e11924-77fb-49d8-91e1-726a82d3bad2",
        "id": "UYCJicrbJmG-"
      },
      "execution_count": 45,
      "outputs": [
        {
          "output_type": "stream",
          "name": "stdout",
          "text": [
            "Epoch 1/10\n",
            "18000/18000 [==============================] - 58s 3ms/step - loss: 209.4191 - mean_absolute_error: 4.8640 - val_loss: 19.9448 - val_mean_absolute_error: 1.6429\n",
            "Epoch 2/10\n",
            "18000/18000 [==============================] - 62s 3ms/step - loss: 14.5637 - mean_absolute_error: 1.4119 - val_loss: 10.9723 - val_mean_absolute_error: 1.8699\n",
            "Epoch 3/10\n",
            "18000/18000 [==============================] - 57s 3ms/step - loss: 6.0410 - mean_absolute_error: 1.0955 - val_loss: 4.1760 - val_mean_absolute_error: 1.2096\n",
            "Epoch 4/10\n",
            "18000/18000 [==============================] - 47s 3ms/step - loss: 3.1481 - mean_absolute_error: 0.8924 - val_loss: 1.5324 - val_mean_absolute_error: 0.6451\n",
            "Epoch 5/10\n",
            "18000/18000 [==============================] - 47s 3ms/step - loss: 2.9244 - mean_absolute_error: 0.8047 - val_loss: 4.2683 - val_mean_absolute_error: 1.5465\n",
            "Epoch 6/10\n",
            "18000/18000 [==============================] - 45s 2ms/step - loss: 2.7550 - mean_absolute_error: 0.7624 - val_loss: 2.6154 - val_mean_absolute_error: 0.6629\n",
            "Epoch 7/10\n",
            "18000/18000 [==============================] - 67s 4ms/step - loss: 3.5765 - mean_absolute_error: 0.7259 - val_loss: 1.7655 - val_mean_absolute_error: 0.5725\n",
            "Epoch 8/10\n",
            "18000/18000 [==============================] - 52s 3ms/step - loss: 2.8759 - mean_absolute_error: 0.6763 - val_loss: 5.1259 - val_mean_absolute_error: 0.5284\n",
            "Epoch 9/10\n",
            "18000/18000 [==============================] - 51s 3ms/step - loss: 2.9402 - mean_absolute_error: 0.6637 - val_loss: 4.3824 - val_mean_absolute_error: 0.4788\n",
            "Epoch 10/10\n",
            "18000/18000 [==============================] - 42s 2ms/step - loss: 2.7560 - mean_absolute_error: 0.6374 - val_loss: 1.8304 - val_mean_absolute_error: 0.6627\n"
          ]
        }
      ]
    },
    {
      "cell_type": "code",
      "source": [
        "mae_history = history.history['val_mean_absolute_error']"
      ],
      "metadata": {
        "id": "7_KTmUISJmG_"
      },
      "execution_count": 46,
      "outputs": []
    },
    {
      "cell_type": "code",
      "source": [
        "mse_history = history.history['val_loss']\n"
      ],
      "metadata": {
        "id": "T1wnPyReJmG_"
      },
      "execution_count": 47,
      "outputs": []
    },
    {
      "cell_type": "code",
      "source": [
        "import matplotlib.pyplot as plt\n",
        "\n",
        "plt.plot(range(1, len(mse_history) + 1), mse_history)\n",
        "plt.title('Épocas en el eje de abcisas contra pérdida (MSE)')\n",
        "plt.xlabel('Epochs')\n",
        "plt.ylabel('Validación MSE')\n",
        "plt.show()"
      ],
      "metadata": {
        "colab": {
          "base_uri": "https://localhost:8080/",
          "height": 297
        },
        "outputId": "ce29fd88-2752-4637-ed0e-29872a3492f4",
        "id": "MZW2evuwJmHA"
      },
      "execution_count": 48,
      "outputs": [
        {
          "output_type": "display_data",
          "data": {
            "text/plain": [
              "<Figure size 432x288 with 1 Axes>"
            ],
            "image/png": "[encoded data removed]"
          },
          "metadata": {
            "needs_background": "light"
          }
        }
      ]
    },
    {
      "cell_type": "code",
      "source": [
        "import matplotlib.pyplot as plt\n",
        "\n",
        "loss = history.history['loss']\n",
        "val_loss = history.history['val_loss']\n",
        "\n",
        "epochs = range(1, len(loss) + 1)\n",
        "\n",
        "plt.plot(epochs, loss, 'bo', label='Pérdida del entreno')\n",
        "plt.plot(epochs, val_loss, 'b', label='Pérdida de la validación')\n",
        "plt.title('Pérdidas del entreno y la validación')\n",
        "plt.xlabel('Épocas')\n",
        "plt.ylabel('Pérdida')\n",
        "plt.legend()\n",
        "\n",
        "plt.show()"
      ],
      "metadata": {
        "colab": {
          "base_uri": "https://localhost:8080/",
          "height": 297
        },
        "outputId": "f3272b90-6544-4497-9a9e-d619e6f4775f",
        "id": "aUooWxISJmHB"
      },
      "execution_count": 49,
      "outputs": [
        {
          "output_type": "display_data",
          "data": {
            "text/plain": [
              "<Figure size 432x288 with 1 Axes>"
            ],
            "image/png": "[encoded data removed]"
          },
          "metadata": {
            "needs_background": "light"
          }
        }
      ]
    },
    {
      "cell_type": "code",
      "source": [
        "# 4. Confrontar en una gráfica de épocas en el eje de abcisas contra la métrica de \n",
        "# error absoluto medio (MAE) \n",
        "import matplotlib.pyplot as plt\n",
        "\n",
        "plt.plot(range(1, len(mae_history) + 1), mae_history)\n",
        "plt.title('Épocas en el eje de abcisas contra métrica MAE')\n",
        "plt.xlabel('Epochs')\n",
        "plt.ylabel('Validación MAE')\n",
        "plt.show()"
      ],
      "metadata": {
        "colab": {
          "base_uri": "https://localhost:8080/",
          "height": 297
        },
        "outputId": "9315c0e9-be2e-43ed-a3cb-ed7f251768e1",
        "id": "4aas6KZiJmHC"
      },
      "execution_count": 50,
      "outputs": [
        {
          "output_type": "display_data",
          "data": {
            "text/plain": [
              "<Figure size 432x288 with 1 Axes>"
            ],
            "image/png": "[encoded data removed]"
          },
          "metadata": {
            "needs_background": "light"
          }
        }
      ]
    },
    {
      "cell_type": "code",
      "source": [
        "# Por último se realiza una gráfica para comparar el mae de entreno y validación\n",
        "\n",
        "import matplotlib.pyplot as plt\n",
        "\n",
        "loss = history.history['mean_absolute_error']\n",
        "val_loss = history.history['val_mean_absolute_error']\n",
        "\n",
        "epochs = range(1, len(loss) + 1)\n",
        "\n",
        "plt.plot(epochs, loss, 'bo', label='Métrica del entreno')\n",
        "plt.plot(epochs, val_loss, 'b', label='Métrica de la validación')\n",
        "plt.title('Métricas del entreno y la validación')\n",
        "plt.xlabel('Épocas')\n",
        "plt.ylabel('Métrica')\n",
        "plt.legend()\n",
        "\n",
        "plt.show()"
      ],
      "metadata": {
        "colab": {
          "base_uri": "https://localhost:8080/",
          "height": 297
        },
        "outputId": "e39ed048-1f1f-4940-ebc7-bb79ad0ed11b",
        "id": "0QxyUJ7pJmHD"
      },
      "execution_count": 51,
      "outputs": [
        {
          "output_type": "display_data",
          "data": {
            "text/plain": [
              "<Figure size 432x288 with 1 Axes>"
            ],
            "image/png": "[encoded data removed]"
          },
          "metadata": {
            "needs_background": "light"
          }
        }
      ]
    },
    {
      "cell_type": "markdown",
      "source": [
        "Cabe destacar que la diferencia que hay entre un batch_size de 1 con respecto a un batch_size de 64 radica en una preferencia por la precisión en el primer caso o la rapidez en el segundo. \n",
        "\n",
        "La diferencia significativa está en la Métrica MAE ya que la validación se separa en la época 5. Por lo restante no hemos encontrado diferencias significativas a parte del coste computacional."
      ],
      "metadata": {
        "id": "SGX9yCKvMjxs"
      }
    },
    {
      "cell_type": "markdown",
      "source": [
        "## Validando nuestro enfoque usando la validación K-fold o K-iteraciones"
      ],
      "metadata": {
        "id": "hrEg848jBsy7"
      }
    },
    {
      "cell_type": "markdown",
      "source": [
        "A continuación se seguirá el método de K-folds como método de evaluación. \n",
        "\n",
        "Este método divide el set de datos en k grupos de la misma dimensión de forma que se van validando uno a uno en cada iteración cambiando de grupo los datos de entrenamiento con los de validación. \n",
        "\n",
        "El Final Score es la media de los diferentes scores de cada iteración."
      ],
      "metadata": {
        "id": "rcDbKPhbKOMh"
      }
    },
    {
      "cell_type": "code",
      "source": [
        "import numpy as np\n",
        "\n",
        "k = 4\n",
        "num_val_samples = len(train_datos) // k \n",
        "print(\"num_val_samples\", num_val_samples)\n",
        "num_epochs = 20\n",
        "all_scores = []\n",
        "for i in range(k):\n",
        "    print('processing fold #', i)\n",
        "    print(\"Uso para validar el siguiente rango de datos de entrenamiento -> [\",(i * num_val_samples),\":\",((i + 1) * num_val_samples),\"]\")\n",
        "    val_data = train_datos[i * num_val_samples: (i + 1) * num_val_samples]\n",
        "    val_targets = train_targets[i * num_val_samples: (i + 1) * num_val_samples]\n",
        "    print(\"Uso para entrenar el siguiente rango de datos de entrenamiento -> [0:\",(i * num_val_samples),\"]U[\",(i + 1) * num_val_samples,\":\",len(train_datos),\"]\")\n",
        "    partial_train_data = np.concatenate(\n",
        "        [train_datos[:i * num_val_samples],\n",
        "         train_datos[(i + 1) * num_val_samples:]],\n",
        "        axis=0)\n",
        "    partial_train_targets = np.concatenate(\n",
        "        [train_targets[:i * num_val_samples],\n",
        "         train_targets[(i + 1) * num_val_samples:]],\n",
        "        axis=0)\n",
        "  # Construcción del modelo Keras (ya compilado)\n",
        "    model3 = models.Sequential()\n",
        "    model3.add(layers.Dense(64, activation='relu',\n",
        "                           input_shape=(train_datos.shape[1],)))\n",
        "    model3.add(layers.Dense(64, activation='relu'))\n",
        "    model3.add(layers.Dense(1))\n",
        "    model3.compile(optimizer='rmsprop', loss='mse', \n",
        "                  metrics=[tf.keras.metrics.MeanAbsoluteError()])\n",
        "    \n",
        "    # Entrenando el modelo (en modo silencioso, verbose=0)\n",
        "    history = model3.fit(partial_train_data, partial_train_targets,\n",
        "                        validation_data=(val_data, val_targets),\n",
        "                        epochs=num_epochs, batch_size=64, verbose=0)\n",
        "    val_mse, val_mae = model3.evaluate(val_data, val_targets, verbose=0)\n",
        "    all_scores.append(val_mae)"
      ],
      "metadata": {
        "id": "24TTGFvICnDt",
        "colab": {
          "base_uri": "https://localhost:8080/"
        },
        "outputId": "fdb07809-c6ef-4393-b6ea-bbaeacd8d4c4"
      },
      "execution_count": 52,
      "outputs": [
        {
          "output_type": "stream",
          "name": "stdout",
          "text": [
            "num_val_samples 6250\n",
            "processing fold # 0\n",
            "Uso para validar el siguiente rango de datos de entrenamiento -> [ 0 : 6250 ]\n",
            "Uso para entrenar el siguiente rango de datos de entrenamiento -> [0: 0 ]U[ 6250 : 25000 ]\n",
            "processing fold # 1\n",
            "Uso para validar el siguiente rango de datos de entrenamiento -> [ 6250 : 12500 ]\n",
            "Uso para entrenar el siguiente rango de datos de entrenamiento -> [0: 6250 ]U[ 12500 : 25000 ]\n",
            "processing fold # 2\n",
            "Uso para validar el siguiente rango de datos de entrenamiento -> [ 12500 : 18750 ]\n",
            "Uso para entrenar el siguiente rango de datos de entrenamiento -> [0: 12500 ]U[ 18750 : 25000 ]\n",
            "processing fold # 3\n",
            "Uso para validar el siguiente rango de datos de entrenamiento -> [ 18750 : 25000 ]\n",
            "Uso para entrenar el siguiente rango de datos de entrenamiento -> [0: 18750 ]U[ 25000 : 25000 ]\n"
          ]
        }
      ]
    },
    {
      "cell_type": "code",
      "source": [
        "all_scores"
      ],
      "metadata": {
        "colab": {
          "base_uri": "https://localhost:8080/"
        },
        "id": "2Y_XT1V1LNp3",
        "outputId": "bf57dcff-c692-4238-b705-56d94a69d91b"
      },
      "execution_count": 53,
      "outputs": [
        {
          "output_type": "execute_result",
          "data": {
            "text/plain": [
              "[0.5899962782859802,\n",
              " 0.3290269076824188,\n",
              " 0.9124293923377991,\n",
              " 0.5326878428459167]"
            ]
          },
          "metadata": {},
          "execution_count": 53
        }
      ]
    },
    {
      "cell_type": "code",
      "source": [
        "np.mean(all_scores)"
      ],
      "metadata": {
        "colab": {
          "base_uri": "https://localhost:8080/"
        },
        "id": "4Odd16a2LN4t",
        "outputId": "dc519385-7959-42c5-cf7c-e37a832f8770"
      },
      "execution_count": 54,
      "outputs": [
        {
          "output_type": "execute_result",
          "data": {
            "text/plain": [
              "0.5910351052880287"
            ]
          },
          "metadata": {},
          "execution_count": 54
        }
      ]
    },
    {
      "cell_type": "markdown",
      "source": [
        "Vemos que los puntajes de validación son parecidos y que la media de estos es: 0.59. \n",
        "\n",
        "A continuación, entrenaremos el modelo con 100 iteraciones y lo graficaremos para ver los resultados. "
      ],
      "metadata": {
        "id": "wp3R8pmXOKeG"
      }
    },
    {
      "cell_type": "code",
      "source": [
        "from keras import backend as K\n",
        "\n",
        "# Some memory clean-up\n",
        "K.clear_session()"
      ],
      "metadata": {
        "id": "e3fAxWkVLYxG"
      },
      "execution_count": 62,
      "outputs": []
    },
    {
      "cell_type": "code",
      "source": [
        "num_epochs = 100\n",
        "all_mae_histories = []\n",
        "for i in range(k):\n",
        "    print('processing fold #', i)\n",
        "    # Preparamos la validación de los datos: datos de la partición # k\n",
        "    print(\"Uso para validar el siguiente rango de datos de entrenamiento -> [\",(i * num_val_samples),\":\",((i + 1) * num_val_samples),\"]\")\n",
        "    val_data = train_datos[i * num_val_samples: (i + 1) * num_val_samples]\n",
        "    val_targets = train_targets[i * num_val_samples: (i + 1) * num_val_samples]\n",
        "\n",
        "    # Preparamos los datos de entrenamiento: Datos de todas la demás particiones\n",
        "    print(\"Uso para entrenar el siguiente rango de datos de entrenamiento -> [0:\",(i * num_val_samples),\"]U[\",(i + 1) * num_val_samples,\":\",len(train_datos),\"]\")\n",
        "    partial_train_data = np.concatenate(\n",
        "        [train_datos[:i * num_val_samples],\n",
        "         train_datos[(i + 1) * num_val_samples:]],\n",
        "        axis=0)\n",
        "    partial_train_targets = np.concatenate(\n",
        "        [train_targets[:i * num_val_samples],\n",
        "         train_targets[(i + 1) * num_val_samples:]],\n",
        "        axis=0)\n",
        "\n",
        "    # Construcción del modelo Keras (ya compilado)\n",
        "    model4 = models.Sequential()\n",
        "    model4.add(layers.Dense(64, activation='relu',\n",
        "                           input_shape=(train_datos.shape[1],)))\n",
        "    model4.add(layers.Dense(64, activation='relu'))\n",
        "    model4.add(layers.Dense(1))\n",
        "    model4.compile(optimizer='rmsprop', loss='mse', \n",
        "                  metrics=[tf.keras.metrics.MeanAbsoluteError()])\n",
        "    \n",
        "    # Entrenando el modelo (en modo silencioso, verbose=0)\n",
        "    history = model4.fit(partial_train_data, partial_train_targets,\n",
        "                        validation_data=(val_data, val_targets),\n",
        "                        epochs=num_epochs, batch_size=64, verbose=0)\n",
        "    mae_history = history.history['val_mean_absolute_error']\n",
        "    all_mae_histories.append(mae_history)"
      ],
      "metadata": {
        "colab": {
          "base_uri": "https://localhost:8080/"
        },
        "id": "zdfuKjiuLcnF",
        "outputId": "56d6075d-f746-4b47-8b59-8db726715bdd"
      },
      "execution_count": 56,
      "outputs": [
        {
          "output_type": "stream",
          "name": "stdout",
          "text": [
            "processing fold # 0\n",
            "Uso para validar el siguiente rango de datos de entrenamiento -> [ 0 : 6250 ]\n",
            "Uso para entrenar el siguiente rango de datos de entrenamiento -> [0: 0 ]U[ 6250 : 25000 ]\n",
            "processing fold # 1\n",
            "Uso para validar el siguiente rango de datos de entrenamiento -> [ 6250 : 12500 ]\n",
            "Uso para entrenar el siguiente rango de datos de entrenamiento -> [0: 6250 ]U[ 12500 : 25000 ]\n",
            "processing fold # 2\n",
            "Uso para validar el siguiente rango de datos de entrenamiento -> [ 12500 : 18750 ]\n",
            "Uso para entrenar el siguiente rango de datos de entrenamiento -> [0: 12500 ]U[ 18750 : 25000 ]\n",
            "processing fold # 3\n",
            "Uso para validar el siguiente rango de datos de entrenamiento -> [ 18750 : 25000 ]\n",
            "Uso para entrenar el siguiente rango de datos de entrenamiento -> [0: 18750 ]U[ 25000 : 25000 ]\n"
          ]
        }
      ]
    },
    {
      "cell_type": "code",
      "source": [
        "average_mae_history = [\n",
        "    np.mean([x[i] for x in all_mae_histories]) for i in range(num_epochs)]"
      ],
      "metadata": {
        "id": "Dxg3KTwEO3fA"
      },
      "execution_count": 57,
      "outputs": []
    },
    {
      "cell_type": "code",
      "source": [
        "import matplotlib.pyplot as plt\n",
        "\n",
        "plt.plot(range(1, len(average_mae_history) + 1), average_mae_history)\n",
        "plt.xlabel('Epochs')\n",
        "plt.ylabel('Validación MAE')\n",
        "plt.show()"
      ],
      "metadata": {
        "colab": {
          "base_uri": "https://localhost:8080/",
          "height": 279
        },
        "id": "fK1Od2KLO3W-",
        "outputId": "a12625f7-755f-475f-b3c9-0d33598ffe95"
      },
      "execution_count": 58,
      "outputs": [
        {
          "output_type": "display_data",
          "data": {
            "text/plain": [
              "<Figure size 432x288 with 1 Axes>"
            ],
            "image/png": "[encoded data removed]"
          },
          "metadata": {
            "needs_background": "light"
          }
        }
      ]
    },
    {
      "cell_type": "code",
      "source": [
        "def smooth_curve(points, factor=0.9):\n",
        "  smoothed_points = []\n",
        "  for point in points:\n",
        "    if smoothed_points:\n",
        "      previous = smoothed_points[-1]\n",
        "      smoothed_points.append(previous * factor + point * (1 - factor))\n",
        "    else:\n",
        "      smoothed_points.append(point)\n",
        "  return smoothed_points\n",
        "\n",
        "smooth_mae_history = smooth_curve(average_mae_history[0:])\n",
        "\n",
        "plt.plot(range(1, len(smooth_mae_history) + 1), smooth_mae_history)\n",
        "plt.xlabel('Repeticiones')\n",
        "plt.ylabel('MAE de validación')\n",
        "plt.show()"
      ],
      "metadata": {
        "colab": {
          "base_uri": "https://localhost:8080/",
          "height": 279
        },
        "id": "J7tKra4hPBHs",
        "outputId": "8d6c8290-3266-4902-879a-49b32667c0e8"
      },
      "execution_count": 59,
      "outputs": [
        {
          "output_type": "display_data",
          "data": {
            "text/plain": [
              "<Figure size 432x288 with 1 Axes>"
            ],
            "image/png": "[encoded data removed]"
          },
          "metadata": {
            "needs_background": "light"
          }
        }
      ]
    },
    {
      "cell_type": "markdown",
      "source": [
        "Según este gráfico, parece que el MAE de validación deja de mejorar significativamente después de 10 repeticiones. Pasado ese punto, comenzamos a sobreajustar."
      ],
      "metadata": {
        "id": "F_F1cmQQO2mG"
      }
    },
    {
      "cell_type": "markdown",
      "source": [
        "Una vez terminado de ajustar otros parámetros de nuestro modelo (además del número de repeticiones, también podríamos ajustar el tamaño de las capas ocultas), podemos entrenar un modelo de \"producción\" final en todos los datos de entrenamiento, con los mejores parámetros, y luego observar su rendimiento en los datos de prueba:"
      ],
      "metadata": {
        "id": "donL_sLuRv_y"
      }
    },
    {
      "cell_type": "code",
      "source": [
        "# Obtenemos un modelo compilado nuevo 10 epoca pq hemos acordado que e slo mejpr, grafica\n",
        "model5 = models.Sequential()\n",
        "model5.add(layers.Dense(64, activation='relu',\n",
        "                        input_shape=(train_datos.shape[1],)))\n",
        "model5.add(layers.Dense(64, activation='relu'))\n",
        "model5.add(layers.Dense(1))\n",
        "model5.compile(optimizer='rmsprop', loss='mse', \n",
        "              metrics=[tf.keras.metrics.MeanAbsoluteError()])\n",
        "# Lo entrenamos en todos los datos.\n",
        "model.fit(train_datos, train_targets,\n",
        "          epochs=10, batch_size=16, verbose=0)\n",
        "test_mse_score, test_mae_score = model.evaluate(test_datos, test_targets)"
      ],
      "metadata": {
        "colab": {
          "base_uri": "https://localhost:8080/"
        },
        "id": "yUyUG1x-R0rA",
        "outputId": "d24d4927-df0c-43cc-cc6d-a5af77ea5405"
      },
      "execution_count": 60,
      "outputs": [
        {
          "output_type": "stream",
          "name": "stdout",
          "text": [
            "353/353 [==============================] - 1s 2ms/step - loss: 0.6442 - mean_absolute_error: 0.6723\n"
          ]
        }
      ]
    },
    {
      "cell_type": "code",
      "source": [
        "test_mae_score\n"
      ],
      "metadata": {
        "id": "h_Escu5GTAVi",
        "outputId": "16077cc5-eac2-41dd-c2d6-537c9b7a4187",
        "colab": {
          "base_uri": "https://localhost:8080/"
        }
      },
      "execution_count": 61,
      "outputs": [
        {
          "output_type": "execute_result",
          "data": {
            "text/plain": [
              "0.6723129153251648"
            ]
          },
          "metadata": {},
          "execution_count": 61
        }
      ]
    },
    {
      "cell_type": "markdown",
      "source": [
        "Todavía hay una desviación de alrededor de 0.67 dólares\n",
        "En los modelos previos la precisión era parecida."
      ],
      "metadata": {
        "id": "oClCe-J1PR-q"
      }
    },
    {
      "cell_type": "markdown",
      "source": [
        "# HALLAZGOS"
      ],
      "metadata": {
        "id": "cI9seaD4kRes"
      }
    },
    {
      "cell_type": "markdown",
      "source": [
        "Se ha ido comentando las conclusiones a lo largo del código, las conclusiones que hemos obtenido son:\n",
        "\n",
        "* El número de las épocas influye directamente en la decisión del modelo por lo comentado anteriormente. \n",
        "\n",
        "* En el modelo publicado por el profesor, pasaba algo parecido ya que a partir de la iteración 80 la precisión empeoraba. \n",
        "\n",
        "* En este caso, el protocolo de evaluación de k-folds ha resultado en 0.67 de desviación mientras que en los modelos anteriores, en concreto el útlimo con los hiperparámetros modificados a conveniencia de modelo, hemos obtenido 0.66. Por ello, concluimos que el método de K-Folds no es conveniente para este caso (normalmente se utilizan bases con pocos datos). \n",
        "\n",
        "\n",
        "Los resultados obtenidos discrepan con los obtenido en el documento del profesor, sin embargo, no han sido inesperados ya que los resultados no han sido extraños. "
      ],
      "metadata": {
        "id": "_AAUpDLXke6Q"
      }
    },
    {
      "cell_type": "markdown",
      "source": [
        "# TRABAJO FUTURO"
      ],
      "metadata": {
        "id": "9P_OCs6RkRme"
      }
    },
    {
      "cell_type": "markdown",
      "source": [
        "Como cualquier modelo, se puede buscar un Hiperparámetro/s que optimice los resultados. Por ejemplo, el uso de reguladores como dropout o modificación de los datos. \n",
        "\n",
        "No se podrían utilizar regularizadores L1, L2 y L1_L2 ya que no se tratan de imágenes. \n",
        "\n",
        "En cuanto a las aplicaciones tangibles, observamos claras utilidades en el sector servicio ya que se ha observado en la práctica acerca del precio de las casas. "
      ],
      "metadata": {
        "id": "jYTclgbBkfkT"
      }
    },
    {
      "cell_type": "markdown",
      "source": [
        "# REFERENCIAS BIBLIOGRÁFICAS"
      ],
      "metadata": {
        "id": "4Bm4CA1GlNng"
      }
    },
    {
      "cell_type": "markdown",
      "source": [],
      "metadata": {
        "id": "c3c3fteVljjb"
      }
    }
  ]
}